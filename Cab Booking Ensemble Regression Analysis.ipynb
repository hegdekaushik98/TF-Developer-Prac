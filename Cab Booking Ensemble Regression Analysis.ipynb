{
  "nbformat": 4,
  "nbformat_minor": 0,
  "metadata": {
    "colab": {
      "name": "Midterm Cab Booking Project - Kaushik Hegde",
      "provenance": []
    },
    "kernelspec": {
      "name": "python3",
      "display_name": "Python 3"
    },
    "accelerator": "GPU"
  },
  "cells": [
    {
      "cell_type": "markdown",
      "metadata": {
        "id": "Bf7vwEIa2BQj"
      },
      "source": [
        "# **Cab Booking**  Project "
      ]
    },
    {
      "cell_type": "markdown",
      "metadata": {
        "id": "SDjlJHDwtX7e"
      },
      "source": [
        "### Importing the necessary modules and libraries"
      ]
    },
    {
      "cell_type": "code",
      "metadata": {
        "id": "OF6Ra9yvs0p0"
      },
      "source": [
        "# Importing the required modules and libraries\n",
        "\n",
        "import pandas as pd\n",
        "import numpy as np\n",
        "from sklearn.decomposition import PCA\n",
        "import matplotlib.pyplot as plt\n",
        "import seaborn as sns\n",
        "import pandas_profiling as pp\n",
        "from sklearn.model_selection import train_test_split\n",
        "from sklearn.ensemble import RandomForestRegressor\n",
        "from sklearn.linear_model import LinearRegression,Lasso, Ridge\n",
        "from sklearn.preprocessing import StandardScaler\n",
        "from sklearn.impute import SimpleImputer\n",
        "from sklearn.model_selection import GridSearchCV\n",
        "from sklearn.ensemble import AdaBoostRegressor\n",
        "import xgboost as xgb\n",
        "from sklearn.metrics import mean_squared_error, mean_absolute_error\n",
        "from scipy import stats\n",
        "from pandas.api.types import is_string_dtype, is_numeric_dtype\n",
        "from datetime import datetime\n",
        "import calendar\n",
        "%matplotlib inline"
      ],
      "execution_count": null,
      "outputs": []
    },
    {
      "cell_type": "code",
      "metadata": {
        "id": "VSOOwksZs-Wz"
      },
      "source": [
        "# Reading the treain ad test data files and merging target variables\n",
        "df= pd.read_csv('/content/drive/MyDrive/Books Academic/Mid Term Project 1 Data/train.csv')\n",
        "df_testing = pd.read_csv('/content/drive/MyDrive/Books Academic/Mid Term Project 1 Data/test.csv')\n",
        "df_testing_label = pd.read_csv('/content/drive/MyDrive/Books Academic/Mid Term Project 1 Data/test_label.csv',header = None)\n",
        "df_label = pd.read_csv('/content/drive/MyDrive/Books Academic/Mid Term Project 1 Data/train_label.csv',header = None)\n",
        "df['Total_booking'] = df_label\n",
        "df_testing['Total_booking'] = df_testing_label\n"
      ],
      "execution_count": null,
      "outputs": []
    },
    {
      "cell_type": "code",
      "metadata": {
        "colab": {
          "base_uri": "https://localhost:8080/"
        },
        "id": "IQik_qHZtC4o",
        "outputId": "9ffd6eb9-12f1-45c9-f737-63a47277d0b3"
      },
      "source": [
        "print('The shape of training dataset is : ',df.shape)\n",
        "print('The shape of testing dataset is : ',df_testing.shape)"
      ],
      "execution_count": null,
      "outputs": [
        {
          "output_type": "stream",
          "text": [
            "The shape of training dataset is :  (8708, 10)\n",
            "The shape of testing dataset is :  (2178, 10)\n"
          ],
          "name": "stdout"
        }
      ]
    },
    {
      "cell_type": "markdown",
      "metadata": {
        "id": "ufBagn2Qtycj"
      },
      "source": [
        "##Intital Dataset Analysis\n",
        "### Checking categorical and numeric values"
      ]
    },
    {
      "cell_type": "code",
      "metadata": {
        "colab": {
          "base_uri": "https://localhost:8080/",
          "height": 136
        },
        "id": "Pwu0lhlBukM-",
        "outputId": "19a6eefe-b952-461d-9c1a-aefb9d21f488"
      },
      "source": [
        "df.head(3)"
      ],
      "execution_count": null,
      "outputs": [
        {
          "output_type": "execute_result",
          "data": {
            "text/html": [
              "<div>\n",
              "<style scoped>\n",
              "    .dataframe tbody tr th:only-of-type {\n",
              "        vertical-align: middle;\n",
              "    }\n",
              "\n",
              "    .dataframe tbody tr th {\n",
              "        vertical-align: top;\n",
              "    }\n",
              "\n",
              "    .dataframe thead th {\n",
              "        text-align: right;\n",
              "    }\n",
              "</style>\n",
              "<table border=\"1\" class=\"dataframe\">\n",
              "  <thead>\n",
              "    <tr style=\"text-align: right;\">\n",
              "      <th></th>\n",
              "      <th>datetime</th>\n",
              "      <th>season</th>\n",
              "      <th>holiday</th>\n",
              "      <th>workingday</th>\n",
              "      <th>weather</th>\n",
              "      <th>temp</th>\n",
              "      <th>atemp</th>\n",
              "      <th>humidity</th>\n",
              "      <th>windspeed</th>\n",
              "      <th>Total_booking</th>\n",
              "    </tr>\n",
              "  </thead>\n",
              "  <tbody>\n",
              "    <tr>\n",
              "      <th>0</th>\n",
              "      <td>5/2/2012 19:00</td>\n",
              "      <td>Summer</td>\n",
              "      <td>0</td>\n",
              "      <td>1</td>\n",
              "      <td>Clear + Few clouds</td>\n",
              "      <td>22.14</td>\n",
              "      <td>25.760</td>\n",
              "      <td>77</td>\n",
              "      <td>16.9979</td>\n",
              "      <td>504</td>\n",
              "    </tr>\n",
              "    <tr>\n",
              "      <th>1</th>\n",
              "      <td>9/5/2012 4:00</td>\n",
              "      <td>Fall</td>\n",
              "      <td>0</td>\n",
              "      <td>1</td>\n",
              "      <td>Clear + Few clouds</td>\n",
              "      <td>28.70</td>\n",
              "      <td>33.335</td>\n",
              "      <td>79</td>\n",
              "      <td>19.0012</td>\n",
              "      <td>5</td>\n",
              "    </tr>\n",
              "    <tr>\n",
              "      <th>2</th>\n",
              "      <td>1/13/2011 9:00</td>\n",
              "      <td>Spring</td>\n",
              "      <td>0</td>\n",
              "      <td>1</td>\n",
              "      <td>Clear + Few clouds</td>\n",
              "      <td>5.74</td>\n",
              "      <td>6.060</td>\n",
              "      <td>50</td>\n",
              "      <td>22.0028</td>\n",
              "      <td>139</td>\n",
              "    </tr>\n",
              "  </tbody>\n",
              "</table>\n",
              "</div>"
            ],
            "text/plain": [
              "         datetime  season  holiday  ...  humidity windspeed  Total_booking\n",
              "0  5/2/2012 19:00  Summer        0  ...        77   16.9979            504\n",
              "1   9/5/2012 4:00    Fall        0  ...        79   19.0012              5\n",
              "2  1/13/2011 9:00  Spring        0  ...        50   22.0028            139\n",
              "\n",
              "[3 rows x 10 columns]"
            ]
          },
          "metadata": {
            "tags": []
          },
          "execution_count": 277
        }
      ]
    },
    {
      "cell_type": "code",
      "metadata": {
        "colab": {
          "base_uri": "https://localhost:8080/",
          "height": 136
        },
        "id": "Ti-qktzg2R2M",
        "outputId": "bb254ae7-9926-4965-9e07-e815a0cfe9ea"
      },
      "source": [
        "df_testing.head(3)"
      ],
      "execution_count": null,
      "outputs": [
        {
          "output_type": "execute_result",
          "data": {
            "text/html": [
              "<div>\n",
              "<style scoped>\n",
              "    .dataframe tbody tr th:only-of-type {\n",
              "        vertical-align: middle;\n",
              "    }\n",
              "\n",
              "    .dataframe tbody tr th {\n",
              "        vertical-align: top;\n",
              "    }\n",
              "\n",
              "    .dataframe thead th {\n",
              "        text-align: right;\n",
              "    }\n",
              "</style>\n",
              "<table border=\"1\" class=\"dataframe\">\n",
              "  <thead>\n",
              "    <tr style=\"text-align: right;\">\n",
              "      <th></th>\n",
              "      <th>datetime</th>\n",
              "      <th>season</th>\n",
              "      <th>holiday</th>\n",
              "      <th>workingday</th>\n",
              "      <th>weather</th>\n",
              "      <th>temp</th>\n",
              "      <th>atemp</th>\n",
              "      <th>humidity</th>\n",
              "      <th>windspeed</th>\n",
              "      <th>Total_booking</th>\n",
              "    </tr>\n",
              "  </thead>\n",
              "  <tbody>\n",
              "    <tr>\n",
              "      <th>0</th>\n",
              "      <td>5/10/2012 11:00</td>\n",
              "      <td>Summer</td>\n",
              "      <td>0</td>\n",
              "      <td>1</td>\n",
              "      <td>Clear + Few clouds</td>\n",
              "      <td>21.32</td>\n",
              "      <td>25.000</td>\n",
              "      <td>48</td>\n",
              "      <td>35.0008</td>\n",
              "      <td>256</td>\n",
              "    </tr>\n",
              "    <tr>\n",
              "      <th>1</th>\n",
              "      <td>6/9/2012 7:00</td>\n",
              "      <td>Summer</td>\n",
              "      <td>0</td>\n",
              "      <td>0</td>\n",
              "      <td>Clear + Few clouds</td>\n",
              "      <td>23.78</td>\n",
              "      <td>27.275</td>\n",
              "      <td>64</td>\n",
              "      <td>7.0015</td>\n",
              "      <td>87</td>\n",
              "    </tr>\n",
              "    <tr>\n",
              "      <th>2</th>\n",
              "      <td>3/6/2011 20:00</td>\n",
              "      <td>Spring</td>\n",
              "      <td>0</td>\n",
              "      <td>0</td>\n",
              "      <td>Light Snow, Light Rain</td>\n",
              "      <td>11.48</td>\n",
              "      <td>12.120</td>\n",
              "      <td>100</td>\n",
              "      <td>27.9993</td>\n",
              "      <td>11</td>\n",
              "    </tr>\n",
              "  </tbody>\n",
              "</table>\n",
              "</div>"
            ],
            "text/plain": [
              "          datetime  season  holiday  ...  humidity windspeed  Total_booking\n",
              "0  5/10/2012 11:00  Summer        0  ...        48   35.0008            256\n",
              "1    6/9/2012 7:00  Summer        0  ...        64    7.0015             87\n",
              "2   3/6/2011 20:00  Spring        0  ...       100   27.9993             11\n",
              "\n",
              "[3 rows x 10 columns]"
            ]
          },
          "metadata": {
            "tags": []
          },
          "execution_count": 278
        }
      ]
    },
    {
      "cell_type": "code",
      "metadata": {
        "id": "ecAIKZ4StxKR"
      },
      "source": [
        "#Creating categorical feature mask\n",
        "categorical_feature_mask = df.dtypes == object\n",
        "\n",
        "# Get list of categorical column names\n",
        "categorical_columns = df.columns[categorical_feature_mask].tolist()\n",
        "\n",
        "# Get list of non-categorical column names\n",
        "non_categorical_columns = df.columns[~categorical_feature_mask].tolist()"
      ],
      "execution_count": null,
      "outputs": []
    },
    {
      "cell_type": "code",
      "metadata": {
        "colab": {
          "base_uri": "https://localhost:8080/"
        },
        "id": "jQ_I9H-jt587",
        "outputId": "9d7f9065-140f-4a8d-b087-e896f8028e6b"
      },
      "source": [
        "print('The Categorical Columns in the dataset are:',categorical_columns)\n",
        "print('The Numeric Columns in the dataset are:',non_categorical_columns)"
      ],
      "execution_count": null,
      "outputs": [
        {
          "output_type": "stream",
          "text": [
            "The Categorical Columns in the dataset are: ['datetime', 'season', 'weather']\n",
            "The Numeric Columns in the dataset are: ['holiday', 'workingday', 'temp', 'atemp', 'humidity', 'windspeed', 'Total_booking']\n"
          ],
          "name": "stdout"
        }
      ]
    },
    {
      "cell_type": "markdown",
      "metadata": {
        "id": "FSIJojqySGgA"
      },
      "source": [
        "## Missing Values Analysis"
      ]
    },
    {
      "cell_type": "code",
      "metadata": {
        "colab": {
          "base_uri": "https://localhost:8080/"
        },
        "id": "v4MVIDc-vqTW",
        "outputId": "5106cdfa-5a8a-4636-c3af-e858598e8fb0"
      },
      "source": [
        "df.isnull().sum()"
      ],
      "execution_count": null,
      "outputs": [
        {
          "output_type": "execute_result",
          "data": {
            "text/plain": [
              "datetime         0\n",
              "season           0\n",
              "holiday          0\n",
              "workingday       0\n",
              "weather          0\n",
              "temp             0\n",
              "atemp            0\n",
              "humidity         0\n",
              "windspeed        0\n",
              "Total_booking    0\n",
              "dtype: int64"
            ]
          },
          "metadata": {
            "tags": []
          },
          "execution_count": 281
        }
      ]
    },
    {
      "cell_type": "code",
      "metadata": {
        "colab": {
          "base_uri": "https://localhost:8080/"
        },
        "id": "94p_wUZXxNDQ",
        "outputId": "41f39720-6ba5-4359-8fc8-ad05887e829a"
      },
      "source": [
        "df_testing.isnull().sum()"
      ],
      "execution_count": null,
      "outputs": [
        {
          "output_type": "execute_result",
          "data": {
            "text/plain": [
              "datetime         0\n",
              "season           0\n",
              "holiday          0\n",
              "workingday       0\n",
              "weather          0\n",
              "temp             0\n",
              "atemp            0\n",
              "humidity         0\n",
              "windspeed        0\n",
              "Total_booking    0\n",
              "dtype: int64"
            ]
          },
          "metadata": {
            "tags": []
          },
          "execution_count": 282
        }
      ]
    },
    {
      "cell_type": "code",
      "metadata": {
        "colab": {
          "base_uri": "https://localhost:8080/"
        },
        "id": "m20UtWGW7OSp",
        "outputId": "259be263-2c78-424e-c3e8-3ebefee9bf19"
      },
      "source": [
        "df['weather'].value_counts()"
      ],
      "execution_count": null,
      "outputs": [
        {
          "output_type": "execute_result",
          "data": {
            "text/plain": [
              " Clear + Few clouds            5753\n",
              " Mist + Cloudy                 2276\n",
              " Light Snow, Light Rain         678\n",
              " Heavy Rain + Thunderstorm        1\n",
              "Name: weather, dtype: int64"
            ]
          },
          "metadata": {
            "tags": []
          },
          "execution_count": 410
        }
      ]
    },
    {
      "cell_type": "code",
      "metadata": {
        "colab": {
          "base_uri": "https://localhost:8080/"
        },
        "id": "bcfTw7Ai7RxH",
        "outputId": "d18ef1a7-cfd8-4efc-8d06-50500a3b2939"
      },
      "source": [
        "df_testing['weather'].value_counts()"
      ],
      "execution_count": null,
      "outputs": [
        {
          "output_type": "execute_result",
          "data": {
            "text/plain": [
              " Clear + Few clouds        1439\n",
              " Mist + Cloudy              558\n",
              " Light Snow, Light Rain     181\n",
              "Name: weather, dtype: int64"
            ]
          },
          "metadata": {
            "tags": []
          },
          "execution_count": 412
        }
      ]
    },
    {
      "cell_type": "markdown",
      "metadata": {
        "id": "q_Jhf7hA7XfO"
      },
      "source": [
        "* As we notice test dataset has **0** entries for Heavy Rain + Thunderstorm weather column.\n",
        "* Train data set has only **1** entry Heavy Rain + Thunderstorm weather column.\n",
        "* We will decide how to deal with this in the **Feature Engineering Final** Section, if we get face a problem due to this limitation\n"
      ]
    },
    {
      "cell_type": "markdown",
      "metadata": {
        "id": "B_3rKa5m8V3P"
      },
      "source": [
        "## As our Dataset has no null values. So we proceed with our initial analysis"
      ]
    },
    {
      "cell_type": "markdown",
      "metadata": {
        "id": "cdy0tVoouEC2"
      },
      "source": [
        "Dataset .info() and .describe() -> to check statistic measures of distribtuion and data types"
      ]
    },
    {
      "cell_type": "code",
      "metadata": {
        "colab": {
          "base_uri": "https://localhost:8080/"
        },
        "id": "vRmAz4_Tt8rb",
        "outputId": "1db8efd3-8012-4da3-c746-90327ec0e5ab"
      },
      "source": [
        "df.info()"
      ],
      "execution_count": null,
      "outputs": [
        {
          "output_type": "stream",
          "text": [
            "<class 'pandas.core.frame.DataFrame'>\n",
            "RangeIndex: 8708 entries, 0 to 8707\n",
            "Data columns (total 10 columns):\n",
            " #   Column         Non-Null Count  Dtype  \n",
            "---  ------         --------------  -----  \n",
            " 0   datetime       8708 non-null   object \n",
            " 1   season         8708 non-null   object \n",
            " 2   holiday        8708 non-null   int64  \n",
            " 3   workingday     8708 non-null   int64  \n",
            " 4   weather        8708 non-null   object \n",
            " 5   temp           8708 non-null   float64\n",
            " 6   atemp          8708 non-null   float64\n",
            " 7   humidity       8708 non-null   int64  \n",
            " 8   windspeed      8708 non-null   float64\n",
            " 9   Total_booking  8708 non-null   int64  \n",
            "dtypes: float64(3), int64(4), object(3)\n",
            "memory usage: 680.4+ KB\n"
          ],
          "name": "stdout"
        }
      ]
    },
    {
      "cell_type": "code",
      "metadata": {
        "colab": {
          "base_uri": "https://localhost:8080/",
          "height": 284
        },
        "id": "hxTEJ--buPAl",
        "outputId": "7e736c12-4441-4b0f-fb14-322c1f951db4"
      },
      "source": [
        "df.describe()"
      ],
      "execution_count": null,
      "outputs": [
        {
          "output_type": "execute_result",
          "data": {
            "text/html": [
              "<div>\n",
              "<style scoped>\n",
              "    .dataframe tbody tr th:only-of-type {\n",
              "        vertical-align: middle;\n",
              "    }\n",
              "\n",
              "    .dataframe tbody tr th {\n",
              "        vertical-align: top;\n",
              "    }\n",
              "\n",
              "    .dataframe thead th {\n",
              "        text-align: right;\n",
              "    }\n",
              "</style>\n",
              "<table border=\"1\" class=\"dataframe\">\n",
              "  <thead>\n",
              "    <tr style=\"text-align: right;\">\n",
              "      <th></th>\n",
              "      <th>holiday</th>\n",
              "      <th>workingday</th>\n",
              "      <th>temp</th>\n",
              "      <th>atemp</th>\n",
              "      <th>humidity</th>\n",
              "      <th>windspeed</th>\n",
              "      <th>Total_booking</th>\n",
              "    </tr>\n",
              "  </thead>\n",
              "  <tbody>\n",
              "    <tr>\n",
              "      <th>count</th>\n",
              "      <td>8708.000000</td>\n",
              "      <td>8708.000000</td>\n",
              "      <td>8708.000000</td>\n",
              "      <td>8708.000000</td>\n",
              "      <td>8708.000000</td>\n",
              "      <td>8708.000000</td>\n",
              "      <td>8708.000000</td>\n",
              "    </tr>\n",
              "    <tr>\n",
              "      <th>mean</th>\n",
              "      <td>0.028480</td>\n",
              "      <td>0.680294</td>\n",
              "      <td>20.243020</td>\n",
              "      <td>23.655552</td>\n",
              "      <td>61.649173</td>\n",
              "      <td>12.843891</td>\n",
              "      <td>193.007005</td>\n",
              "    </tr>\n",
              "    <tr>\n",
              "      <th>std</th>\n",
              "      <td>0.166348</td>\n",
              "      <td>0.466389</td>\n",
              "      <td>7.813494</td>\n",
              "      <td>8.501107</td>\n",
              "      <td>19.199578</td>\n",
              "      <td>8.190314</td>\n",
              "      <td>181.552211</td>\n",
              "    </tr>\n",
              "    <tr>\n",
              "      <th>min</th>\n",
              "      <td>0.000000</td>\n",
              "      <td>0.000000</td>\n",
              "      <td>0.820000</td>\n",
              "      <td>0.760000</td>\n",
              "      <td>0.000000</td>\n",
              "      <td>0.000000</td>\n",
              "      <td>1.000000</td>\n",
              "    </tr>\n",
              "    <tr>\n",
              "      <th>25%</th>\n",
              "      <td>0.000000</td>\n",
              "      <td>0.000000</td>\n",
              "      <td>13.940000</td>\n",
              "      <td>16.665000</td>\n",
              "      <td>46.000000</td>\n",
              "      <td>7.001500</td>\n",
              "      <td>43.000000</td>\n",
              "    </tr>\n",
              "    <tr>\n",
              "      <th>50%</th>\n",
              "      <td>0.000000</td>\n",
              "      <td>1.000000</td>\n",
              "      <td>20.500000</td>\n",
              "      <td>24.240000</td>\n",
              "      <td>61.000000</td>\n",
              "      <td>12.998000</td>\n",
              "      <td>148.000000</td>\n",
              "    </tr>\n",
              "    <tr>\n",
              "      <th>75%</th>\n",
              "      <td>0.000000</td>\n",
              "      <td>1.000000</td>\n",
              "      <td>26.240000</td>\n",
              "      <td>31.060000</td>\n",
              "      <td>77.000000</td>\n",
              "      <td>16.997900</td>\n",
              "      <td>286.000000</td>\n",
              "    </tr>\n",
              "    <tr>\n",
              "      <th>max</th>\n",
              "      <td>1.000000</td>\n",
              "      <td>1.000000</td>\n",
              "      <td>41.000000</td>\n",
              "      <td>45.455000</td>\n",
              "      <td>100.000000</td>\n",
              "      <td>56.996900</td>\n",
              "      <td>977.000000</td>\n",
              "    </tr>\n",
              "  </tbody>\n",
              "</table>\n",
              "</div>"
            ],
            "text/plain": [
              "           holiday   workingday  ...    windspeed  Total_booking\n",
              "count  8708.000000  8708.000000  ...  8708.000000    8708.000000\n",
              "mean      0.028480     0.680294  ...    12.843891     193.007005\n",
              "std       0.166348     0.466389  ...     8.190314     181.552211\n",
              "min       0.000000     0.000000  ...     0.000000       1.000000\n",
              "25%       0.000000     0.000000  ...     7.001500      43.000000\n",
              "50%       0.000000     1.000000  ...    12.998000     148.000000\n",
              "75%       0.000000     1.000000  ...    16.997900     286.000000\n",
              "max       1.000000     1.000000  ...    56.996900     977.000000\n",
              "\n",
              "[8 rows x 7 columns]"
            ]
          },
          "metadata": {
            "tags": []
          },
          "execution_count": 285
        }
      ]
    },
    {
      "cell_type": "code",
      "metadata": {
        "colab": {
          "base_uri": "https://localhost:8080/"
        },
        "id": "l1BxGNyHuP9L",
        "outputId": "d87ce3ed-6cf7-4152-c02e-c9c539313d92"
      },
      "source": [
        "df.var()"
      ],
      "execution_count": null,
      "outputs": [
        {
          "output_type": "execute_result",
          "data": {
            "text/plain": [
              "holiday              0.027672\n",
              "workingday           0.217519\n",
              "temp                61.050689\n",
              "atemp               72.268812\n",
              "humidity           368.623777\n",
              "windspeed           67.081245\n",
              "Total_booking    32961.205303\n",
              "dtype: float64"
            ]
          },
          "metadata": {
            "tags": []
          },
          "execution_count": 286
        }
      ]
    },
    {
      "cell_type": "code",
      "metadata": {
        "id": "RQhmBkkduU-g"
      },
      "source": [
        "# As we can see above the variance/std of the dataset is on different/ high scales for some features/columns"
      ],
      "execution_count": null,
      "outputs": []
    },
    {
      "cell_type": "markdown",
      "metadata": {
        "id": "QKPQU6CRuzV5"
      },
      "source": [
        "### Initial Feature Engineering\n",
        "Datetime Column - Features"
      ]
    },
    {
      "cell_type": "code",
      "metadata": {
        "id": "tdtGqojfuhrS"
      },
      "source": [
        "# We see that column 'datetime' is of object dtype, we will convert it to datetime\n",
        "\n",
        "# Train data\n",
        "df['Datetime']= pd.to_datetime(df['datetime'])\n",
        "df['date'] = df.datetime.apply(lambda x : x.split()[0])\n",
        "df['hour'] = df.datetime.apply(lambda x : x.split()[1].split(\":\")[0])\n",
        "df[\"weekday\"] = df.date.apply(lambda dateString : calendar.day_name[datetime.strptime(dateString,\"%m/%d/%Y\").weekday()])\n",
        "df[\"month\"] = df.date.apply(lambda dateString : calendar.month_name[datetime.strptime(dateString,\"%m/%d/%Y\").month])\n",
        "df['day']=df['Datetime'].dt.day\n",
        "df['month']=df['Datetime'].dt.month\n",
        "df['year']=df['Datetime'].dt.year\n",
        "df['hour']=df['Datetime'].dt.hour\n",
        "\n",
        "#Test data\n",
        "df_testing['Datetime']= pd.to_datetime(df_testing['datetime'])\n",
        "df_testing['date'] = df_testing.datetime.apply(lambda x : x.split()[0])\n",
        "df_testing['hour'] = df_testing.datetime.apply(lambda x : x.split()[1].split(\":\")[0])\n",
        "df_testing[\"weekday\"] = df_testing.date.apply(lambda dateString : calendar.day_name[datetime.strptime(dateString,\"%m/%d/%Y\").weekday()])\n",
        "df_testing[\"month\"] = df_testing.date.apply(lambda dateString : calendar.month_name[datetime.strptime(dateString,\"%m/%d/%Y\").month])\n",
        "df_testing['day']=df_testing['Datetime'].dt.day\n",
        "df_testing['month']=df_testing['Datetime'].dt.month\n",
        "df_testing['year']=df_testing['Datetime'].dt.year\n",
        "df_testing['hour']=df_testing['Datetime'].dt.hour"
      ],
      "execution_count": null,
      "outputs": []
    },
    {
      "cell_type": "code",
      "metadata": {
        "id": "20NbDH9423Fb"
      },
      "source": [
        "df1 = df.copy()\n",
        "df_test1 = df_testing.copy()"
      ],
      "execution_count": null,
      "outputs": []
    },
    {
      "cell_type": "markdown",
      "metadata": {
        "id": "c-AGmW0JWk53"
      },
      "source": [
        "### Creating blocks using qcut for Continuous variables for better understanding of realtionship with discrete variables\n",
        "\n",
        "\n"
      ]
    },
    {
      "cell_type": "code",
      "metadata": {
        "id": "VmzLVF1vWh6x"
      },
      "source": [
        "df['humidity_block']=pd.qcut(df['humidity'], q=10)\n",
        "df['temp_block']=pd.qcut(df['temp'], q=5)\n",
        "df['wind_block']=pd.qcut(df['windspeed'], q=10,duplicates='drop')\n",
        "df['humidity_block'] = df['humidity_block'].astype('category')"
      ],
      "execution_count": null,
      "outputs": []
    },
    {
      "cell_type": "code",
      "metadata": {
        "colab": {
          "base_uri": "https://localhost:8080/",
          "height": 257
        },
        "id": "qW--v5auu6Vi",
        "outputId": "4a3c1a49-ea57-48e9-ae95-4542ff0eee3f"
      },
      "source": [
        "df.head(3)"
      ],
      "execution_count": null,
      "outputs": [
        {
          "output_type": "execute_result",
          "data": {
            "text/html": [
              "<div>\n",
              "<style scoped>\n",
              "    .dataframe tbody tr th:only-of-type {\n",
              "        vertical-align: middle;\n",
              "    }\n",
              "\n",
              "    .dataframe tbody tr th {\n",
              "        vertical-align: top;\n",
              "    }\n",
              "\n",
              "    .dataframe thead th {\n",
              "        text-align: right;\n",
              "    }\n",
              "</style>\n",
              "<table border=\"1\" class=\"dataframe\">\n",
              "  <thead>\n",
              "    <tr style=\"text-align: right;\">\n",
              "      <th></th>\n",
              "      <th>datetime</th>\n",
              "      <th>season</th>\n",
              "      <th>holiday</th>\n",
              "      <th>workingday</th>\n",
              "      <th>weather</th>\n",
              "      <th>temp</th>\n",
              "      <th>atemp</th>\n",
              "      <th>humidity</th>\n",
              "      <th>windspeed</th>\n",
              "      <th>Total_booking</th>\n",
              "      <th>Datetime</th>\n",
              "      <th>date</th>\n",
              "      <th>hour</th>\n",
              "      <th>weekday</th>\n",
              "      <th>month</th>\n",
              "      <th>day</th>\n",
              "      <th>year</th>\n",
              "      <th>humidity_block</th>\n",
              "      <th>temp_block</th>\n",
              "      <th>wind_block</th>\n",
              "    </tr>\n",
              "  </thead>\n",
              "  <tbody>\n",
              "    <tr>\n",
              "      <th>0</th>\n",
              "      <td>5/2/2012 19:00</td>\n",
              "      <td>Summer</td>\n",
              "      <td>0</td>\n",
              "      <td>1</td>\n",
              "      <td>Clear + Few clouds</td>\n",
              "      <td>22.14</td>\n",
              "      <td>25.760</td>\n",
              "      <td>77</td>\n",
              "      <td>16.9979</td>\n",
              "      <td>504</td>\n",
              "      <td>2012-05-02 19:00:00</td>\n",
              "      <td>5/2/2012</td>\n",
              "      <td>19</td>\n",
              "      <td>Wednesday</td>\n",
              "      <td>5</td>\n",
              "      <td>2</td>\n",
              "      <td>2012</td>\n",
              "      <td>(74.0, 81.0]</td>\n",
              "      <td>(17.22, 22.96]</td>\n",
              "      <td>(15.001, 16.998]</td>\n",
              "    </tr>\n",
              "    <tr>\n",
              "      <th>1</th>\n",
              "      <td>9/5/2012 4:00</td>\n",
              "      <td>Fall</td>\n",
              "      <td>0</td>\n",
              "      <td>1</td>\n",
              "      <td>Clear + Few clouds</td>\n",
              "      <td>28.70</td>\n",
              "      <td>33.335</td>\n",
              "      <td>79</td>\n",
              "      <td>19.0012</td>\n",
              "      <td>5</td>\n",
              "      <td>2012-09-05 04:00:00</td>\n",
              "      <td>9/5/2012</td>\n",
              "      <td>4</td>\n",
              "      <td>Wednesday</td>\n",
              "      <td>9</td>\n",
              "      <td>5</td>\n",
              "      <td>2012</td>\n",
              "      <td>(74.0, 81.0]</td>\n",
              "      <td>(27.88, 41.0]</td>\n",
              "      <td>(16.998, 19.001]</td>\n",
              "    </tr>\n",
              "    <tr>\n",
              "      <th>2</th>\n",
              "      <td>1/13/2011 9:00</td>\n",
              "      <td>Spring</td>\n",
              "      <td>0</td>\n",
              "      <td>1</td>\n",
              "      <td>Clear + Few clouds</td>\n",
              "      <td>5.74</td>\n",
              "      <td>6.060</td>\n",
              "      <td>50</td>\n",
              "      <td>22.0028</td>\n",
              "      <td>139</td>\n",
              "      <td>2011-01-13 09:00:00</td>\n",
              "      <td>1/13/2011</td>\n",
              "      <td>9</td>\n",
              "      <td>Thursday</td>\n",
              "      <td>1</td>\n",
              "      <td>13</td>\n",
              "      <td>2011</td>\n",
              "      <td>(43.0, 50.0]</td>\n",
              "      <td>(0.819, 12.3]</td>\n",
              "      <td>(19.001, 23.999]</td>\n",
              "    </tr>\n",
              "  </tbody>\n",
              "</table>\n",
              "</div>"
            ],
            "text/plain": [
              "         datetime  season  ...      temp_block        wind_block\n",
              "0  5/2/2012 19:00  Summer  ...  (17.22, 22.96]  (15.001, 16.998]\n",
              "1   9/5/2012 4:00    Fall  ...   (27.88, 41.0]  (16.998, 19.001]\n",
              "2  1/13/2011 9:00  Spring  ...   (0.819, 12.3]  (19.001, 23.999]\n",
              "\n",
              "[3 rows x 20 columns]"
            ]
          },
          "metadata": {
            "tags": []
          },
          "execution_count": 291
        }
      ]
    },
    {
      "cell_type": "code",
      "metadata": {
        "colab": {
          "base_uri": "https://localhost:8080/"
        },
        "id": "Q2oKogKfu8Hn",
        "outputId": "a17efe9d-2cf4-4ba2-9b70-9b1930277815"
      },
      "source": [
        "df.shape, df_testing.shape"
      ],
      "execution_count": null,
      "outputs": [
        {
          "output_type": "execute_result",
          "data": {
            "text/plain": [
              "((8708, 20), (2178, 17))"
            ]
          },
          "metadata": {
            "tags": []
          },
          "execution_count": 292
        }
      ]
    },
    {
      "cell_type": "markdown",
      "metadata": {
        "id": "93mMVO8MxUIP"
      },
      "source": [
        "### Dropping the 'datetime' column"
      ]
    },
    {
      "cell_type": "code",
      "metadata": {
        "id": "JqGe5TtDu-mt"
      },
      "source": [
        "df_test1.drop('datetime',inplace = True,axis =1)\n",
        "df1.drop('datetime',inplace = True,axis =1)"
      ],
      "execution_count": null,
      "outputs": []
    },
    {
      "cell_type": "code",
      "metadata": {
        "colab": {
          "base_uri": "https://localhost:8080/"
        },
        "id": "dXF3ugQxxdTB",
        "outputId": "f05b2669-472a-4df0-83dd-7d696600bdab"
      },
      "source": [
        "df1.shape, df_test1.shape"
      ],
      "execution_count": null,
      "outputs": [
        {
          "output_type": "execute_result",
          "data": {
            "text/plain": [
              "((8708, 16), (2178, 16))"
            ]
          },
          "metadata": {
            "tags": []
          },
          "execution_count": 294
        }
      ]
    },
    {
      "cell_type": "code",
      "metadata": {
        "id": "n021xYxKxfTz"
      },
      "source": [
        "df_test_copy = df_test1.drop('Datetime',axis =1)\n",
        "df_copy = df1.drop('Datetime',axis =1)"
      ],
      "execution_count": null,
      "outputs": []
    },
    {
      "cell_type": "code",
      "metadata": {
        "colab": {
          "base_uri": "https://localhost:8080/"
        },
        "id": "mXKQ4fSdx2Oz",
        "outputId": "20936278-48a2-4885-ae23-8a10dc21ef91"
      },
      "source": [
        "df_copy.shape, df_test_copy.shape"
      ],
      "execution_count": null,
      "outputs": [
        {
          "output_type": "execute_result",
          "data": {
            "text/plain": [
              "((8708, 15), (2178, 15))"
            ]
          },
          "metadata": {
            "tags": []
          },
          "execution_count": 296
        }
      ]
    },
    {
      "cell_type": "code",
      "metadata": {
        "colab": {
          "base_uri": "https://localhost:8080/",
          "height": 106
        },
        "id": "SKpKqBs4x7pN",
        "outputId": "45e7fbea-24fc-43fe-e2da-a429ebbc828a"
      },
      "source": [
        "df_copy.head(2)"
      ],
      "execution_count": null,
      "outputs": [
        {
          "output_type": "execute_result",
          "data": {
            "text/html": [
              "<div>\n",
              "<style scoped>\n",
              "    .dataframe tbody tr th:only-of-type {\n",
              "        vertical-align: middle;\n",
              "    }\n",
              "\n",
              "    .dataframe tbody tr th {\n",
              "        vertical-align: top;\n",
              "    }\n",
              "\n",
              "    .dataframe thead th {\n",
              "        text-align: right;\n",
              "    }\n",
              "</style>\n",
              "<table border=\"1\" class=\"dataframe\">\n",
              "  <thead>\n",
              "    <tr style=\"text-align: right;\">\n",
              "      <th></th>\n",
              "      <th>season</th>\n",
              "      <th>holiday</th>\n",
              "      <th>workingday</th>\n",
              "      <th>weather</th>\n",
              "      <th>temp</th>\n",
              "      <th>atemp</th>\n",
              "      <th>humidity</th>\n",
              "      <th>windspeed</th>\n",
              "      <th>Total_booking</th>\n",
              "      <th>date</th>\n",
              "      <th>hour</th>\n",
              "      <th>weekday</th>\n",
              "      <th>month</th>\n",
              "      <th>day</th>\n",
              "      <th>year</th>\n",
              "    </tr>\n",
              "  </thead>\n",
              "  <tbody>\n",
              "    <tr>\n",
              "      <th>0</th>\n",
              "      <td>Summer</td>\n",
              "      <td>0</td>\n",
              "      <td>1</td>\n",
              "      <td>Clear + Few clouds</td>\n",
              "      <td>22.14</td>\n",
              "      <td>25.760</td>\n",
              "      <td>77</td>\n",
              "      <td>16.9979</td>\n",
              "      <td>504</td>\n",
              "      <td>5/2/2012</td>\n",
              "      <td>19</td>\n",
              "      <td>Wednesday</td>\n",
              "      <td>5</td>\n",
              "      <td>2</td>\n",
              "      <td>2012</td>\n",
              "    </tr>\n",
              "    <tr>\n",
              "      <th>1</th>\n",
              "      <td>Fall</td>\n",
              "      <td>0</td>\n",
              "      <td>1</td>\n",
              "      <td>Clear + Few clouds</td>\n",
              "      <td>28.70</td>\n",
              "      <td>33.335</td>\n",
              "      <td>79</td>\n",
              "      <td>19.0012</td>\n",
              "      <td>5</td>\n",
              "      <td>9/5/2012</td>\n",
              "      <td>4</td>\n",
              "      <td>Wednesday</td>\n",
              "      <td>9</td>\n",
              "      <td>5</td>\n",
              "      <td>2012</td>\n",
              "    </tr>\n",
              "  </tbody>\n",
              "</table>\n",
              "</div>"
            ],
            "text/plain": [
              "   season  holiday  workingday  ... month  day  year\n",
              "0  Summer        0           1  ...     5    2  2012\n",
              "1    Fall        0           1  ...     9    5  2012\n",
              "\n",
              "[2 rows x 15 columns]"
            ]
          },
          "metadata": {
            "tags": []
          },
          "execution_count": 297
        }
      ]
    },
    {
      "cell_type": "markdown",
      "metadata": {
        "id": "93RphO1eyaNZ"
      },
      "source": [
        "\n",
        "## Visualize data using different visualizations to generate interesting insights."
      ]
    },
    {
      "cell_type": "code",
      "metadata": {
        "id": "tFUVj-aZyZ-k"
      },
      "source": [
        "# We have no missing values in our test and train data set So we go ahead with our Data VIsualization"
      ],
      "execution_count": null,
      "outputs": []
    },
    {
      "cell_type": "code",
      "metadata": {
        "colab": {
          "base_uri": "https://localhost:8080/",
          "height": 334
        },
        "id": "eKWJc2B68-Sr",
        "outputId": "52d67c48-46cd-4275-f923-c3d703acc186"
      },
      "source": [
        "sns.countplot(data = df_copy, x='weekday', hue = 'workingday')\n",
        "plt.xticks(rotation = 45)"
      ],
      "execution_count": null,
      "outputs": [
        {
          "output_type": "execute_result",
          "data": {
            "text/plain": [
              "(array([0, 1, 2, 3, 4, 5, 6]), <a list of 7 Text major ticklabel objects>)"
            ]
          },
          "metadata": {
            "tags": []
          },
          "execution_count": 298
        },
        {
          "output_type": "display_data",
          "data": {
            "image/png": "[encoded data removed]",
            "text/plain": [
              "<Figure size 432x288 with 1 Axes>"
            ]
          },
          "metadata": {
            "tags": [],
            "needs_background": "light"
          }
        }
      ]
    },
    {
      "cell_type": "markdown",
      "metadata": {
        "id": "-d6k-9rkGszE"
      },
      "source": [
        "* As expected Weekdays are working days(1) and weekends are not(0)"
      ]
    },
    {
      "cell_type": "code",
      "metadata": {
        "colab": {
          "base_uri": "https://localhost:8080/",
          "height": 731
        },
        "id": "skt87huyypMD",
        "outputId": "e125292f-57ac-47b3-9beb-cbb8c2b819a7"
      },
      "source": [
        "# Comparing the affect of dates, hour and month on the 'Total_booking' column\n",
        "\n",
        "fig,ax = plt.subplots(3,1,figsize= (12,12))\n",
        "df.plot(x='Datetime', y='Total_booking', ax=ax[0],kind='scatter')\n",
        "df.plot(x='hour', y='Total_booking', ax=ax[1],kind='scatter')\n",
        "\n",
        "df.plot(x='month', y='Total_booking', ax=ax[2],kind='scatter')"
      ],
      "execution_count": null,
      "outputs": [
        {
          "output_type": "execute_result",
          "data": {
            "text/plain": [
              "<matplotlib.axes._subplots.AxesSubplot at 0x7f8380a2f310>"
            ]
          },
          "metadata": {
            "tags": []
          },
          "execution_count": 299
        },
        {
          "output_type": "display_data",
          "data": {
            "image/png": "[encoded data removed]",
            "text/plain": [
              "<Figure size 864x864 with 3 Axes>"
            ]
          },
          "metadata": {
            "tags": [],
            "needs_background": "light"
          }
        }
      ]
    },
    {
      "cell_type": "markdown",
      "metadata": {
        "id": "q4jTx4MRVrLo"
      },
      "source": [
        "* Insights\n",
        "* -> We can see that total number of bookings are higher in the morning hours (7am to 8am) and again during the evening(5pm to 6pm) intervals\n",
        "* -> This can be attributed to the office opening and closing hours \n",
        "* -> The total number of cab bookings on average have risen from the year 2011 to 2012, with them having highest number of cab bookings \n",
        "* -> during the 7th to 10th month of the year"
      ]
    },
    {
      "cell_type": "code",
      "metadata": {
        "colab": {
          "base_uri": "https://localhost:8080/",
          "height": 194
        },
        "id": "vJ6CY7MbType",
        "outputId": "9d30d893-2194-4469-f35b-9ba305817e34"
      },
      "source": [
        "df.head(2)"
      ],
      "execution_count": null,
      "outputs": [
        {
          "output_type": "execute_result",
          "data": {
            "text/html": [
              "<div>\n",
              "<style scoped>\n",
              "    .dataframe tbody tr th:only-of-type {\n",
              "        vertical-align: middle;\n",
              "    }\n",
              "\n",
              "    .dataframe tbody tr th {\n",
              "        vertical-align: top;\n",
              "    }\n",
              "\n",
              "    .dataframe thead th {\n",
              "        text-align: right;\n",
              "    }\n",
              "</style>\n",
              "<table border=\"1\" class=\"dataframe\">\n",
              "  <thead>\n",
              "    <tr style=\"text-align: right;\">\n",
              "      <th></th>\n",
              "      <th>datetime</th>\n",
              "      <th>season</th>\n",
              "      <th>holiday</th>\n",
              "      <th>workingday</th>\n",
              "      <th>weather</th>\n",
              "      <th>temp</th>\n",
              "      <th>atemp</th>\n",
              "      <th>humidity</th>\n",
              "      <th>windspeed</th>\n",
              "      <th>Total_booking</th>\n",
              "      <th>Datetime</th>\n",
              "      <th>date</th>\n",
              "      <th>hour</th>\n",
              "      <th>weekday</th>\n",
              "      <th>month</th>\n",
              "      <th>day</th>\n",
              "      <th>year</th>\n",
              "      <th>humidity_block</th>\n",
              "      <th>temp_block</th>\n",
              "      <th>wind_block</th>\n",
              "    </tr>\n",
              "  </thead>\n",
              "  <tbody>\n",
              "    <tr>\n",
              "      <th>0</th>\n",
              "      <td>5/2/2012 19:00</td>\n",
              "      <td>Summer</td>\n",
              "      <td>0</td>\n",
              "      <td>1</td>\n",
              "      <td>Clear + Few clouds</td>\n",
              "      <td>22.14</td>\n",
              "      <td>25.760</td>\n",
              "      <td>77</td>\n",
              "      <td>16.9979</td>\n",
              "      <td>504</td>\n",
              "      <td>2012-05-02 19:00:00</td>\n",
              "      <td>5/2/2012</td>\n",
              "      <td>19</td>\n",
              "      <td>Wednesday</td>\n",
              "      <td>5</td>\n",
              "      <td>2</td>\n",
              "      <td>2012</td>\n",
              "      <td>(74.0, 81.0]</td>\n",
              "      <td>(17.22, 22.96]</td>\n",
              "      <td>(15.001, 16.998]</td>\n",
              "    </tr>\n",
              "    <tr>\n",
              "      <th>1</th>\n",
              "      <td>9/5/2012 4:00</td>\n",
              "      <td>Fall</td>\n",
              "      <td>0</td>\n",
              "      <td>1</td>\n",
              "      <td>Clear + Few clouds</td>\n",
              "      <td>28.70</td>\n",
              "      <td>33.335</td>\n",
              "      <td>79</td>\n",
              "      <td>19.0012</td>\n",
              "      <td>5</td>\n",
              "      <td>2012-09-05 04:00:00</td>\n",
              "      <td>9/5/2012</td>\n",
              "      <td>4</td>\n",
              "      <td>Wednesday</td>\n",
              "      <td>9</td>\n",
              "      <td>5</td>\n",
              "      <td>2012</td>\n",
              "      <td>(74.0, 81.0]</td>\n",
              "      <td>(27.88, 41.0]</td>\n",
              "      <td>(16.998, 19.001]</td>\n",
              "    </tr>\n",
              "  </tbody>\n",
              "</table>\n",
              "</div>"
            ],
            "text/plain": [
              "         datetime  season  ...      temp_block        wind_block\n",
              "0  5/2/2012 19:00  Summer  ...  (17.22, 22.96]  (15.001, 16.998]\n",
              "1   9/5/2012 4:00    Fall  ...   (27.88, 41.0]  (16.998, 19.001]\n",
              "\n",
              "[2 rows x 20 columns]"
            ]
          },
          "metadata": {
            "tags": []
          },
          "execution_count": 300
        }
      ]
    },
    {
      "cell_type": "code",
      "metadata": {
        "colab": {
          "base_uri": "https://localhost:8080/",
          "height": 296
        },
        "id": "QsxOrRrKzB0R",
        "outputId": "3ec4b0a8-6735-4f10-a264-b84c8c88157a"
      },
      "source": [
        "# Temp vs humidaity scatter plot\n",
        "sns.scatterplot(x='temp',y='humidity', data = df_copy)"
      ],
      "execution_count": null,
      "outputs": [
        {
          "output_type": "execute_result",
          "data": {
            "text/plain": [
              "<matplotlib.axes._subplots.AxesSubplot at 0x7f8380a460d0>"
            ]
          },
          "metadata": {
            "tags": []
          },
          "execution_count": 301
        },
        {
          "output_type": "display_data",
          "data": {
            "image/png": "[encoded data removed]",
            "text/plain": [
              "<Figure size 432x288 with 1 Axes>"
            ]
          },
          "metadata": {
            "tags": [],
            "needs_background": "light"
          }
        }
      ]
    },
    {
      "cell_type": "markdown",
      "metadata": {
        "id": "mHKKTxalHYqH"
      },
      "source": [
        "* We see that as the temp goes higher than 27.5 degrees the humidity tends to decrease\n",
        "* -> colder temp tend to have higher humidity"
      ]
    },
    {
      "cell_type": "code",
      "metadata": {
        "colab": {
          "base_uri": "https://localhost:8080/",
          "height": 136
        },
        "id": "_txlHqGo0zxu",
        "outputId": "09367546-dab5-4c98-c60c-ac4f630bf474"
      },
      "source": [
        "df_copy.head(3)"
      ],
      "execution_count": null,
      "outputs": [
        {
          "output_type": "execute_result",
          "data": {
            "text/html": [
              "<div>\n",
              "<style scoped>\n",
              "    .dataframe tbody tr th:only-of-type {\n",
              "        vertical-align: middle;\n",
              "    }\n",
              "\n",
              "    .dataframe tbody tr th {\n",
              "        vertical-align: top;\n",
              "    }\n",
              "\n",
              "    .dataframe thead th {\n",
              "        text-align: right;\n",
              "    }\n",
              "</style>\n",
              "<table border=\"1\" class=\"dataframe\">\n",
              "  <thead>\n",
              "    <tr style=\"text-align: right;\">\n",
              "      <th></th>\n",
              "      <th>season</th>\n",
              "      <th>holiday</th>\n",
              "      <th>workingday</th>\n",
              "      <th>weather</th>\n",
              "      <th>temp</th>\n",
              "      <th>atemp</th>\n",
              "      <th>humidity</th>\n",
              "      <th>windspeed</th>\n",
              "      <th>Total_booking</th>\n",
              "      <th>date</th>\n",
              "      <th>hour</th>\n",
              "      <th>weekday</th>\n",
              "      <th>month</th>\n",
              "      <th>day</th>\n",
              "      <th>year</th>\n",
              "    </tr>\n",
              "  </thead>\n",
              "  <tbody>\n",
              "    <tr>\n",
              "      <th>0</th>\n",
              "      <td>Summer</td>\n",
              "      <td>0</td>\n",
              "      <td>1</td>\n",
              "      <td>Clear + Few clouds</td>\n",
              "      <td>22.14</td>\n",
              "      <td>25.760</td>\n",
              "      <td>77</td>\n",
              "      <td>16.9979</td>\n",
              "      <td>504</td>\n",
              "      <td>5/2/2012</td>\n",
              "      <td>19</td>\n",
              "      <td>Wednesday</td>\n",
              "      <td>5</td>\n",
              "      <td>2</td>\n",
              "      <td>2012</td>\n",
              "    </tr>\n",
              "    <tr>\n",
              "      <th>1</th>\n",
              "      <td>Fall</td>\n",
              "      <td>0</td>\n",
              "      <td>1</td>\n",
              "      <td>Clear + Few clouds</td>\n",
              "      <td>28.70</td>\n",
              "      <td>33.335</td>\n",
              "      <td>79</td>\n",
              "      <td>19.0012</td>\n",
              "      <td>5</td>\n",
              "      <td>9/5/2012</td>\n",
              "      <td>4</td>\n",
              "      <td>Wednesday</td>\n",
              "      <td>9</td>\n",
              "      <td>5</td>\n",
              "      <td>2012</td>\n",
              "    </tr>\n",
              "    <tr>\n",
              "      <th>2</th>\n",
              "      <td>Spring</td>\n",
              "      <td>0</td>\n",
              "      <td>1</td>\n",
              "      <td>Clear + Few clouds</td>\n",
              "      <td>5.74</td>\n",
              "      <td>6.060</td>\n",
              "      <td>50</td>\n",
              "      <td>22.0028</td>\n",
              "      <td>139</td>\n",
              "      <td>1/13/2011</td>\n",
              "      <td>9</td>\n",
              "      <td>Thursday</td>\n",
              "      <td>1</td>\n",
              "      <td>13</td>\n",
              "      <td>2011</td>\n",
              "    </tr>\n",
              "  </tbody>\n",
              "</table>\n",
              "</div>"
            ],
            "text/plain": [
              "   season  holiday  workingday  ... month  day  year\n",
              "0  Summer        0           1  ...     5    2  2012\n",
              "1    Fall        0           1  ...     9    5  2012\n",
              "2  Spring        0           1  ...     1   13  2011\n",
              "\n",
              "[3 rows x 15 columns]"
            ]
          },
          "metadata": {
            "tags": []
          },
          "execution_count": 302
        }
      ]
    },
    {
      "cell_type": "code",
      "metadata": {
        "colab": {
          "base_uri": "https://localhost:8080/",
          "height": 296
        },
        "id": "tWlt1urC1Bvw",
        "outputId": "a18a62b3-dc71-4ad6-84be-6ce2e8cb7e3b"
      },
      "source": [
        "# temp vs windspeed features\n",
        "sns.scatterplot(x='temp',y='windspeed', data = df_copy)"
      ],
      "execution_count": null,
      "outputs": [
        {
          "output_type": "execute_result",
          "data": {
            "text/plain": [
              "<matplotlib.axes._subplots.AxesSubplot at 0x7f8380796fd0>"
            ]
          },
          "metadata": {
            "tags": []
          },
          "execution_count": 303
        },
        {
          "output_type": "display_data",
          "data": {
            "image/png": "[encoded data removed]",
            "text/plain": [
              "<Figure size 432x288 with 1 Axes>"
            ]
          },
          "metadata": {
            "tags": [],
            "needs_background": "light"
          }
        }
      ]
    },
    {
      "cell_type": "markdown",
      "metadata": {
        "id": "fInNwWdAHUM5"
      },
      "source": [
        "* There is no significant pattern between windspeed with the temperature"
      ]
    },
    {
      "cell_type": "code",
      "metadata": {
        "colab": {
          "base_uri": "https://localhost:8080/",
          "height": 316
        },
        "id": "BBeOA4O51nyN",
        "outputId": "c5b640b2-ac7f-446f-a58b-dd9e7d4e163c"
      },
      "source": [
        "# Month vs the temperature features\n",
        "sns.barplot(x='month',y='temp', data = df_copy,hue='season')\n",
        "plt.xticks(rotation=90)"
      ],
      "execution_count": null,
      "outputs": [
        {
          "output_type": "execute_result",
          "data": {
            "text/plain": [
              "(array([ 0,  1,  2,  3,  4,  5,  6,  7,  8,  9, 10, 11]),\n",
              " <a list of 12 Text major ticklabel objects>)"
            ]
          },
          "metadata": {
            "tags": []
          },
          "execution_count": 304
        },
        {
          "output_type": "display_data",
          "data": {
            "image/png": "[encoded data removed]",
            "text/plain": [
              "<Figure size 432x288 with 1 Axes>"
            ]
          },
          "metadata": {
            "tags": [],
            "needs_background": "light"
          }
        }
      ]
    },
    {
      "cell_type": "markdown",
      "metadata": {
        "id": "T1dPRGf6HP22"
      },
      "source": [
        "* As expected the temperatures in higher during the 6th to 9th months (June to September)\n",
        "* Gets cooler during the winter and spring seasons"
      ]
    },
    {
      "cell_type": "code",
      "metadata": {
        "colab": {
          "base_uri": "https://localhost:8080/",
          "height": 316
        },
        "id": "tToqt0I_2NKP",
        "outputId": "25e9554b-b0e1-4bbe-c42f-41bbdc34f10e"
      },
      "source": [
        "# Month vs the humidity features hue season distribution\n",
        "sns.barplot(y='humidity',x='month', data = df_copy, hue ='season')\n",
        "plt.xticks(rotation=90)"
      ],
      "execution_count": null,
      "outputs": [
        {
          "output_type": "execute_result",
          "data": {
            "text/plain": [
              "(array([ 0,  1,  2,  3,  4,  5,  6,  7,  8,  9, 10, 11]),\n",
              " <a list of 12 Text major ticklabel objects>)"
            ]
          },
          "metadata": {
            "tags": []
          },
          "execution_count": 305
        },
        {
          "output_type": "display_data",
          "data": {
            "image/png": "[encoded data removed]",
            "text/plain": [
              "<Figure size 432x288 with 1 Axes>"
            ]
          },
          "metadata": {
            "tags": [],
            "needs_background": "light"
          }
        }
      ]
    },
    {
      "cell_type": "code",
      "metadata": {
        "colab": {
          "base_uri": "https://localhost:8080/",
          "height": 425
        },
        "id": "_0no6FwU2lqE",
        "outputId": "236c5811-59e2-4038-c0ac-9dfd7cf4a849"
      },
      "source": [
        "# Month vs the humidity features hue weather conditions\n",
        "plt.figure(figsize = (10,6))\n",
        "sns.barplot(y='humidity',x='month', data = df_copy, hue ='weather')\n",
        "\n",
        "plt.xticks(rotation=90)"
      ],
      "execution_count": null,
      "outputs": [
        {
          "output_type": "execute_result",
          "data": {
            "text/plain": [
              "(array([ 0,  1,  2,  3,  4,  5,  6,  7,  8,  9, 10, 11]),\n",
              " <a list of 12 Text major ticklabel objects>)"
            ]
          },
          "metadata": {
            "tags": []
          },
          "execution_count": 306
        },
        {
          "output_type": "display_data",
          "data": {
            "image/png": "[encoded data removed]",
            "text/plain": [
              "<Figure size 720x432 with 1 Axes>"
            ]
          },
          "metadata": {
            "tags": [],
            "needs_background": "light"
          }
        }
      ]
    },
    {
      "cell_type": "markdown",
      "metadata": {
        "id": "iNZ0C2aA3Kpe"
      },
      "source": [
        "* On average 'Light Snow, Light Rain' has higher humidity than other weather conditions.\n",
        "* 'Clear + Few Clouds' has least humidity among the others"
      ]
    },
    {
      "cell_type": "code",
      "metadata": {
        "colab": {
          "base_uri": "https://localhost:8080/",
          "height": 425
        },
        "id": "IZtnim3D27Cc",
        "outputId": "9f7f87a7-c8a8-4056-8081-1fe61e3714f2"
      },
      "source": [
        "# Month vs the windspeed features\n",
        "plt.figure(figsize = (10,6))\n",
        "sns.barplot(y='windspeed',x='month', data = df_copy, hue ='weather')\n",
        "\n",
        "plt.xticks(rotation=90)"
      ],
      "execution_count": null,
      "outputs": [
        {
          "output_type": "execute_result",
          "data": {
            "text/plain": [
              "(array([ 0,  1,  2,  3,  4,  5,  6,  7,  8,  9, 10, 11]),\n",
              " <a list of 12 Text major ticklabel objects>)"
            ]
          },
          "metadata": {
            "tags": []
          },
          "execution_count": 307
        },
        {
          "output_type": "display_data",
          "data": {
            "image/png": "[encoded data removed]",
            "text/plain": [
              "<Figure size 720x432 with 1 Axes>"
            ]
          },
          "metadata": {
            "tags": [],
            "needs_background": "light"
          }
        }
      ]
    },
    {
      "cell_type": "markdown",
      "metadata": {
        "id": "613MPMLR38oX"
      },
      "source": [
        "Insights - \n",
        "* Mist + Cloudy has the lowest windspeeds\n",
        "* 'Clear + Few Clouds' and ' Light Snow, Light Rain' have higher windspeeds than the other weather conditions"
      ]
    },
    {
      "cell_type": "code",
      "metadata": {
        "colab": {
          "base_uri": "https://localhost:8080/",
          "height": 437
        },
        "id": "EhvPT4Ij3vGM",
        "outputId": "fd1f91ed-3da3-49da-f406-bf7fecca920a"
      },
      "source": [
        "# Season vs the windspeed features\n",
        "plt.figure(figsize = (10,6))\n",
        "sns.barplot(y='windspeed',x='season', data = df_copy, hue ='weather')\n",
        "\n",
        "plt.xticks(rotation=90)"
      ],
      "execution_count": null,
      "outputs": [
        {
          "output_type": "execute_result",
          "data": {
            "text/plain": [
              "(array([0, 1, 2, 3]), <a list of 4 Text major ticklabel objects>)"
            ]
          },
          "metadata": {
            "tags": []
          },
          "execution_count": 308
        },
        {
          "output_type": "display_data",
          "data": {
            "image/png": "[encoded data removed]",
            "text/plain": [
              "<Figure size 720x432 with 1 Axes>"
            ]
          },
          "metadata": {
            "tags": [],
            "needs_background": "light"
          }
        }
      ]
    },
    {
      "cell_type": "markdown",
      "metadata": {
        "id": "i4-Yhj0I4mWC"
      },
      "source": [
        "Insights - \n",
        "* On average 'Light Snow, Light Rain' has higher windspeeds during the Summer, Fall and winter Seasons\n"
      ]
    },
    {
      "cell_type": "code",
      "metadata": {
        "colab": {
          "base_uri": "https://localhost:8080/",
          "height": 435
        },
        "id": "jebaf-L-Xt2q",
        "outputId": "4a329160-02d7-4dd4-bae1-6278fa054f07"
      },
      "source": [
        "#Count of different weather conditions.\n",
        "sns.countplot(data = df_copy, x='weather', hue = 'workingday')\n",
        "plt.xticks(rotation = 90)"
      ],
      "execution_count": null,
      "outputs": [
        {
          "output_type": "execute_result",
          "data": {
            "text/plain": [
              "(array([0, 1, 2, 3]), <a list of 4 Text major ticklabel objects>)"
            ]
          },
          "metadata": {
            "tags": []
          },
          "execution_count": 309
        },
        {
          "output_type": "display_data",
          "data": {
            "image/png": "[encoded data removed]",
            "text/plain": [
              "<Figure size 432x288 with 1 Axes>"
            ]
          },
          "metadata": {
            "tags": [],
            "needs_background": "light"
          }
        }
      ]
    },
    {
      "cell_type": "markdown",
      "metadata": {
        "id": "wRpocnE-X1b-"
      },
      "source": [
        "* As we see Clear + Few Clouds have the highest number of occurences in our dataset. Heavy Rain + Thunderstorm has ~ 0 value counts"
      ]
    },
    {
      "cell_type": "code",
      "metadata": {
        "colab": {
          "base_uri": "https://localhost:8080/",
          "height": 136
        },
        "id": "WRYnf2AB4ay3",
        "outputId": "f06c8500-07b5-4b1e-dcba-4d17292045d9"
      },
      "source": [
        "df_copy.head(3)"
      ],
      "execution_count": null,
      "outputs": [
        {
          "output_type": "execute_result",
          "data": {
            "text/html": [
              "<div>\n",
              "<style scoped>\n",
              "    .dataframe tbody tr th:only-of-type {\n",
              "        vertical-align: middle;\n",
              "    }\n",
              "\n",
              "    .dataframe tbody tr th {\n",
              "        vertical-align: top;\n",
              "    }\n",
              "\n",
              "    .dataframe thead th {\n",
              "        text-align: right;\n",
              "    }\n",
              "</style>\n",
              "<table border=\"1\" class=\"dataframe\">\n",
              "  <thead>\n",
              "    <tr style=\"text-align: right;\">\n",
              "      <th></th>\n",
              "      <th>season</th>\n",
              "      <th>holiday</th>\n",
              "      <th>workingday</th>\n",
              "      <th>weather</th>\n",
              "      <th>temp</th>\n",
              "      <th>atemp</th>\n",
              "      <th>humidity</th>\n",
              "      <th>windspeed</th>\n",
              "      <th>Total_booking</th>\n",
              "      <th>date</th>\n",
              "      <th>hour</th>\n",
              "      <th>weekday</th>\n",
              "      <th>month</th>\n",
              "      <th>day</th>\n",
              "      <th>year</th>\n",
              "    </tr>\n",
              "  </thead>\n",
              "  <tbody>\n",
              "    <tr>\n",
              "      <th>0</th>\n",
              "      <td>Summer</td>\n",
              "      <td>0</td>\n",
              "      <td>1</td>\n",
              "      <td>Clear + Few clouds</td>\n",
              "      <td>22.14</td>\n",
              "      <td>25.760</td>\n",
              "      <td>77</td>\n",
              "      <td>16.9979</td>\n",
              "      <td>504</td>\n",
              "      <td>5/2/2012</td>\n",
              "      <td>19</td>\n",
              "      <td>Wednesday</td>\n",
              "      <td>5</td>\n",
              "      <td>2</td>\n",
              "      <td>2012</td>\n",
              "    </tr>\n",
              "    <tr>\n",
              "      <th>1</th>\n",
              "      <td>Fall</td>\n",
              "      <td>0</td>\n",
              "      <td>1</td>\n",
              "      <td>Clear + Few clouds</td>\n",
              "      <td>28.70</td>\n",
              "      <td>33.335</td>\n",
              "      <td>79</td>\n",
              "      <td>19.0012</td>\n",
              "      <td>5</td>\n",
              "      <td>9/5/2012</td>\n",
              "      <td>4</td>\n",
              "      <td>Wednesday</td>\n",
              "      <td>9</td>\n",
              "      <td>5</td>\n",
              "      <td>2012</td>\n",
              "    </tr>\n",
              "    <tr>\n",
              "      <th>2</th>\n",
              "      <td>Spring</td>\n",
              "      <td>0</td>\n",
              "      <td>1</td>\n",
              "      <td>Clear + Few clouds</td>\n",
              "      <td>5.74</td>\n",
              "      <td>6.060</td>\n",
              "      <td>50</td>\n",
              "      <td>22.0028</td>\n",
              "      <td>139</td>\n",
              "      <td>1/13/2011</td>\n",
              "      <td>9</td>\n",
              "      <td>Thursday</td>\n",
              "      <td>1</td>\n",
              "      <td>13</td>\n",
              "      <td>2011</td>\n",
              "    </tr>\n",
              "  </tbody>\n",
              "</table>\n",
              "</div>"
            ],
            "text/plain": [
              "   season  holiday  workingday  ... month  day  year\n",
              "0  Summer        0           1  ...     5    2  2012\n",
              "1    Fall        0           1  ...     9    5  2012\n",
              "2  Spring        0           1  ...     1   13  2011\n",
              "\n",
              "[3 rows x 15 columns]"
            ]
          },
          "metadata": {
            "tags": []
          },
          "execution_count": 310
        }
      ]
    },
    {
      "cell_type": "markdown",
      "metadata": {
        "id": "nZa5pmhz5S6N"
      },
      "source": [
        "##  Compare Total Booking Feature with other Features\n",
        "## Visualizing Total_booking Vs other features to generate insights"
      ]
    },
    {
      "cell_type": "code",
      "metadata": {
        "colab": {
          "base_uri": "https://localhost:8080/",
          "height": 372
        },
        "id": "ROOEQK0_UIDl",
        "outputId": "4447613c-800b-4ab7-a74c-ccfdf5063ee8"
      },
      "source": [
        "sns.boxplot(x='humidity_block', y='Total_booking', data =df)\n",
        "plt.xticks(rotation = 90)"
      ],
      "execution_count": null,
      "outputs": [
        {
          "output_type": "execute_result",
          "data": {
            "text/plain": [
              "(array([0, 1, 2, 3, 4, 5, 6, 7, 8, 9]),\n",
              " <a list of 10 Text major ticklabel objects>)"
            ]
          },
          "metadata": {
            "tags": []
          },
          "execution_count": 311
        },
        {
          "output_type": "display_data",
          "data": {
            "image/png": "[encoded data removed]",
            "text/plain": [
              "<Figure size 432x288 with 1 Axes>"
            ]
          },
          "metadata": {
            "tags": [],
            "needs_background": "light"
          }
        }
      ]
    },
    {
      "cell_type": "markdown",
      "metadata": {
        "id": "Y09vkP5YXIKg"
      },
      "source": [
        "* On avergage Total Booking of cabs decreases as the humidity increases"
      ]
    },
    {
      "cell_type": "code",
      "metadata": {
        "colab": {
          "base_uri": "https://localhost:8080/",
          "height": 359
        },
        "id": "EWo-QhutVQlA",
        "outputId": "a03d342b-a7ff-4760-ec77-14386d918abd"
      },
      "source": [
        "sns.boxplot(x='temp_block', y='Total_booking', data =df)\n",
        "plt.xticks(rotation = 90)"
      ],
      "execution_count": null,
      "outputs": [
        {
          "output_type": "execute_result",
          "data": {
            "text/plain": [
              "(array([0, 1, 2, 3, 4]), <a list of 5 Text major ticklabel objects>)"
            ]
          },
          "metadata": {
            "tags": []
          },
          "execution_count": 312
        },
        {
          "output_type": "display_data",
          "data": {
            "image/png": "[encoded data removed]",
            "text/plain": [
              "<Figure size 432x288 with 1 Axes>"
            ]
          },
          "metadata": {
            "tags": [],
            "needs_background": "light"
          }
        }
      ]
    },
    {
      "cell_type": "markdown",
      "metadata": {
        "id": "bsfRMbygXO38"
      },
      "source": [
        "* On avergage Total Booking of cabs increases as the temperature increases"
      ]
    },
    {
      "cell_type": "code",
      "metadata": {
        "colab": {
          "base_uri": "https://localhost:8080/",
          "height": 388
        },
        "id": "YMswGbW4VQOd",
        "outputId": "3c5c494c-e7e2-4156-cf9d-1155bb7376f1"
      },
      "source": [
        "sns.boxplot(x='wind_block', y='Total_booking', data =df)\n",
        "plt.xticks(rotation = 90)"
      ],
      "execution_count": null,
      "outputs": [
        {
          "output_type": "execute_result",
          "data": {
            "text/plain": [
              "(array([0, 1, 2, 3, 4, 5, 6, 7, 8]),\n",
              " <a list of 9 Text major ticklabel objects>)"
            ]
          },
          "metadata": {
            "tags": []
          },
          "execution_count": 313
        },
        {
          "output_type": "display_data",
          "data": {
            "image/png": "[encoded data removed]",
            "text/plain": [
              "<Figure size 432x288 with 1 Axes>"
            ]
          },
          "metadata": {
            "tags": [],
            "needs_background": "light"
          }
        }
      ]
    },
    {
      "cell_type": "markdown",
      "metadata": {
        "id": "OYdr2e5MXWjv"
      },
      "source": [
        "* There is no particularly visible correlation relationship between windspeed and total booking features"
      ]
    },
    {
      "cell_type": "code",
      "metadata": {
        "colab": {
          "base_uri": "https://localhost:8080/",
          "height": 279
        },
        "id": "m8cIMrXX5HM0",
        "outputId": "682cd09d-733c-437f-c1f1-596f5606132e"
      },
      "source": [
        "s3 = sns.scatterplot(x='workingday',y='Total_booking', data = df_copy)"
      ],
      "execution_count": null,
      "outputs": [
        {
          "output_type": "display_data",
          "data": {
            "image/png": "[encoded data removed]",
            "text/plain": [
              "<Figure size 432x288 with 1 Axes>"
            ]
          },
          "metadata": {
            "tags": [],
            "needs_background": "light"
          }
        }
      ]
    },
    {
      "cell_type": "markdown",
      "metadata": {
        "id": "vWsNrRbvHvHJ"
      },
      "source": [
        "* At first look workingday = 1 has higher Total_booking records than workingday = 0 "
      ]
    },
    {
      "cell_type": "code",
      "metadata": {
        "id": "KllMLve458_Z"
      },
      "source": [
        "# sns.pairplot(df_copy,height = 5, width = 5)"
      ],
      "execution_count": null,
      "outputs": []
    },
    {
      "cell_type": "code",
      "metadata": {
        "colab": {
          "base_uri": "https://localhost:8080/",
          "height": 296
        },
        "id": "iQbvWHXz9IF4",
        "outputId": "7a17aaaa-2678-4fd3-a33d-0bb14cabcbff"
      },
      "source": [
        "sns.boxplot(x='season',y='Total_booking', data = df_copy)"
      ],
      "execution_count": null,
      "outputs": [
        {
          "output_type": "execute_result",
          "data": {
            "text/plain": [
              "<matplotlib.axes._subplots.AxesSubplot at 0x7f8365db1990>"
            ]
          },
          "metadata": {
            "tags": []
          },
          "execution_count": 316
        },
        {
          "output_type": "display_data",
          "data": {
            "image/png": "[encoded data removed]",
            "text/plain": [
              "<Figure size 432x288 with 1 Axes>"
            ]
          },
          "metadata": {
            "tags": [],
            "needs_background": "light"
          }
        }
      ]
    },
    {
      "cell_type": "markdown",
      "metadata": {
        "id": "aixp3DVMYFih"
      },
      "source": [
        "* On average The fall season has higher number of cab bookings than the other seasons\n",
        "* Spring season has the least number of bookings on average"
      ]
    },
    {
      "cell_type": "code",
      "metadata": {
        "colab": {
          "base_uri": "https://localhost:8080/",
          "height": 344
        },
        "id": "V97o_9GH9tMz",
        "outputId": "93627235-0396-4699-8ae9-ef5ed50a644a"
      },
      "source": [
        "sns.boxplot(x='weekday',y='Total_booking', data = df_copy)\n",
        "plt.xticks(rotation = 90)"
      ],
      "execution_count": null,
      "outputs": [
        {
          "output_type": "execute_result",
          "data": {
            "text/plain": [
              "(array([0, 1, 2, 3, 4, 5, 6]), <a list of 7 Text major ticklabel objects>)"
            ]
          },
          "metadata": {
            "tags": []
          },
          "execution_count": 317
        },
        {
          "output_type": "display_data",
          "data": {
            "image/png": "[encoded data removed]",
            "text/plain": [
              "<Figure size 432x288 with 1 Axes>"
            ]
          },
          "metadata": {
            "tags": [],
            "needs_background": "light"
          }
        }
      ]
    },
    {
      "cell_type": "markdown",
      "metadata": {
        "id": "anL9xrtQYrPb"
      },
      "source": [
        "* No particular correlation between the week days and cab bookings as seen. But weekdays (Monday to Friday) seem to have a large number of outliers in the dataset"
      ]
    },
    {
      "cell_type": "code",
      "metadata": {
        "colab": {
          "base_uri": "https://localhost:8080/",
          "height": 434
        },
        "id": "pBc2luLa9wrZ",
        "outputId": "7abcfe8d-69f0-4439-8961-0a901ca3633b"
      },
      "source": [
        "sns.boxplot(x='weather',y='Total_booking', data = df_copy)\n",
        "plt.xticks(rotation = 90)"
      ],
      "execution_count": null,
      "outputs": [
        {
          "output_type": "execute_result",
          "data": {
            "text/plain": [
              "(array([0, 1, 2, 3]), <a list of 4 Text major ticklabel objects>)"
            ]
          },
          "metadata": {
            "tags": []
          },
          "execution_count": 318
        },
        {
          "output_type": "display_data",
          "data": {
            "image/png": "[encoded data removed]",
            "text/plain": [
              "<Figure size 432x288 with 1 Axes>"
            ]
          },
          "metadata": {
            "tags": [],
            "needs_background": "light"
          }
        }
      ]
    },
    {
      "cell_type": "markdown",
      "metadata": {
        "id": "WuqIxpII4BFM"
      },
      "source": [
        "* Only one entry is present for Heavy Rain + Thunderstorm weather condition"
      ]
    },
    {
      "cell_type": "code",
      "metadata": {
        "colab": {
          "base_uri": "https://localhost:8080/",
          "height": 316
        },
        "id": "sd58_3d792b5",
        "outputId": "03c4d836-c65a-43f6-a991-587550562a10"
      },
      "source": [
        "sns.boxplot(x='month',y='Total_booking', data = df_copy)\n",
        "plt.xticks(rotation = 90)"
      ],
      "execution_count": null,
      "outputs": [
        {
          "output_type": "execute_result",
          "data": {
            "text/plain": [
              "(array([ 0,  1,  2,  3,  4,  5,  6,  7,  8,  9, 10, 11]),\n",
              " <a list of 12 Text major ticklabel objects>)"
            ]
          },
          "metadata": {
            "tags": []
          },
          "execution_count": 319
        },
        {
          "output_type": "display_data",
          "data": {
            "image/png": "[encoded data removed]",
            "text/plain": [
              "<Figure size 432x288 with 1 Axes>"
            ]
          },
          "metadata": {
            "tags": [],
            "needs_background": "light"
          }
        }
      ]
    },
    {
      "cell_type": "markdown",
      "metadata": {
        "id": "xPS6ymecYd-u"
      },
      "source": [
        "* On average the months 6-10 have comparitively higher number of cab bookings in the year"
      ]
    },
    {
      "cell_type": "code",
      "metadata": {
        "colab": {
          "base_uri": "https://localhost:8080/",
          "height": 316
        },
        "id": "yD_7Qcmu-MoH",
        "outputId": "59f4cf15-0fce-4c61-d85e-6612cf4ad726"
      },
      "source": [
        "sns.boxplot(x='day',y='Total_booking', data = df_copy)\n",
        "plt.xticks(rotation = 90)"
      ],
      "execution_count": null,
      "outputs": [
        {
          "output_type": "execute_result",
          "data": {
            "text/plain": [
              "(array([ 0,  1,  2,  3,  4,  5,  6,  7,  8,  9, 10, 11, 12, 13, 14, 15, 16,\n",
              "        17, 18]), <a list of 19 Text major ticklabel objects>)"
            ]
          },
          "metadata": {
            "tags": []
          },
          "execution_count": 320
        },
        {
          "output_type": "display_data",
          "data": {
            "image/png": "[encoded data removed]",
            "text/plain": [
              "<Figure size 432x288 with 1 Axes>"
            ]
          },
          "metadata": {
            "tags": [],
            "needs_background": "light"
          }
        }
      ]
    },
    {
      "cell_type": "markdown",
      "metadata": {
        "id": "w8U353DTY_af"
      },
      "source": [
        "* No particular visible correlation between the day number of the month and total cab bookings"
      ]
    },
    {
      "cell_type": "code",
      "metadata": {
        "colab": {
          "base_uri": "https://localhost:8080/",
          "height": 312
        },
        "id": "ffylLs2p-Qej",
        "outputId": "21d85ac1-a096-4700-af22-95d5d3252597"
      },
      "source": [
        "sns.boxplot(x='year',y='Total_booking', data = df_copy)\n",
        "plt.xticks(rotation = 90)"
      ],
      "execution_count": null,
      "outputs": [
        {
          "output_type": "execute_result",
          "data": {
            "text/plain": [
              "(array([0, 1]), <a list of 2 Text major ticklabel objects>)"
            ]
          },
          "metadata": {
            "tags": []
          },
          "execution_count": 321
        },
        {
          "output_type": "display_data",
          "data": {
            "image/png": "[encoded data removed]",
            "text/plain": [
              "<Figure size 432x288 with 1 Axes>"
            ]
          },
          "metadata": {
            "tags": [],
            "needs_background": "light"
          }
        }
      ]
    },
    {
      "cell_type": "markdown",
      "metadata": {
        "id": "PD0dmBrGZJ5K"
      },
      "source": [
        "* As seen from the earlier visualizations, 2012 has higher number of average cab bookings, indicating the increase in cab demand per year"
      ]
    },
    {
      "cell_type": "code",
      "metadata": {
        "colab": {
          "base_uri": "https://localhost:8080/",
          "height": 550
        },
        "id": "cPGg1XPD-Uk6",
        "outputId": "d068b020-5f6c-481a-b3f1-ce42ecc91c44"
      },
      "source": [
        "plt.figure(figsize = (15,8))\n",
        "sns.boxplot(x='hour',y='Total_booking', data = df_copy)\n",
        "\n",
        "plt.xticks(rotation = 90)"
      ],
      "execution_count": null,
      "outputs": [
        {
          "output_type": "execute_result",
          "data": {
            "text/plain": [
              "(array([ 0,  1,  2,  3,  4,  5,  6,  7,  8,  9, 10, 11, 12, 13, 14, 15, 16,\n",
              "        17, 18, 19, 20, 21, 22, 23]),\n",
              " <a list of 24 Text major ticklabel objects>)"
            ]
          },
          "metadata": {
            "tags": []
          },
          "execution_count": 322
        },
        {
          "output_type": "display_data",
          "data": {
            "image/png": "[encoded data removed]",
            "text/plain": [
              "<Figure size 1080x576 with 1 Axes>"
            ]
          },
          "metadata": {
            "tags": [],
            "needs_background": "light"
          }
        }
      ]
    },
    {
      "cell_type": "markdown",
      "metadata": {
        "id": "AIfOgQalZVuQ"
      },
      "source": [
        "* As expected **office** **opening** and **closing** hours have higher number of cab booking than the rest of the hours in a day."
      ]
    },
    {
      "cell_type": "markdown",
      "metadata": {
        "id": "su6FXuaEILnW"
      },
      "source": [
        "## Outlier Analysis"
      ]
    },
    {
      "cell_type": "code",
      "metadata": {
        "id": "w5UkBwfONZI4"
      },
      "source": [
        "#Creating categorical feature mask\n",
        "categorical_feature_mask = df_copy.dtypes == object\n",
        "\n",
        "# Get list of categorical column names\n",
        "categorical_columns = df_copy.columns[categorical_feature_mask].tolist()\n",
        "\n",
        "# Get list of non-categorical column names\n",
        "non_categorical_columns = df_copy.columns[~categorical_feature_mask].tolist()\n",
        "outlier_analysis_columns = ['temp','atemp','humidity','windspeed']"
      ],
      "execution_count": null,
      "outputs": []
    },
    {
      "cell_type": "code",
      "metadata": {
        "id": "H2X4kVOIIM5y"
      },
      "source": [
        "def remove_outlier(df_in):\n",
        "  for i in df_in.columns:\n",
        "    if i in outlier_analysis_columns:\n",
        "      q1 = df_in[i].quantile(0.25)\n",
        "      q3 = df_in[i].quantile(0.75)\n",
        "      iqr = q3-q1 #Interquartile range\n",
        "      fence_low  = q1-1.5*iqr\n",
        "      fence_high = q3+1.5*iqr\n",
        "      df_out = df_in.loc[(df_in[i] > fence_low) & (df_in[i] < fence_high)]\n",
        "\n",
        "  return df_out\n"
      ],
      "execution_count": null,
      "outputs": []
    },
    {
      "cell_type": "code",
      "metadata": {
        "colab": {
          "base_uri": "https://localhost:8080/"
        },
        "id": "U37Bv8XMNO1p",
        "outputId": "229e4105-0b39-47b2-fc6e-84cee565c693"
      },
      "source": [
        "outlier_analysis_columns\n",
        "# These columns have numeric continuous data and are more prone to outliers"
      ],
      "execution_count": null,
      "outputs": [
        {
          "output_type": "execute_result",
          "data": {
            "text/plain": [
              "['temp', 'atemp', 'humidity', 'windspeed']"
            ]
          },
          "metadata": {
            "tags": []
          },
          "execution_count": 325
        }
      ]
    },
    {
      "cell_type": "code",
      "metadata": {
        "colab": {
          "base_uri": "https://localhost:8080/"
        },
        "id": "mgUYeBLPJCuv",
        "outputId": "c8df5603-570f-4a46-c81a-f46a139c7320"
      },
      "source": [
        "categorical_columns"
      ],
      "execution_count": null,
      "outputs": [
        {
          "output_type": "execute_result",
          "data": {
            "text/plain": [
              "['season', 'weather', 'date', 'weekday']"
            ]
          },
          "metadata": {
            "tags": []
          },
          "execution_count": 326
        }
      ]
    },
    {
      "cell_type": "code",
      "metadata": {
        "colab": {
          "base_uri": "https://localhost:8080/"
        },
        "id": "9WaulRJhJPB_",
        "outputId": "ca4b22d8-0a3c-467a-eda0-a837ada66dd4"
      },
      "source": [
        "non_categorical_columns"
      ],
      "execution_count": null,
      "outputs": [
        {
          "output_type": "execute_result",
          "data": {
            "text/plain": [
              "['holiday',\n",
              " 'workingday',\n",
              " 'temp',\n",
              " 'atemp',\n",
              " 'humidity',\n",
              " 'windspeed',\n",
              " 'Total_booking',\n",
              " 'hour',\n",
              " 'month',\n",
              " 'day',\n",
              " 'year']"
            ]
          },
          "metadata": {
            "tags": []
          },
          "execution_count": 327
        }
      ]
    },
    {
      "cell_type": "code",
      "metadata": {
        "colab": {
          "base_uri": "https://localhost:8080/",
          "height": 284
        },
        "id": "csPmbK7RIgSn",
        "outputId": "2616df38-4083-4be5-bd5b-8da43edc0010"
      },
      "source": [
        "df_copy.describe()"
      ],
      "execution_count": null,
      "outputs": [
        {
          "output_type": "execute_result",
          "data": {
            "text/html": [
              "<div>\n",
              "<style scoped>\n",
              "    .dataframe tbody tr th:only-of-type {\n",
              "        vertical-align: middle;\n",
              "    }\n",
              "\n",
              "    .dataframe tbody tr th {\n",
              "        vertical-align: top;\n",
              "    }\n",
              "\n",
              "    .dataframe thead th {\n",
              "        text-align: right;\n",
              "    }\n",
              "</style>\n",
              "<table border=\"1\" class=\"dataframe\">\n",
              "  <thead>\n",
              "    <tr style=\"text-align: right;\">\n",
              "      <th></th>\n",
              "      <th>holiday</th>\n",
              "      <th>workingday</th>\n",
              "      <th>temp</th>\n",
              "      <th>atemp</th>\n",
              "      <th>humidity</th>\n",
              "      <th>windspeed</th>\n",
              "      <th>Total_booking</th>\n",
              "      <th>hour</th>\n",
              "      <th>month</th>\n",
              "      <th>day</th>\n",
              "      <th>year</th>\n",
              "    </tr>\n",
              "  </thead>\n",
              "  <tbody>\n",
              "    <tr>\n",
              "      <th>count</th>\n",
              "      <td>8708.000000</td>\n",
              "      <td>8708.000000</td>\n",
              "      <td>8708.000000</td>\n",
              "      <td>8708.000000</td>\n",
              "      <td>8708.000000</td>\n",
              "      <td>8708.000000</td>\n",
              "      <td>8708.000000</td>\n",
              "      <td>8708.000000</td>\n",
              "      <td>8708.000000</td>\n",
              "      <td>8708.000000</td>\n",
              "      <td>8708.000000</td>\n",
              "    </tr>\n",
              "    <tr>\n",
              "      <th>mean</th>\n",
              "      <td>0.028480</td>\n",
              "      <td>0.680294</td>\n",
              "      <td>20.243020</td>\n",
              "      <td>23.655552</td>\n",
              "      <td>61.649173</td>\n",
              "      <td>12.843891</td>\n",
              "      <td>193.007005</td>\n",
              "      <td>11.581190</td>\n",
              "      <td>6.528709</td>\n",
              "      <td>10.009531</td>\n",
              "      <td>2011.505168</td>\n",
              "    </tr>\n",
              "    <tr>\n",
              "      <th>std</th>\n",
              "      <td>0.166348</td>\n",
              "      <td>0.466389</td>\n",
              "      <td>7.813494</td>\n",
              "      <td>8.501107</td>\n",
              "      <td>19.199578</td>\n",
              "      <td>8.190314</td>\n",
              "      <td>181.552211</td>\n",
              "      <td>6.890534</td>\n",
              "      <td>3.440879</td>\n",
              "      <td>5.480540</td>\n",
              "      <td>0.500002</td>\n",
              "    </tr>\n",
              "    <tr>\n",
              "      <th>min</th>\n",
              "      <td>0.000000</td>\n",
              "      <td>0.000000</td>\n",
              "      <td>0.820000</td>\n",
              "      <td>0.760000</td>\n",
              "      <td>0.000000</td>\n",
              "      <td>0.000000</td>\n",
              "      <td>1.000000</td>\n",
              "      <td>0.000000</td>\n",
              "      <td>1.000000</td>\n",
              "      <td>1.000000</td>\n",
              "      <td>2011.000000</td>\n",
              "    </tr>\n",
              "    <tr>\n",
              "      <th>25%</th>\n",
              "      <td>0.000000</td>\n",
              "      <td>0.000000</td>\n",
              "      <td>13.940000</td>\n",
              "      <td>16.665000</td>\n",
              "      <td>46.000000</td>\n",
              "      <td>7.001500</td>\n",
              "      <td>43.000000</td>\n",
              "      <td>6.000000</td>\n",
              "      <td>4.000000</td>\n",
              "      <td>5.000000</td>\n",
              "      <td>2011.000000</td>\n",
              "    </tr>\n",
              "    <tr>\n",
              "      <th>50%</th>\n",
              "      <td>0.000000</td>\n",
              "      <td>1.000000</td>\n",
              "      <td>20.500000</td>\n",
              "      <td>24.240000</td>\n",
              "      <td>61.000000</td>\n",
              "      <td>12.998000</td>\n",
              "      <td>148.000000</td>\n",
              "      <td>12.000000</td>\n",
              "      <td>7.000000</td>\n",
              "      <td>10.000000</td>\n",
              "      <td>2012.000000</td>\n",
              "    </tr>\n",
              "    <tr>\n",
              "      <th>75%</th>\n",
              "      <td>0.000000</td>\n",
              "      <td>1.000000</td>\n",
              "      <td>26.240000</td>\n",
              "      <td>31.060000</td>\n",
              "      <td>77.000000</td>\n",
              "      <td>16.997900</td>\n",
              "      <td>286.000000</td>\n",
              "      <td>18.000000</td>\n",
              "      <td>10.000000</td>\n",
              "      <td>15.000000</td>\n",
              "      <td>2012.000000</td>\n",
              "    </tr>\n",
              "    <tr>\n",
              "      <th>max</th>\n",
              "      <td>1.000000</td>\n",
              "      <td>1.000000</td>\n",
              "      <td>41.000000</td>\n",
              "      <td>45.455000</td>\n",
              "      <td>100.000000</td>\n",
              "      <td>56.996900</td>\n",
              "      <td>977.000000</td>\n",
              "      <td>23.000000</td>\n",
              "      <td>12.000000</td>\n",
              "      <td>19.000000</td>\n",
              "      <td>2012.000000</td>\n",
              "    </tr>\n",
              "  </tbody>\n",
              "</table>\n",
              "</div>"
            ],
            "text/plain": [
              "           holiday   workingday  ...          day         year\n",
              "count  8708.000000  8708.000000  ...  8708.000000  8708.000000\n",
              "mean      0.028480     0.680294  ...    10.009531  2011.505168\n",
              "std       0.166348     0.466389  ...     5.480540     0.500002\n",
              "min       0.000000     0.000000  ...     1.000000  2011.000000\n",
              "25%       0.000000     0.000000  ...     5.000000  2011.000000\n",
              "50%       0.000000     1.000000  ...    10.000000  2012.000000\n",
              "75%       0.000000     1.000000  ...    15.000000  2012.000000\n",
              "max       1.000000     1.000000  ...    19.000000  2012.000000\n",
              "\n",
              "[8 rows x 11 columns]"
            ]
          },
          "metadata": {
            "tags": []
          },
          "execution_count": 328
        }
      ]
    },
    {
      "cell_type": "code",
      "metadata": {
        "colab": {
          "base_uri": "https://localhost:8080/"
        },
        "id": "1ZucoDLOOVzf",
        "outputId": "d6cff187-d825-4b0b-e841-38638fa857ba"
      },
      "source": [
        "df_copy.shape"
      ],
      "execution_count": null,
      "outputs": [
        {
          "output_type": "execute_result",
          "data": {
            "text/plain": [
              "(8708, 15)"
            ]
          },
          "metadata": {
            "tags": []
          },
          "execution_count": 329
        }
      ]
    },
    {
      "cell_type": "markdown",
      "metadata": {
        "id": "xqFTTAPp4Tey"
      },
      "source": [
        "### df_out11 -> training dataset with outlier analysis columns\n",
        "### df_test_copy_out11 -> test dataset with outlier analysis columns"
      ]
    },
    {
      "cell_type": "code",
      "metadata": {
        "id": "gDu_nHQiO2s_"
      },
      "source": [
        "# Seperating the columns for outlier analysis\n",
        "df_out11 = df_copy[outlier_analysis_columns]\n",
        "df_test_copy_out11 = df_test_copy[outlier_analysis_columns]"
      ],
      "execution_count": null,
      "outputs": []
    },
    {
      "cell_type": "code",
      "metadata": {
        "colab": {
          "base_uri": "https://localhost:8080/",
          "height": 284
        },
        "id": "6YK-1uYyPKD6",
        "outputId": "76d88e3a-afbc-4559-b628-045ffd949d47"
      },
      "source": [
        "df_out11.describe()"
      ],
      "execution_count": null,
      "outputs": [
        {
          "output_type": "execute_result",
          "data": {
            "text/html": [
              "<div>\n",
              "<style scoped>\n",
              "    .dataframe tbody tr th:only-of-type {\n",
              "        vertical-align: middle;\n",
              "    }\n",
              "\n",
              "    .dataframe tbody tr th {\n",
              "        vertical-align: top;\n",
              "    }\n",
              "\n",
              "    .dataframe thead th {\n",
              "        text-align: right;\n",
              "    }\n",
              "</style>\n",
              "<table border=\"1\" class=\"dataframe\">\n",
              "  <thead>\n",
              "    <tr style=\"text-align: right;\">\n",
              "      <th></th>\n",
              "      <th>temp</th>\n",
              "      <th>atemp</th>\n",
              "      <th>humidity</th>\n",
              "      <th>windspeed</th>\n",
              "    </tr>\n",
              "  </thead>\n",
              "  <tbody>\n",
              "    <tr>\n",
              "      <th>count</th>\n",
              "      <td>8708.000000</td>\n",
              "      <td>8708.000000</td>\n",
              "      <td>8708.000000</td>\n",
              "      <td>8708.000000</td>\n",
              "    </tr>\n",
              "    <tr>\n",
              "      <th>mean</th>\n",
              "      <td>20.243020</td>\n",
              "      <td>23.655552</td>\n",
              "      <td>61.649173</td>\n",
              "      <td>12.843891</td>\n",
              "    </tr>\n",
              "    <tr>\n",
              "      <th>std</th>\n",
              "      <td>7.813494</td>\n",
              "      <td>8.501107</td>\n",
              "      <td>19.199578</td>\n",
              "      <td>8.190314</td>\n",
              "    </tr>\n",
              "    <tr>\n",
              "      <th>min</th>\n",
              "      <td>0.820000</td>\n",
              "      <td>0.760000</td>\n",
              "      <td>0.000000</td>\n",
              "      <td>0.000000</td>\n",
              "    </tr>\n",
              "    <tr>\n",
              "      <th>25%</th>\n",
              "      <td>13.940000</td>\n",
              "      <td>16.665000</td>\n",
              "      <td>46.000000</td>\n",
              "      <td>7.001500</td>\n",
              "    </tr>\n",
              "    <tr>\n",
              "      <th>50%</th>\n",
              "      <td>20.500000</td>\n",
              "      <td>24.240000</td>\n",
              "      <td>61.000000</td>\n",
              "      <td>12.998000</td>\n",
              "    </tr>\n",
              "    <tr>\n",
              "      <th>75%</th>\n",
              "      <td>26.240000</td>\n",
              "      <td>31.060000</td>\n",
              "      <td>77.000000</td>\n",
              "      <td>16.997900</td>\n",
              "    </tr>\n",
              "    <tr>\n",
              "      <th>max</th>\n",
              "      <td>41.000000</td>\n",
              "      <td>45.455000</td>\n",
              "      <td>100.000000</td>\n",
              "      <td>56.996900</td>\n",
              "    </tr>\n",
              "  </tbody>\n",
              "</table>\n",
              "</div>"
            ],
            "text/plain": [
              "              temp        atemp     humidity    windspeed\n",
              "count  8708.000000  8708.000000  8708.000000  8708.000000\n",
              "mean     20.243020    23.655552    61.649173    12.843891\n",
              "std       7.813494     8.501107    19.199578     8.190314\n",
              "min       0.820000     0.760000     0.000000     0.000000\n",
              "25%      13.940000    16.665000    46.000000     7.001500\n",
              "50%      20.500000    24.240000    61.000000    12.998000\n",
              "75%      26.240000    31.060000    77.000000    16.997900\n",
              "max      41.000000    45.455000   100.000000    56.996900"
            ]
          },
          "metadata": {
            "tags": []
          },
          "execution_count": 333
        }
      ]
    },
    {
      "cell_type": "code",
      "metadata": {
        "colab": {
          "base_uri": "https://localhost:8080/"
        },
        "id": "1HjuAD0jPLJS",
        "outputId": "77b5504a-79ea-40b8-d6b1-2e765c96ec34"
      },
      "source": [
        "df_out11.shape, df_test_copy_out11.shape"
      ],
      "execution_count": null,
      "outputs": [
        {
          "output_type": "execute_result",
          "data": {
            "text/plain": [
              "((8708, 4), (2178, 4))"
            ]
          },
          "metadata": {
            "tags": []
          },
          "execution_count": 334
        }
      ]
    },
    {
      "cell_type": "markdown",
      "metadata": {
        "id": "W8z4cHPE4m-S"
      },
      "source": [
        "### **df_out1111** = Training data set filtered for outliers\n",
        "### **df_test_copy_out1111** = Testing data set filtered for outliers"
      ]
    },
    {
      "cell_type": "markdown",
      "metadata": {
        "id": "A4jU1snAaJAy"
      },
      "source": [
        "### Creating an outlier filter to filter outliers\n",
        "* Assuming outlier = value with zscore less than 3 or greater than 3.\n",
        "* x is not an outlier if zscore = -3 < x < zscore = +3"
      ]
    },
    {
      "cell_type": "code",
      "metadata": {
        "id": "il8jvTrXPN8U"
      },
      "source": [
        "df_out1111 =df_out11[(np.abs(stats.zscore(df_out11)) < 3).all(axis=1)]\n",
        "df_test_copy_out1111 = df_test_copy_out11[(np.abs(stats.zscore(df_test_copy_out11)) < 3).all(axis=1)]"
      ],
      "execution_count": null,
      "outputs": []
    },
    {
      "cell_type": "code",
      "metadata": {
        "colab": {
          "base_uri": "https://localhost:8080/"
        },
        "id": "mrlPgQF6PWVY",
        "outputId": "d3037505-96f9-41c7-e180-2d1a495e50cd"
      },
      "source": [
        "df_out1111.shape,df_test_copy_out1111.shape"
      ],
      "execution_count": null,
      "outputs": [
        {
          "output_type": "execute_result",
          "data": {
            "text/plain": [
              "((8643, 4), (2152, 4))"
            ]
          },
          "metadata": {
            "tags": []
          },
          "execution_count": 337
        }
      ]
    },
    {
      "cell_type": "code",
      "metadata": {
        "colab": {
          "base_uri": "https://localhost:8080/",
          "height": 284
        },
        "id": "izfgms1qcmv8",
        "outputId": "b0bef6a7-51f5-4bbf-ffda-0317d291d14a"
      },
      "source": [
        "df_copy[['temp','atemp','humidity','windspeed']].describe()"
      ],
      "execution_count": null,
      "outputs": [
        {
          "output_type": "execute_result",
          "data": {
            "text/html": [
              "<div>\n",
              "<style scoped>\n",
              "    .dataframe tbody tr th:only-of-type {\n",
              "        vertical-align: middle;\n",
              "    }\n",
              "\n",
              "    .dataframe tbody tr th {\n",
              "        vertical-align: top;\n",
              "    }\n",
              "\n",
              "    .dataframe thead th {\n",
              "        text-align: right;\n",
              "    }\n",
              "</style>\n",
              "<table border=\"1\" class=\"dataframe\">\n",
              "  <thead>\n",
              "    <tr style=\"text-align: right;\">\n",
              "      <th></th>\n",
              "      <th>temp</th>\n",
              "      <th>atemp</th>\n",
              "      <th>humidity</th>\n",
              "      <th>windspeed</th>\n",
              "    </tr>\n",
              "  </thead>\n",
              "  <tbody>\n",
              "    <tr>\n",
              "      <th>count</th>\n",
              "      <td>8708.000000</td>\n",
              "      <td>8708.000000</td>\n",
              "      <td>8708.000000</td>\n",
              "      <td>8708.000000</td>\n",
              "    </tr>\n",
              "    <tr>\n",
              "      <th>mean</th>\n",
              "      <td>20.243020</td>\n",
              "      <td>23.655552</td>\n",
              "      <td>61.649173</td>\n",
              "      <td>12.843891</td>\n",
              "    </tr>\n",
              "    <tr>\n",
              "      <th>std</th>\n",
              "      <td>7.813494</td>\n",
              "      <td>8.501107</td>\n",
              "      <td>19.199578</td>\n",
              "      <td>8.190314</td>\n",
              "    </tr>\n",
              "    <tr>\n",
              "      <th>min</th>\n",
              "      <td>0.820000</td>\n",
              "      <td>0.760000</td>\n",
              "      <td>0.000000</td>\n",
              "      <td>0.000000</td>\n",
              "    </tr>\n",
              "    <tr>\n",
              "      <th>25%</th>\n",
              "      <td>13.940000</td>\n",
              "      <td>16.665000</td>\n",
              "      <td>46.000000</td>\n",
              "      <td>7.001500</td>\n",
              "    </tr>\n",
              "    <tr>\n",
              "      <th>50%</th>\n",
              "      <td>20.500000</td>\n",
              "      <td>24.240000</td>\n",
              "      <td>61.000000</td>\n",
              "      <td>12.998000</td>\n",
              "    </tr>\n",
              "    <tr>\n",
              "      <th>75%</th>\n",
              "      <td>26.240000</td>\n",
              "      <td>31.060000</td>\n",
              "      <td>77.000000</td>\n",
              "      <td>16.997900</td>\n",
              "    </tr>\n",
              "    <tr>\n",
              "      <th>max</th>\n",
              "      <td>41.000000</td>\n",
              "      <td>45.455000</td>\n",
              "      <td>100.000000</td>\n",
              "      <td>56.996900</td>\n",
              "    </tr>\n",
              "  </tbody>\n",
              "</table>\n",
              "</div>"
            ],
            "text/plain": [
              "              temp        atemp     humidity    windspeed\n",
              "count  8708.000000  8708.000000  8708.000000  8708.000000\n",
              "mean     20.243020    23.655552    61.649173    12.843891\n",
              "std       7.813494     8.501107    19.199578     8.190314\n",
              "min       0.820000     0.760000     0.000000     0.000000\n",
              "25%      13.940000    16.665000    46.000000     7.001500\n",
              "50%      20.500000    24.240000    61.000000    12.998000\n",
              "75%      26.240000    31.060000    77.000000    16.997900\n",
              "max      41.000000    45.455000   100.000000    56.996900"
            ]
          },
          "metadata": {
            "tags": []
          },
          "execution_count": 338
        }
      ]
    },
    {
      "cell_type": "code",
      "metadata": {
        "colab": {
          "base_uri": "https://localhost:8080/",
          "height": 284
        },
        "id": "sApstztIPXux",
        "outputId": "e5f57735-e0e1-494e-b063-804bfe09db6e"
      },
      "source": [
        "df_out1111.describe()"
      ],
      "execution_count": null,
      "outputs": [
        {
          "output_type": "execute_result",
          "data": {
            "text/html": [
              "<div>\n",
              "<style scoped>\n",
              "    .dataframe tbody tr th:only-of-type {\n",
              "        vertical-align: middle;\n",
              "    }\n",
              "\n",
              "    .dataframe tbody tr th {\n",
              "        vertical-align: top;\n",
              "    }\n",
              "\n",
              "    .dataframe thead th {\n",
              "        text-align: right;\n",
              "    }\n",
              "</style>\n",
              "<table border=\"1\" class=\"dataframe\">\n",
              "  <thead>\n",
              "    <tr style=\"text-align: right;\">\n",
              "      <th></th>\n",
              "      <th>temp</th>\n",
              "      <th>atemp</th>\n",
              "      <th>humidity</th>\n",
              "      <th>windspeed</th>\n",
              "    </tr>\n",
              "  </thead>\n",
              "  <tbody>\n",
              "    <tr>\n",
              "      <th>count</th>\n",
              "      <td>8643.000000</td>\n",
              "      <td>8643.000000</td>\n",
              "      <td>8643.000000</td>\n",
              "      <td>8643.000000</td>\n",
              "    </tr>\n",
              "    <tr>\n",
              "      <th>mean</th>\n",
              "      <td>20.270309</td>\n",
              "      <td>23.689180</td>\n",
              "      <td>61.858845</td>\n",
              "      <td>12.672636</td>\n",
              "    </tr>\n",
              "    <tr>\n",
              "      <th>std</th>\n",
              "      <td>7.816654</td>\n",
              "      <td>8.493366</td>\n",
              "      <td>18.955470</td>\n",
              "      <td>7.913751</td>\n",
              "    </tr>\n",
              "    <tr>\n",
              "      <th>min</th>\n",
              "      <td>0.820000</td>\n",
              "      <td>0.760000</td>\n",
              "      <td>8.000000</td>\n",
              "      <td>0.000000</td>\n",
              "    </tr>\n",
              "    <tr>\n",
              "      <th>25%</th>\n",
              "      <td>13.940000</td>\n",
              "      <td>16.665000</td>\n",
              "      <td>47.000000</td>\n",
              "      <td>7.001500</td>\n",
              "    </tr>\n",
              "    <tr>\n",
              "      <th>50%</th>\n",
              "      <td>20.500000</td>\n",
              "      <td>24.240000</td>\n",
              "      <td>62.000000</td>\n",
              "      <td>12.998000</td>\n",
              "    </tr>\n",
              "    <tr>\n",
              "      <th>75%</th>\n",
              "      <td>26.240000</td>\n",
              "      <td>31.060000</td>\n",
              "      <td>77.000000</td>\n",
              "      <td>16.997900</td>\n",
              "    </tr>\n",
              "    <tr>\n",
              "      <th>max</th>\n",
              "      <td>41.000000</td>\n",
              "      <td>45.455000</td>\n",
              "      <td>100.000000</td>\n",
              "      <td>36.997400</td>\n",
              "    </tr>\n",
              "  </tbody>\n",
              "</table>\n",
              "</div>"
            ],
            "text/plain": [
              "              temp        atemp     humidity    windspeed\n",
              "count  8643.000000  8643.000000  8643.000000  8643.000000\n",
              "mean     20.270309    23.689180    61.858845    12.672636\n",
              "std       7.816654     8.493366    18.955470     7.913751\n",
              "min       0.820000     0.760000     8.000000     0.000000\n",
              "25%      13.940000    16.665000    47.000000     7.001500\n",
              "50%      20.500000    24.240000    62.000000    12.998000\n",
              "75%      26.240000    31.060000    77.000000    16.997900\n",
              "max      41.000000    45.455000   100.000000    36.997400"
            ]
          },
          "metadata": {
            "tags": []
          },
          "execution_count": 339
        }
      ]
    },
    {
      "cell_type": "markdown",
      "metadata": {
        "id": "QccdzTMScyHh"
      },
      "source": [
        "* As we see here we are able to remove the outliers according to our set range\n",
        "* eg - max for windspeed and min for humidity"
      ]
    },
    {
      "cell_type": "markdown",
      "metadata": {
        "id": "xUJ_SCQ-bjTn"
      },
      "source": [
        "### Adding the outlier filtered dataset with original features that we left out *earlier*"
      ]
    },
    {
      "cell_type": "code",
      "metadata": {
        "colab": {
          "base_uri": "https://localhost:8080/"
        },
        "id": "UEiHdaqRPbiM",
        "outputId": "901a9e21-f96b-4ee7-e973-0e8331b13129"
      },
      "source": [
        "for i in df_copy.columns:\n",
        "  if i not in df_out1111.columns:\n",
        "    df_out1111[i]=df_copy[i]\n",
        "\n",
        "for i in df_test_copy.columns:\n",
        "  if i not in df_test_copy_out1111.columns:\n",
        "    df_test_copy_out1111[i]=df_test_copy[i]\n"
      ],
      "execution_count": null,
      "outputs": [
        {
          "output_type": "stream",
          "text": [
            "/usr/local/lib/python3.7/dist-packages/ipykernel_launcher.py:3: SettingWithCopyWarning: \n",
            "A value is trying to be set on a copy of a slice from a DataFrame.\n",
            "Try using .loc[row_indexer,col_indexer] = value instead\n",
            "\n",
            "See the caveats in the documentation: https://pandas.pydata.org/pandas-docs/stable/user_guide/indexing.html#returning-a-view-versus-a-copy\n",
            "  This is separate from the ipykernel package so we can avoid doing imports until\n",
            "/usr/local/lib/python3.7/dist-packages/ipykernel_launcher.py:7: SettingWithCopyWarning: \n",
            "A value is trying to be set on a copy of a slice from a DataFrame.\n",
            "Try using .loc[row_indexer,col_indexer] = value instead\n",
            "\n",
            "See the caveats in the documentation: https://pandas.pydata.org/pandas-docs/stable/user_guide/indexing.html#returning-a-view-versus-a-copy\n",
            "  import sys\n"
          ],
          "name": "stderr"
        }
      ]
    },
    {
      "cell_type": "code",
      "metadata": {
        "colab": {
          "base_uri": "https://localhost:8080/"
        },
        "id": "aGBoJ8Vab6Sd",
        "outputId": "37ff0823-2445-4dd0-c110-a7e98322e417"
      },
      "source": [
        "df_out1111.shape, df_test_copy_out1111.shape"
      ],
      "execution_count": null,
      "outputs": [
        {
          "output_type": "execute_result",
          "data": {
            "text/plain": [
              "((8643, 15), (2152, 15))"
            ]
          },
          "metadata": {
            "tags": []
          },
          "execution_count": 341
        }
      ]
    },
    {
      "cell_type": "markdown",
      "metadata": {
        "id": "Y52f0YiXdIUg"
      },
      "source": [
        "### We know that workingday and holiday should reflect each other. That is, one should be opposite of another\n",
        "* But as we see this is not the case in our dataset"
      ]
    },
    {
      "cell_type": "code",
      "metadata": {
        "colab": {
          "base_uri": "https://localhost:8080/"
        },
        "id": "n0ly9t3PdHe7",
        "outputId": "94cfd6a1-631d-4de3-bc44-bdc7b308a159"
      },
      "source": [
        "df_out1111[df_out1111['holiday']==df_out1111['workingday']].shape[0]"
      ],
      "execution_count": null,
      "outputs": [
        {
          "output_type": "execute_result",
          "data": {
            "text/plain": [
              "2519"
            ]
          },
          "metadata": {
            "tags": []
          },
          "execution_count": 342
        }
      ]
    },
    {
      "cell_type": "code",
      "metadata": {
        "colab": {
          "base_uri": "https://localhost:8080/"
        },
        "id": "EDOP3R1BdnQS",
        "outputId": "a90ad5bd-e4a3-4542-c7c0-5902f03df1a0"
      },
      "source": [
        "df_out1111.shape[0]"
      ],
      "execution_count": null,
      "outputs": [
        {
          "output_type": "execute_result",
          "data": {
            "text/plain": [
              "8643"
            ]
          },
          "metadata": {
            "tags": []
          },
          "execution_count": 343
        }
      ]
    },
    {
      "cell_type": "code",
      "metadata": {
        "colab": {
          "base_uri": "https://localhost:8080/"
        },
        "id": "lb0U8IDldpko",
        "outputId": "84d64ea9-8eef-4294-f329-4d0e5d8ab568"
      },
      "source": [
        "round(df_out1111[df_out1111['holiday']==df_out1111['workingday']].shape[0]/df_out1111.shape[0] * 100,2)"
      ],
      "execution_count": null,
      "outputs": [
        {
          "output_type": "execute_result",
          "data": {
            "text/plain": [
              "29.14"
            ]
          },
          "metadata": {
            "tags": []
          },
          "execution_count": 344
        }
      ]
    },
    {
      "cell_type": "markdown",
      "metadata": {
        "id": "Mndtt7p5d90R"
      },
      "source": [
        "* ~30% of the columns in holiday column and workingday are not opposite. i.e. They are equal\n",
        "* We cannot drop these 30% columns as they will affect the model performance\n",
        "* Hence we will drop the holiday column.\n",
        "* We will drop the column in the Correlation Analysis Section"
      ]
    },
    {
      "cell_type": "code",
      "metadata": {
        "colab": {
          "base_uri": "https://localhost:8080/",
          "height": 136
        },
        "id": "df9jMBIzP8uT",
        "outputId": "fbb276a3-3e4a-42a1-fa41-d7c9855a59ef"
      },
      "source": [
        "df_out1111.head(3)"
      ],
      "execution_count": null,
      "outputs": [
        {
          "output_type": "execute_result",
          "data": {
            "text/html": [
              "<div>\n",
              "<style scoped>\n",
              "    .dataframe tbody tr th:only-of-type {\n",
              "        vertical-align: middle;\n",
              "    }\n",
              "\n",
              "    .dataframe tbody tr th {\n",
              "        vertical-align: top;\n",
              "    }\n",
              "\n",
              "    .dataframe thead th {\n",
              "        text-align: right;\n",
              "    }\n",
              "</style>\n",
              "<table border=\"1\" class=\"dataframe\">\n",
              "  <thead>\n",
              "    <tr style=\"text-align: right;\">\n",
              "      <th></th>\n",
              "      <th>temp</th>\n",
              "      <th>atemp</th>\n",
              "      <th>humidity</th>\n",
              "      <th>windspeed</th>\n",
              "      <th>season</th>\n",
              "      <th>holiday</th>\n",
              "      <th>workingday</th>\n",
              "      <th>weather</th>\n",
              "      <th>Total_booking</th>\n",
              "      <th>date</th>\n",
              "      <th>hour</th>\n",
              "      <th>weekday</th>\n",
              "      <th>month</th>\n",
              "      <th>day</th>\n",
              "      <th>year</th>\n",
              "    </tr>\n",
              "  </thead>\n",
              "  <tbody>\n",
              "    <tr>\n",
              "      <th>0</th>\n",
              "      <td>22.14</td>\n",
              "      <td>25.760</td>\n",
              "      <td>77</td>\n",
              "      <td>16.9979</td>\n",
              "      <td>Summer</td>\n",
              "      <td>0</td>\n",
              "      <td>1</td>\n",
              "      <td>Clear + Few clouds</td>\n",
              "      <td>504</td>\n",
              "      <td>5/2/2012</td>\n",
              "      <td>19</td>\n",
              "      <td>Wednesday</td>\n",
              "      <td>5</td>\n",
              "      <td>2</td>\n",
              "      <td>2012</td>\n",
              "    </tr>\n",
              "    <tr>\n",
              "      <th>1</th>\n",
              "      <td>28.70</td>\n",
              "      <td>33.335</td>\n",
              "      <td>79</td>\n",
              "      <td>19.0012</td>\n",
              "      <td>Fall</td>\n",
              "      <td>0</td>\n",
              "      <td>1</td>\n",
              "      <td>Clear + Few clouds</td>\n",
              "      <td>5</td>\n",
              "      <td>9/5/2012</td>\n",
              "      <td>4</td>\n",
              "      <td>Wednesday</td>\n",
              "      <td>9</td>\n",
              "      <td>5</td>\n",
              "      <td>2012</td>\n",
              "    </tr>\n",
              "    <tr>\n",
              "      <th>2</th>\n",
              "      <td>5.74</td>\n",
              "      <td>6.060</td>\n",
              "      <td>50</td>\n",
              "      <td>22.0028</td>\n",
              "      <td>Spring</td>\n",
              "      <td>0</td>\n",
              "      <td>1</td>\n",
              "      <td>Clear + Few clouds</td>\n",
              "      <td>139</td>\n",
              "      <td>1/13/2011</td>\n",
              "      <td>9</td>\n",
              "      <td>Thursday</td>\n",
              "      <td>1</td>\n",
              "      <td>13</td>\n",
              "      <td>2011</td>\n",
              "    </tr>\n",
              "  </tbody>\n",
              "</table>\n",
              "</div>"
            ],
            "text/plain": [
              "    temp   atemp  humidity  windspeed  ...    weekday  month  day  year\n",
              "0  22.14  25.760        77    16.9979  ...  Wednesday      5    2  2012\n",
              "1  28.70  33.335        79    19.0012  ...  Wednesday      9    5  2012\n",
              "2   5.74   6.060        50    22.0028  ...   Thursday      1   13  2011\n",
              "\n",
              "[3 rows x 15 columns]"
            ]
          },
          "metadata": {
            "tags": []
          },
          "execution_count": 345
        }
      ]
    },
    {
      "cell_type": "code",
      "metadata": {
        "colab": {
          "base_uri": "https://localhost:8080/",
          "height": 136
        },
        "id": "gtWx92gQVXms",
        "outputId": "95734b41-673a-4dc2-bdfd-fafc3f120a56"
      },
      "source": [
        "df_test_copy_out1111.head(3)"
      ],
      "execution_count": null,
      "outputs": [
        {
          "output_type": "execute_result",
          "data": {
            "text/html": [
              "<div>\n",
              "<style scoped>\n",
              "    .dataframe tbody tr th:only-of-type {\n",
              "        vertical-align: middle;\n",
              "    }\n",
              "\n",
              "    .dataframe tbody tr th {\n",
              "        vertical-align: top;\n",
              "    }\n",
              "\n",
              "    .dataframe thead th {\n",
              "        text-align: right;\n",
              "    }\n",
              "</style>\n",
              "<table border=\"1\" class=\"dataframe\">\n",
              "  <thead>\n",
              "    <tr style=\"text-align: right;\">\n",
              "      <th></th>\n",
              "      <th>temp</th>\n",
              "      <th>atemp</th>\n",
              "      <th>humidity</th>\n",
              "      <th>windspeed</th>\n",
              "      <th>season</th>\n",
              "      <th>holiday</th>\n",
              "      <th>workingday</th>\n",
              "      <th>weather</th>\n",
              "      <th>Total_booking</th>\n",
              "      <th>date</th>\n",
              "      <th>hour</th>\n",
              "      <th>weekday</th>\n",
              "      <th>month</th>\n",
              "      <th>day</th>\n",
              "      <th>year</th>\n",
              "    </tr>\n",
              "  </thead>\n",
              "  <tbody>\n",
              "    <tr>\n",
              "      <th>0</th>\n",
              "      <td>21.32</td>\n",
              "      <td>25.000</td>\n",
              "      <td>48</td>\n",
              "      <td>35.0008</td>\n",
              "      <td>Summer</td>\n",
              "      <td>0</td>\n",
              "      <td>1</td>\n",
              "      <td>Clear + Few clouds</td>\n",
              "      <td>256</td>\n",
              "      <td>5/10/2012</td>\n",
              "      <td>11</td>\n",
              "      <td>Thursday</td>\n",
              "      <td>5</td>\n",
              "      <td>10</td>\n",
              "      <td>2012</td>\n",
              "    </tr>\n",
              "    <tr>\n",
              "      <th>1</th>\n",
              "      <td>23.78</td>\n",
              "      <td>27.275</td>\n",
              "      <td>64</td>\n",
              "      <td>7.0015</td>\n",
              "      <td>Summer</td>\n",
              "      <td>0</td>\n",
              "      <td>0</td>\n",
              "      <td>Clear + Few clouds</td>\n",
              "      <td>87</td>\n",
              "      <td>6/9/2012</td>\n",
              "      <td>7</td>\n",
              "      <td>Saturday</td>\n",
              "      <td>6</td>\n",
              "      <td>9</td>\n",
              "      <td>2012</td>\n",
              "    </tr>\n",
              "    <tr>\n",
              "      <th>2</th>\n",
              "      <td>11.48</td>\n",
              "      <td>12.120</td>\n",
              "      <td>100</td>\n",
              "      <td>27.9993</td>\n",
              "      <td>Spring</td>\n",
              "      <td>0</td>\n",
              "      <td>0</td>\n",
              "      <td>Light Snow, Light Rain</td>\n",
              "      <td>11</td>\n",
              "      <td>3/6/2011</td>\n",
              "      <td>20</td>\n",
              "      <td>Sunday</td>\n",
              "      <td>3</td>\n",
              "      <td>6</td>\n",
              "      <td>2011</td>\n",
              "    </tr>\n",
              "  </tbody>\n",
              "</table>\n",
              "</div>"
            ],
            "text/plain": [
              "    temp   atemp  humidity  windspeed  season  ...  hour   weekday month  day  year\n",
              "0  21.32  25.000        48    35.0008  Summer  ...    11  Thursday     5   10  2012\n",
              "1  23.78  27.275        64     7.0015  Summer  ...     7  Saturday     6    9  2012\n",
              "2  11.48  12.120       100    27.9993  Spring  ...    20    Sunday     3    6  2011\n",
              "\n",
              "[3 rows x 15 columns]"
            ]
          },
          "metadata": {
            "tags": []
          },
          "execution_count": 346
        }
      ]
    },
    {
      "cell_type": "code",
      "metadata": {
        "colab": {
          "base_uri": "https://localhost:8080/",
          "height": 434
        },
        "id": "1E_1owSeQNff",
        "outputId": "e41d15f4-e02b-4d53-afb7-d32619b61c73"
      },
      "source": [
        "sns.boxplot(x='weather',y='humidity',data = df_copy)\n",
        "plt.xticks(rotation = 90)"
      ],
      "execution_count": null,
      "outputs": [
        {
          "output_type": "execute_result",
          "data": {
            "text/plain": [
              "(array([0, 1, 2, 3]), <a list of 4 Text major ticklabel objects>)"
            ]
          },
          "metadata": {
            "tags": []
          },
          "execution_count": 347
        },
        {
          "output_type": "display_data",
          "data": {
            "image/png": "[encoded data removed]",
            "text/plain": [
              "<Figure size 432x288 with 1 Axes>"
            ]
          },
          "metadata": {
            "tags": [],
            "needs_background": "light"
          }
        }
      ]
    },
    {
      "cell_type": "code",
      "metadata": {
        "colab": {
          "base_uri": "https://localhost:8080/",
          "height": 434
        },
        "id": "l4ZGRFl0QSgH",
        "outputId": "595dd87d-6362-4f55-d1cb-668c3ee59978"
      },
      "source": [
        "sns.boxplot(x='weather',y='humidity',data = df_out1111)\n",
        "\n",
        "plt.xticks(rotation = 90)"
      ],
      "execution_count": null,
      "outputs": [
        {
          "output_type": "execute_result",
          "data": {
            "text/plain": [
              "(array([0, 1, 2, 3]), <a list of 4 Text major ticklabel objects>)"
            ]
          },
          "metadata": {
            "tags": []
          },
          "execution_count": 348
        },
        {
          "output_type": "display_data",
          "data": {
            "image/png": "[encoded data removed]",
            "text/plain": [
              "<Figure size 432x288 with 1 Axes>"
            ]
          },
          "metadata": {
            "tags": [],
            "needs_background": "light"
          }
        }
      ]
    },
    {
      "cell_type": "code",
      "metadata": {
        "colab": {
          "base_uri": "https://localhost:8080/",
          "height": 434
        },
        "id": "SaoQ_-u-QZWW",
        "outputId": "c0e6f77e-4030-4935-a196-c73503432d9c"
      },
      "source": [
        "sns.boxplot(x='weather',y='temp',data = df_copy)\n",
        "plt.xticks(rotation = 90)"
      ],
      "execution_count": null,
      "outputs": [
        {
          "output_type": "execute_result",
          "data": {
            "text/plain": [
              "(array([0, 1, 2, 3]), <a list of 4 Text major ticklabel objects>)"
            ]
          },
          "metadata": {
            "tags": []
          },
          "execution_count": 349
        },
        {
          "output_type": "display_data",
          "data": {
            "image/png": "[encoded data removed]",
            "text/plain": [
              "<Figure size 432x288 with 1 Axes>"
            ]
          },
          "metadata": {
            "tags": [],
            "needs_background": "light"
          }
        }
      ]
    },
    {
      "cell_type": "code",
      "metadata": {
        "colab": {
          "base_uri": "https://localhost:8080/",
          "height": 434
        },
        "id": "CkzMntmnQiy0",
        "outputId": "505b91c6-68be-47d4-a71b-cdac8d65b70e"
      },
      "source": [
        "sns.boxplot(x='weather',y='temp',data = df_out1111)\n",
        "plt.xticks(rotation = 90)"
      ],
      "execution_count": null,
      "outputs": [
        {
          "output_type": "execute_result",
          "data": {
            "text/plain": [
              "(array([0, 1, 2, 3]), <a list of 4 Text major ticklabel objects>)"
            ]
          },
          "metadata": {
            "tags": []
          },
          "execution_count": 350
        },
        {
          "output_type": "display_data",
          "data": {
            "image/png": "[encoded data removed]",
            "text/plain": [
              "<Figure size 432x288 with 1 Axes>"
            ]
          },
          "metadata": {
            "tags": [],
            "needs_background": "light"
          }
        }
      ]
    },
    {
      "cell_type": "code",
      "metadata": {
        "colab": {
          "base_uri": "https://localhost:8080/",
          "height": 434
        },
        "id": "KLEqxF1CQbqm",
        "outputId": "bedef07f-7b10-4dc3-e1d5-ae7c5a991c77"
      },
      "source": [
        "sns.boxplot(x='weather',y='windspeed',data = df_copy)\n",
        "plt.xticks(rotation = 90)"
      ],
      "execution_count": null,
      "outputs": [
        {
          "output_type": "execute_result",
          "data": {
            "text/plain": [
              "(array([0, 1, 2, 3]), <a list of 4 Text major ticklabel objects>)"
            ]
          },
          "metadata": {
            "tags": []
          },
          "execution_count": 351
        },
        {
          "output_type": "display_data",
          "data": {
            "image/png": "[encoded data removed]",
            "text/plain": [
              "<Figure size 432x288 with 1 Axes>"
            ]
          },
          "metadata": {
            "tags": [],
            "needs_background": "light"
          }
        }
      ]
    },
    {
      "cell_type": "code",
      "metadata": {
        "colab": {
          "base_uri": "https://localhost:8080/",
          "height": 434
        },
        "id": "uvGT2PjmbMHC",
        "outputId": "04a8afde-c72e-4ae9-f623-f294cd7dd305"
      },
      "source": [
        "sns.boxplot(x='weather',y='windspeed',data = df_out1111)\n",
        "plt.xticks(rotation = 90)"
      ],
      "execution_count": null,
      "outputs": [
        {
          "output_type": "execute_result",
          "data": {
            "text/plain": [
              "(array([0, 1, 2, 3]), <a list of 4 Text major ticklabel objects>)"
            ]
          },
          "metadata": {
            "tags": []
          },
          "execution_count": 352
        },
        {
          "output_type": "display_data",
          "data": {
            "image/png": "[encoded data removed]",
            "text/plain": [
              "<Figure size 432x288 with 1 Axes>"
            ]
          },
          "metadata": {
            "tags": [],
            "needs_background": "light"
          }
        }
      ]
    },
    {
      "cell_type": "markdown",
      "metadata": {
        "id": "emmpCibZbTeJ"
      },
      "source": [
        "### As we notice from the above displayed few examples. We were able to filter outliers from out dataset. These outliers could have affected our model and skewed our data if not treated."
      ]
    },
    {
      "cell_type": "markdown",
      "metadata": {
        "id": "PRxObEbsRyVK"
      },
      "source": [
        "## Correlation Analysis\n"
      ]
    },
    {
      "cell_type": "code",
      "metadata": {
        "id": "HU4xYjecftJZ"
      },
      "source": [
        "# We will create a correlation mask to create traingular correaltion plot\n",
        "corr_matrix = df_out1111.corr()\n",
        "mask = np.triu(np.ones_like(corr_matrix))"
      ],
      "execution_count": null,
      "outputs": []
    },
    {
      "cell_type": "code",
      "metadata": {
        "colab": {
          "base_uri": "https://localhost:8080/",
          "height": 775
        },
        "id": "Tz6v7Vc_RxS1",
        "outputId": "bea55fa0-b78a-43d8-dec9-ffb9e03b62d2"
      },
      "source": [
        "\n",
        "f, ax = plt.subplots(figsize=(15, 13))\n",
        "\n",
        "heatmap = sns.heatmap(corr_matrix,\n",
        "                      mask = mask,\n",
        "                      square = True,\n",
        "                      linewidths = .5,\n",
        "                      cmap = 'coolwarm',\n",
        "                      cbar_kws = {'shrink': .4,\n",
        "                                'ticks': [-1, -.5, 0, 0.5, 1]},\n",
        "                      vmin = -1,\n",
        "                      vmax = 1,\n",
        "                      annot = True,\n",
        "                      annot_kws = {'size': 12})\n",
        "\n",
        "#add the column names as labels\n",
        "ax.set_yticklabels(corr_matrix.columns, rotation = 0)\n",
        "ax.set_xticklabels(corr_matrix.columns)\n",
        "\n",
        "sns.set_style({'xtick.bottom': True}, {'ytick.left': True})"
      ],
      "execution_count": null,
      "outputs": [
        {
          "output_type": "display_data",
          "data": {
            "image/png": "[encoded data removed]",
            "text/plain": [
              "<Figure size 1080x936 with 2 Axes>"
            ]
          },
          "metadata": {
            "tags": [],
            "needs_background": "light"
          }
        }
      ]
    },
    {
      "cell_type": "markdown",
      "metadata": {
        "id": "Cf6qQYDogQHM"
      },
      "source": [
        "* As we see **temp** and **atemp** column have a **very high correlation coefficeint** ~ 1.\n",
        "* As both of these features have similar coefficients of correlation with other features, we can safely drop one of the columns\n",
        "* We will drop the atemp column for in our model"
      ]
    },
    {
      "cell_type": "markdown",
      "metadata": {
        "id": "BKj5_bqGiNSq"
      },
      "source": [
        "## Feature Engineering Final\n",
        "\n"
      ]
    },
    {
      "cell_type": "code",
      "metadata": {
        "id": "OpHaX134RxMm"
      },
      "source": [
        "df_dummies = pd.get_dummies(df_out1111.drop(['date','holiday','atemp'],axis =1),drop_first = True)\n",
        "df_test_dummies = pd.get_dummies(df_test_copy_out1111.drop(['date','holiday','atemp'],axis =1), drop_first = True)"
      ],
      "execution_count": null,
      "outputs": []
    },
    {
      "cell_type": "code",
      "metadata": {
        "colab": {
          "base_uri": "https://localhost:8080/",
          "height": 223
        },
        "id": "jZTQ_Q9kRw97",
        "outputId": "b5278684-9e0f-4280-f0fe-961191281c09"
      },
      "source": [
        "df_dummies.head(3)"
      ],
      "execution_count": null,
      "outputs": [
        {
          "output_type": "execute_result",
          "data": {
            "text/html": [
              "<div>\n",
              "<style scoped>\n",
              "    .dataframe tbody tr th:only-of-type {\n",
              "        vertical-align: middle;\n",
              "    }\n",
              "\n",
              "    .dataframe tbody tr th {\n",
              "        vertical-align: top;\n",
              "    }\n",
              "\n",
              "    .dataframe thead th {\n",
              "        text-align: right;\n",
              "    }\n",
              "</style>\n",
              "<table border=\"1\" class=\"dataframe\">\n",
              "  <thead>\n",
              "    <tr style=\"text-align: right;\">\n",
              "      <th></th>\n",
              "      <th>temp</th>\n",
              "      <th>humidity</th>\n",
              "      <th>windspeed</th>\n",
              "      <th>workingday</th>\n",
              "      <th>Total_booking</th>\n",
              "      <th>hour</th>\n",
              "      <th>month</th>\n",
              "      <th>day</th>\n",
              "      <th>year</th>\n",
              "      <th>season_Spring</th>\n",
              "      <th>season_Summer</th>\n",
              "      <th>season_Winter</th>\n",
              "      <th>weather_ Heavy Rain + Thunderstorm</th>\n",
              "      <th>weather_ Light Snow, Light Rain</th>\n",
              "      <th>weather_ Mist + Cloudy</th>\n",
              "      <th>weekday_Monday</th>\n",
              "      <th>weekday_Saturday</th>\n",
              "      <th>weekday_Sunday</th>\n",
              "      <th>weekday_Thursday</th>\n",
              "      <th>weekday_Tuesday</th>\n",
              "      <th>weekday_Wednesday</th>\n",
              "    </tr>\n",
              "  </thead>\n",
              "  <tbody>\n",
              "    <tr>\n",
              "      <th>0</th>\n",
              "      <td>22.14</td>\n",
              "      <td>77</td>\n",
              "      <td>16.9979</td>\n",
              "      <td>1</td>\n",
              "      <td>504</td>\n",
              "      <td>19</td>\n",
              "      <td>5</td>\n",
              "      <td>2</td>\n",
              "      <td>2012</td>\n",
              "      <td>0</td>\n",
              "      <td>1</td>\n",
              "      <td>0</td>\n",
              "      <td>0</td>\n",
              "      <td>0</td>\n",
              "      <td>0</td>\n",
              "      <td>0</td>\n",
              "      <td>0</td>\n",
              "      <td>0</td>\n",
              "      <td>0</td>\n",
              "      <td>0</td>\n",
              "      <td>1</td>\n",
              "    </tr>\n",
              "    <tr>\n",
              "      <th>1</th>\n",
              "      <td>28.70</td>\n",
              "      <td>79</td>\n",
              "      <td>19.0012</td>\n",
              "      <td>1</td>\n",
              "      <td>5</td>\n",
              "      <td>4</td>\n",
              "      <td>9</td>\n",
              "      <td>5</td>\n",
              "      <td>2012</td>\n",
              "      <td>0</td>\n",
              "      <td>0</td>\n",
              "      <td>0</td>\n",
              "      <td>0</td>\n",
              "      <td>0</td>\n",
              "      <td>0</td>\n",
              "      <td>0</td>\n",
              "      <td>0</td>\n",
              "      <td>0</td>\n",
              "      <td>0</td>\n",
              "      <td>0</td>\n",
              "      <td>1</td>\n",
              "    </tr>\n",
              "    <tr>\n",
              "      <th>2</th>\n",
              "      <td>5.74</td>\n",
              "      <td>50</td>\n",
              "      <td>22.0028</td>\n",
              "      <td>1</td>\n",
              "      <td>139</td>\n",
              "      <td>9</td>\n",
              "      <td>1</td>\n",
              "      <td>13</td>\n",
              "      <td>2011</td>\n",
              "      <td>1</td>\n",
              "      <td>0</td>\n",
              "      <td>0</td>\n",
              "      <td>0</td>\n",
              "      <td>0</td>\n",
              "      <td>0</td>\n",
              "      <td>0</td>\n",
              "      <td>0</td>\n",
              "      <td>0</td>\n",
              "      <td>1</td>\n",
              "      <td>0</td>\n",
              "      <td>0</td>\n",
              "    </tr>\n",
              "  </tbody>\n",
              "</table>\n",
              "</div>"
            ],
            "text/plain": [
              "    temp  humidity  ...  weekday_Tuesday  weekday_Wednesday\n",
              "0  22.14        77  ...                0                  1\n",
              "1  28.70        79  ...                0                  1\n",
              "2   5.74        50  ...                0                  0\n",
              "\n",
              "[3 rows x 21 columns]"
            ]
          },
          "metadata": {
            "tags": []
          },
          "execution_count": 358
        }
      ]
    },
    {
      "cell_type": "code",
      "metadata": {
        "colab": {
          "base_uri": "https://localhost:8080/"
        },
        "id": "6lX5jAJ4gsT3",
        "outputId": "5194fed7-a90d-45f8-8ef1-a621020eb728"
      },
      "source": [
        "df_dummies.shape, df_test_dummies.shape"
      ],
      "execution_count": null,
      "outputs": [
        {
          "output_type": "execute_result",
          "data": {
            "text/plain": [
              "((8643, 21), (2152, 20))"
            ]
          },
          "metadata": {
            "tags": []
          },
          "execution_count": 359
        }
      ]
    },
    {
      "cell_type": "markdown",
      "metadata": {
        "id": "QZxo_GOig-dW"
      },
      "source": [
        "* Here we notice that test data has one less column"
      ]
    },
    {
      "cell_type": "code",
      "metadata": {
        "colab": {
          "base_uri": "https://localhost:8080/"
        },
        "id": "jj2BQ8BegsQg",
        "outputId": "74a4fffa-6fd6-4f1c-c7fd-5f5f2867fdca"
      },
      "source": [
        "# We check weather column value counts\n",
        "df_out1111['weather'].value_counts()"
      ],
      "execution_count": null,
      "outputs": [
        {
          "output_type": "execute_result",
          "data": {
            "text/plain": [
              " Clear + Few clouds            5725\n",
              " Mist + Cloudy                 2266\n",
              " Light Snow, Light Rain         651\n",
              " Heavy Rain + Thunderstorm        1\n",
              "Name: weather, dtype: int64"
            ]
          },
          "metadata": {
            "tags": []
          },
          "execution_count": 360
        }
      ]
    },
    {
      "cell_type": "code",
      "metadata": {
        "colab": {
          "base_uri": "https://localhost:8080/"
        },
        "id": "PUpOYCgCgsNm",
        "outputId": "4b3dec05-4438-4784-e833-538dd148a98a"
      },
      "source": [
        "df_test_copy_out1111['weather'].value_counts()"
      ],
      "execution_count": null,
      "outputs": [
        {
          "output_type": "execute_result",
          "data": {
            "text/plain": [
              " Clear + Few clouds        1431\n",
              " Mist + Cloudy              550\n",
              " Light Snow, Light Rain     171\n",
              "Name: weather, dtype: int64"
            ]
          },
          "metadata": {
            "tags": []
          },
          "execution_count": 361
        }
      ]
    },
    {
      "cell_type": "markdown",
      "metadata": {
        "id": "x1InBNhOhSQX"
      },
      "source": [
        "* As we notice training data set has 1 entry for Heavy Rain + Thunderstorm weather condition.\n",
        "* Test dataset has 0 entries for Heavy Rain + Thunderstorm  weather condition\n",
        "* Therefore we will drop the dummy column 'weather_ Heavy Rain + Thunderstorm' in training dataset to match the column shape as this wont have a large affect due to only 1 entry in this column being 1 and rest all are 0"
      ]
    },
    {
      "cell_type": "code",
      "metadata": {
        "id": "qfGDtA9QgsK_"
      },
      "source": [
        "#drop 'weather_ Heavy Rain + Thunderstorm' column\n",
        "df_dummies_w = df_dummies.drop('weather_ Heavy Rain + Thunderstorm ', axis= 1)"
      ],
      "execution_count": null,
      "outputs": []
    },
    {
      "cell_type": "code",
      "metadata": {
        "colab": {
          "base_uri": "https://localhost:8080/"
        },
        "id": "3gxBtcE7gsGn",
        "outputId": "93edfffc-f2d2-47b0-abe6-332f97c0f0bf"
      },
      "source": [
        "df_dummies_w.shape, df_test_dummies.shape\n",
        "#training and test dataset column shapes are equal"
      ],
      "execution_count": null,
      "outputs": [
        {
          "output_type": "execute_result",
          "data": {
            "text/plain": [
              "((8643, 20), (2152, 20))"
            ]
          },
          "metadata": {
            "tags": []
          },
          "execution_count": 363
        }
      ]
    },
    {
      "cell_type": "code",
      "metadata": {
        "colab": {
          "base_uri": "https://localhost:8080/",
          "height": 194
        },
        "id": "LX2u0D4L48PN",
        "outputId": "d8d91b17-d892-4c24-cd21-d6815ba8b779"
      },
      "source": [
        "df_dummies_w.head(2)"
      ],
      "execution_count": null,
      "outputs": [
        {
          "output_type": "execute_result",
          "data": {
            "text/html": [
              "<div>\n",
              "<style scoped>\n",
              "    .dataframe tbody tr th:only-of-type {\n",
              "        vertical-align: middle;\n",
              "    }\n",
              "\n",
              "    .dataframe tbody tr th {\n",
              "        vertical-align: top;\n",
              "    }\n",
              "\n",
              "    .dataframe thead th {\n",
              "        text-align: right;\n",
              "    }\n",
              "</style>\n",
              "<table border=\"1\" class=\"dataframe\">\n",
              "  <thead>\n",
              "    <tr style=\"text-align: right;\">\n",
              "      <th></th>\n",
              "      <th>temp</th>\n",
              "      <th>humidity</th>\n",
              "      <th>windspeed</th>\n",
              "      <th>workingday</th>\n",
              "      <th>Total_booking</th>\n",
              "      <th>hour</th>\n",
              "      <th>month</th>\n",
              "      <th>day</th>\n",
              "      <th>year</th>\n",
              "      <th>season_Spring</th>\n",
              "      <th>season_Summer</th>\n",
              "      <th>season_Winter</th>\n",
              "      <th>weather_ Light Snow, Light Rain</th>\n",
              "      <th>weather_ Mist + Cloudy</th>\n",
              "      <th>weekday_Monday</th>\n",
              "      <th>weekday_Saturday</th>\n",
              "      <th>weekday_Sunday</th>\n",
              "      <th>weekday_Thursday</th>\n",
              "      <th>weekday_Tuesday</th>\n",
              "      <th>weekday_Wednesday</th>\n",
              "    </tr>\n",
              "  </thead>\n",
              "  <tbody>\n",
              "    <tr>\n",
              "      <th>0</th>\n",
              "      <td>22.14</td>\n",
              "      <td>77</td>\n",
              "      <td>16.9979</td>\n",
              "      <td>1</td>\n",
              "      <td>504</td>\n",
              "      <td>19</td>\n",
              "      <td>5</td>\n",
              "      <td>2</td>\n",
              "      <td>2012</td>\n",
              "      <td>0</td>\n",
              "      <td>1</td>\n",
              "      <td>0</td>\n",
              "      <td>0</td>\n",
              "      <td>0</td>\n",
              "      <td>0</td>\n",
              "      <td>0</td>\n",
              "      <td>0</td>\n",
              "      <td>0</td>\n",
              "      <td>0</td>\n",
              "      <td>1</td>\n",
              "    </tr>\n",
              "    <tr>\n",
              "      <th>1</th>\n",
              "      <td>28.70</td>\n",
              "      <td>79</td>\n",
              "      <td>19.0012</td>\n",
              "      <td>1</td>\n",
              "      <td>5</td>\n",
              "      <td>4</td>\n",
              "      <td>9</td>\n",
              "      <td>5</td>\n",
              "      <td>2012</td>\n",
              "      <td>0</td>\n",
              "      <td>0</td>\n",
              "      <td>0</td>\n",
              "      <td>0</td>\n",
              "      <td>0</td>\n",
              "      <td>0</td>\n",
              "      <td>0</td>\n",
              "      <td>0</td>\n",
              "      <td>0</td>\n",
              "      <td>0</td>\n",
              "      <td>1</td>\n",
              "    </tr>\n",
              "  </tbody>\n",
              "</table>\n",
              "</div>"
            ],
            "text/plain": [
              "    temp  humidity  ...  weekday_Tuesday  weekday_Wednesday\n",
              "0  22.14        77  ...                0                  1\n",
              "1  28.70        79  ...                0                  1\n",
              "\n",
              "[2 rows x 20 columns]"
            ]
          },
          "metadata": {
            "tags": []
          },
          "execution_count": 364
        }
      ]
    },
    {
      "cell_type": "markdown",
      "metadata": {
        "id": "U1s46CIHiUqo"
      },
      "source": [
        "# Regression Analysis\n",
        "\n",
        "* Default scores for most regressor models is R^2\n",
        "\n"
      ]
    },
    {
      "cell_type": "code",
      "metadata": {
        "id": "bUvX1W_oi-SP"
      },
      "source": [
        "from sklearn.preprocessing import StandardScaler\n",
        "from sklearn.pipeline import Pipeline\n",
        "from sklearn.model_selection import cross_val_score\n",
        "from sklearn.model_selection import GridSearchCV\n",
        "from sklearn.metrics import mean_absolute_error\n",
        "from sklearn.metrics import mean_squared_error"
      ],
      "execution_count": null,
      "outputs": []
    },
    {
      "cell_type": "code",
      "metadata": {
        "id": "l7eOLgg-jq65"
      },
      "source": [
        "#train dataset -> drop target column\n",
        "X = df_dummies_w.drop('Total_booking',axis =1)\n",
        "y= df_dummies_w['Total_booking']\n",
        "\n",
        "#test dataset -> drop target column\n",
        "Xt = df_test_dummies.drop('Total_booking',axis =1)\n",
        "yt= df_test_dummies['Total_booking']"
      ],
      "execution_count": null,
      "outputs": []
    },
    {
      "cell_type": "code",
      "metadata": {
        "colab": {
          "base_uri": "https://localhost:8080/",
          "height": 194
        },
        "id": "EvUQk24T0f0e",
        "outputId": "010e6150-1d2a-4fb3-89ba-46f3ff1afd00"
      },
      "source": [
        "X.head(2)"
      ],
      "execution_count": null,
      "outputs": [
        {
          "output_type": "execute_result",
          "data": {
            "text/html": [
              "<div>\n",
              "<style scoped>\n",
              "    .dataframe tbody tr th:only-of-type {\n",
              "        vertical-align: middle;\n",
              "    }\n",
              "\n",
              "    .dataframe tbody tr th {\n",
              "        vertical-align: top;\n",
              "    }\n",
              "\n",
              "    .dataframe thead th {\n",
              "        text-align: right;\n",
              "    }\n",
              "</style>\n",
              "<table border=\"1\" class=\"dataframe\">\n",
              "  <thead>\n",
              "    <tr style=\"text-align: right;\">\n",
              "      <th></th>\n",
              "      <th>temp</th>\n",
              "      <th>humidity</th>\n",
              "      <th>windspeed</th>\n",
              "      <th>workingday</th>\n",
              "      <th>hour</th>\n",
              "      <th>month</th>\n",
              "      <th>day</th>\n",
              "      <th>year</th>\n",
              "      <th>season_Spring</th>\n",
              "      <th>season_Summer</th>\n",
              "      <th>season_Winter</th>\n",
              "      <th>weather_ Light Snow, Light Rain</th>\n",
              "      <th>weather_ Mist + Cloudy</th>\n",
              "      <th>weekday_Monday</th>\n",
              "      <th>weekday_Saturday</th>\n",
              "      <th>weekday_Sunday</th>\n",
              "      <th>weekday_Thursday</th>\n",
              "      <th>weekday_Tuesday</th>\n",
              "      <th>weekday_Wednesday</th>\n",
              "    </tr>\n",
              "  </thead>\n",
              "  <tbody>\n",
              "    <tr>\n",
              "      <th>0</th>\n",
              "      <td>22.14</td>\n",
              "      <td>77</td>\n",
              "      <td>16.9979</td>\n",
              "      <td>1</td>\n",
              "      <td>19</td>\n",
              "      <td>5</td>\n",
              "      <td>2</td>\n",
              "      <td>2012</td>\n",
              "      <td>0</td>\n",
              "      <td>1</td>\n",
              "      <td>0</td>\n",
              "      <td>0</td>\n",
              "      <td>0</td>\n",
              "      <td>0</td>\n",
              "      <td>0</td>\n",
              "      <td>0</td>\n",
              "      <td>0</td>\n",
              "      <td>0</td>\n",
              "      <td>1</td>\n",
              "    </tr>\n",
              "    <tr>\n",
              "      <th>1</th>\n",
              "      <td>28.70</td>\n",
              "      <td>79</td>\n",
              "      <td>19.0012</td>\n",
              "      <td>1</td>\n",
              "      <td>4</td>\n",
              "      <td>9</td>\n",
              "      <td>5</td>\n",
              "      <td>2012</td>\n",
              "      <td>0</td>\n",
              "      <td>0</td>\n",
              "      <td>0</td>\n",
              "      <td>0</td>\n",
              "      <td>0</td>\n",
              "      <td>0</td>\n",
              "      <td>0</td>\n",
              "      <td>0</td>\n",
              "      <td>0</td>\n",
              "      <td>0</td>\n",
              "      <td>1</td>\n",
              "    </tr>\n",
              "  </tbody>\n",
              "</table>\n",
              "</div>"
            ],
            "text/plain": [
              "    temp  humidity  ...  weekday_Tuesday  weekday_Wednesday\n",
              "0  22.14        77  ...                0                  1\n",
              "1  28.70        79  ...                0                  1\n",
              "\n",
              "[2 rows x 19 columns]"
            ]
          },
          "metadata": {
            "tags": []
          },
          "execution_count": 367
        }
      ]
    },
    {
      "cell_type": "code",
      "metadata": {
        "colab": {
          "base_uri": "https://localhost:8080/"
        },
        "id": "HKz0-bMB0lLv",
        "outputId": "c3d77744-6deb-4130-875f-d3cf48ee8907"
      },
      "source": [
        "y.head(2)"
      ],
      "execution_count": null,
      "outputs": [
        {
          "output_type": "execute_result",
          "data": {
            "text/plain": [
              "0    504\n",
              "1      5\n",
              "Name: Total_booking, dtype: int64"
            ]
          },
          "metadata": {
            "tags": []
          },
          "execution_count": 368
        }
      ]
    },
    {
      "cell_type": "code",
      "metadata": {
        "colab": {
          "base_uri": "https://localhost:8080/"
        },
        "id": "axewES5Ujsfq",
        "outputId": "ee907d38-bb4d-4138-f070-6b36ef28c4d7"
      },
      "source": [
        "X.shape,y.shape,Xt.shape,yt.shape"
      ],
      "execution_count": null,
      "outputs": [
        {
          "output_type": "execute_result",
          "data": {
            "text/plain": [
              "((8643, 19), (8643,), (2152, 19), (2152,))"
            ]
          },
          "metadata": {
            "tags": []
          },
          "execution_count": 369
        }
      ]
    },
    {
      "cell_type": "markdown",
      "metadata": {
        "id": "CTJ4MZVRywGZ"
      },
      "source": [
        "## Linear Regressor"
      ]
    },
    {
      "cell_type": "code",
      "metadata": {
        "id": "JnphToPLgsC0"
      },
      "source": [
        "linear_reg = LinearRegression()"
      ],
      "execution_count": null,
      "outputs": []
    },
    {
      "cell_type": "code",
      "metadata": {
        "colab": {
          "base_uri": "https://localhost:8080/"
        },
        "id": "H8LUjVovj-3E",
        "outputId": "6551fdf5-2ba1-41ab-ffed-eb88b2864914"
      },
      "source": [
        "# Fitting training data to basic Linear Regressor\n",
        "\n",
        "X_train,X_val,y_train,y_val = train_test_split(X,y,test_size = 0.2, random_state =42)\n",
        "linear_reg.fit(X_train,y_train)\n",
        "print('Initial training score for Linear regressor:',linear_reg.score(X_train,y_train))"
      ],
      "execution_count": null,
      "outputs": [
        {
          "output_type": "stream",
          "text": [
            "Initial training score for Linear regressor: 0.40199775302890817\n"
          ],
          "name": "stdout"
        }
      ]
    },
    {
      "cell_type": "code",
      "metadata": {
        "colab": {
          "base_uri": "https://localhost:8080/"
        },
        "id": "vVBCWOjRkUps",
        "outputId": "1f8a01d2-9563-478c-d9ea-86f8f08f4817"
      },
      "source": [
        "# We will scale the data\n",
        "scaler = StandardScaler()\n",
        "linear_reg = LinearRegression()\n",
        "X_sca = scaler.fit_transform(X)\n",
        "Xt_sca = scaler.fit_transform(Xt)\n",
        "X_train,X_val,y_train,y_val = train_test_split(X_sca,y,test_size = 0.2, random_state =42)\n",
        "linear_reg.fit(X_train,y_train)\n",
        "print('Scaled validation data score for Linear regressor:',linear_reg.score(X_val,y_val))"
      ],
      "execution_count": null,
      "outputs": [
        {
          "output_type": "stream",
          "text": [
            "Scaled validation data score for Linear regressor: 0.37970642254028575\n"
          ],
          "name": "stdout"
        }
      ]
    },
    {
      "cell_type": "code",
      "metadata": {
        "colab": {
          "base_uri": "https://localhost:8080/"
        },
        "id": "WcaCrDgfy-nH",
        "outputId": "a79c3b9a-f643-4a3e-f2e6-45f8aa0b1dd5"
      },
      "source": [
        "y_linear_pred = linear_reg.predict(X_val)\n",
        "print(f'Linear Regressor validation RMSE score :{np.sqrt(mean_squared_error(y_val,y_linear_pred))}')\n",
        "print(f'Linear Regressor validation MAE score :{mean_absolute_error(y_val,y_linear_pred)}')"
      ],
      "execution_count": null,
      "outputs": [
        {
          "output_type": "stream",
          "text": [
            "Linear Regressor validation RMSE score :143.4226664138\n",
            "Linear Regressor validation MAE score :108.0963188208152\n"
          ],
          "name": "stdout"
        }
      ]
    },
    {
      "cell_type": "markdown",
      "metadata": {
        "id": "q_qvRbobmEqv"
      },
      "source": [
        "### Lasso Regressor + GridSearchCV (Grid Search CV)"
      ]
    },
    {
      "cell_type": "code",
      "metadata": {
        "id": "qXahT-ptldiC"
      },
      "source": [
        "lasso_reg = Lasso(alpha = 0.5)\n",
        "lasso_param = {\n",
        "    'alpha' : [0.5,0.7,1.0,1.5]\n",
        "}"
      ],
      "execution_count": null,
      "outputs": []
    },
    {
      "cell_type": "code",
      "metadata": {
        "id": "EZxqaW1hl4wt"
      },
      "source": [
        "lasso_grid = GridSearchCV(lasso_reg,lasso_param,cv= 5,n_jobs =-1)"
      ],
      "execution_count": null,
      "outputs": []
    },
    {
      "cell_type": "code",
      "metadata": {
        "colab": {
          "base_uri": "https://localhost:8080/"
        },
        "id": "cTZcvRETmDTk",
        "outputId": "98b72c2e-f5a6-42dc-a05b-27cc700361ff"
      },
      "source": [
        "scaler = StandardScaler()\n",
        "X_sca = scaler.fit_transform(X)\n",
        "Xt_sca = scaler.fit_transform(Xt)\n",
        "X_train,X_val,y_train,y_val = train_test_split(X_sca,y,test_size = 0.2, random_state =42)\n",
        "lasso_grid.fit(X_train,y_train)\n",
        "print('Scaled validation data score for Lasso regressor:',lasso_grid.score(X_val,y_val))"
      ],
      "execution_count": null,
      "outputs": [
        {
          "output_type": "stream",
          "text": [
            "Scaled validation data score for Lasso regressor: 0.3807155779914875\n"
          ],
          "name": "stdout"
        }
      ]
    },
    {
      "cell_type": "code",
      "metadata": {
        "colab": {
          "base_uri": "https://localhost:8080/"
        },
        "id": "b_pRawKOmW_s",
        "outputId": "04236cfe-0b65-44ca-977b-9edb6c633eca"
      },
      "source": [
        "lasso_grid.best_estimator_\n",
        "# Best estimaot found by GridSearch"
      ],
      "execution_count": null,
      "outputs": [
        {
          "output_type": "execute_result",
          "data": {
            "text/plain": [
              "Lasso(alpha=0.5, copy_X=True, fit_intercept=True, max_iter=1000,\n",
              "      normalize=False, positive=False, precompute=False, random_state=None,\n",
              "      selection='cyclic', tol=0.0001, warm_start=False)"
            ]
          },
          "metadata": {
            "tags": []
          },
          "execution_count": 379
        }
      ]
    },
    {
      "cell_type": "code",
      "metadata": {
        "colab": {
          "base_uri": "https://localhost:8080/"
        },
        "id": "Ca4PbWsUmcGS",
        "outputId": "334046db-019f-4c83-9e0a-a3ccf732234a"
      },
      "source": [
        "lasso_grid.best_score_\n",
        "#Best training score for lasso regressor"
      ],
      "execution_count": null,
      "outputs": [
        {
          "output_type": "execute_result",
          "data": {
            "text/plain": [
              "0.3972577039904417"
            ]
          },
          "metadata": {
            "tags": []
          },
          "execution_count": 380
        }
      ]
    },
    {
      "cell_type": "code",
      "metadata": {
        "colab": {
          "base_uri": "https://localhost:8080/"
        },
        "id": "fAkMPYK6zM2q",
        "outputId": "59b1d119-2f62-4b0d-eea1-eee855395384"
      },
      "source": [
        "y_lasso_pred = lasso_grid.predict(X_val)\n",
        "print(f'Lasso Regressor validation RMSE score :{np.sqrt(mean_squared_error(y_val,y_lasso_pred))}')\n",
        "print(f'Lasso Regressor validation MAE score :{mean_absolute_error(y_val,y_lasso_pred)}')"
      ],
      "execution_count": null,
      "outputs": [
        {
          "output_type": "stream",
          "text": [
            "Lasso Regressor validation RMSE score :143.30595177537884\n",
            "Lasso Regressor validation MAE score :107.89690629277399\n"
          ],
          "name": "stdout"
        }
      ]
    },
    {
      "cell_type": "markdown",
      "metadata": {
        "id": "RD8EhV1Fmr-J"
      },
      "source": [
        "## Ridge Regressor + GridSearchCV (Grid Search CV)"
      ]
    },
    {
      "cell_type": "code",
      "metadata": {
        "id": "JYgCfPzwmlBt"
      },
      "source": [
        "ridge_reg = Ridge()\n",
        "ridge_param = {\n",
        "    'alpha' : [0.5,0.7,1.0,1.5]\n",
        "}"
      ],
      "execution_count": null,
      "outputs": []
    },
    {
      "cell_type": "code",
      "metadata": {
        "id": "hPwk6t0ImwsN"
      },
      "source": [
        "ridge_grid = GridSearchCV(ridge_reg,ridge_param,cv= 5,n_jobs =-1)"
      ],
      "execution_count": null,
      "outputs": []
    },
    {
      "cell_type": "code",
      "metadata": {
        "colab": {
          "base_uri": "https://localhost:8080/"
        },
        "id": "_FbzqNDOmwoo",
        "outputId": "7691a70f-8d99-486f-c76a-8393ec2d4ee0"
      },
      "source": [
        "scaler = StandardScaler()\n",
        "X_sca = scaler.fit_transform(X)\n",
        "Xt_sca = scaler.fit_transform(Xt)\n",
        "X_train,X_val,y_train,y_val = train_test_split(X_sca,y,test_size = 0.2, random_state =42)\n",
        "ridge_grid.fit(X_train,y_train)\n",
        "print('Scaled validation data score for Ridge regressor:',ridge_grid.score(X_val,y_val))"
      ],
      "execution_count": null,
      "outputs": [
        {
          "output_type": "stream",
          "text": [
            "Scaled validation data score for Ridge regressor: 0.37971856628032696\n"
          ],
          "name": "stdout"
        }
      ]
    },
    {
      "cell_type": "code",
      "metadata": {
        "colab": {
          "base_uri": "https://localhost:8080/"
        },
        "id": "KU-oZHNBmwkH",
        "outputId": "ff37eba9-0ce0-4a9f-b076-740df6eff8e7"
      },
      "source": [
        "ridge_grid.best_estimator_"
      ],
      "execution_count": null,
      "outputs": [
        {
          "output_type": "execute_result",
          "data": {
            "text/plain": [
              "Ridge(alpha=1.5, copy_X=True, fit_intercept=True, max_iter=None,\n",
              "      normalize=False, random_state=None, solver='auto', tol=0.001)"
            ]
          },
          "metadata": {
            "tags": []
          },
          "execution_count": 385
        }
      ]
    },
    {
      "cell_type": "code",
      "metadata": {
        "colab": {
          "base_uri": "https://localhost:8080/"
        },
        "id": "1TNpwvYumwgL",
        "outputId": "4774920c-f10e-43cd-98f1-7fa022334c47"
      },
      "source": [
        "ridge_grid.best_score_\n",
        "#Best training score for lasso regressor"
      ],
      "execution_count": null,
      "outputs": [
        {
          "output_type": "execute_result",
          "data": {
            "text/plain": [
              "0.39779382258010443"
            ]
          },
          "metadata": {
            "tags": []
          },
          "execution_count": 386
        }
      ]
    },
    {
      "cell_type": "code",
      "metadata": {
        "colab": {
          "base_uri": "https://localhost:8080/"
        },
        "id": "ymJa6OuozWr6",
        "outputId": "5c7ce8e4-bd19-464a-9ecd-dd2188171fb9"
      },
      "source": [
        "y_ridge_pred = ridge_grid.predict(X_val)\n",
        "print(f'Ridge Regressor validation RMSE score :{np.sqrt(mean_squared_error(y_val,y_ridge_pred))}')\n",
        "print(f'Ridge Regressor validation MAE score :{mean_absolute_error(y_val,y_ridge_pred)}')"
      ],
      "execution_count": null,
      "outputs": [
        {
          "output_type": "stream",
          "text": [
            "Ridge Regressor validation RMSE score :143.421262484947\n",
            "Ridge Regressor validation MAE score :108.09443121031505\n"
          ],
          "name": "stdout"
        }
      ]
    },
    {
      "cell_type": "markdown",
      "metadata": {
        "id": "-0mbU3cAnKGc"
      },
      "source": [
        "## Support Vector Regression"
      ]
    },
    {
      "cell_type": "code",
      "metadata": {
        "id": "VtbfHPLfmwXY"
      },
      "source": [
        "from sklearn.svm import SVR\n",
        "from sklearn.pipeline import make_pipeline\n",
        "from sklearn.preprocessing import StandardScaler"
      ],
      "execution_count": null,
      "outputs": []
    },
    {
      "cell_type": "code",
      "metadata": {
        "colab": {
          "base_uri": "https://localhost:8080/"
        },
        "id": "4NZ5iCjXnX3h",
        "outputId": "57dc1850-7cb4-4bf4-8d1c-0bce9ae6b8e1"
      },
      "source": [
        "svm_regr = make_pipeline(StandardScaler(), SVR(C=1.0, epsilon=0.2))\n",
        "X_train,X_val,y_train,y_val = train_test_split(X,y,test_size = 0.2, random_state =42)\n",
        "svm_regr.fit(X_train, y_train)"
      ],
      "execution_count": null,
      "outputs": [
        {
          "output_type": "execute_result",
          "data": {
            "text/plain": [
              "Pipeline(memory=None,\n",
              "         steps=[('standardscaler',\n",
              "                 StandardScaler(copy=True, with_mean=True, with_std=True)),\n",
              "                ('svr',\n",
              "                 SVR(C=1.0, cache_size=200, coef0=0.0, degree=3, epsilon=0.2,\n",
              "                     gamma='scale', kernel='rbf', max_iter=-1, shrinking=True,\n",
              "                     tol=0.001, verbose=False))],\n",
              "         verbose=False)"
            ]
          },
          "metadata": {
            "tags": []
          },
          "execution_count": 389
        }
      ]
    },
    {
      "cell_type": "code",
      "metadata": {
        "colab": {
          "base_uri": "https://localhost:8080/"
        },
        "id": "LylKnQN2nXzG",
        "outputId": "83d7cb1c-2f62-4357-a0ca-61b622f97abc"
      },
      "source": [
        "svm_regr.score(X_train, y_train)"
      ],
      "execution_count": null,
      "outputs": [
        {
          "output_type": "execute_result",
          "data": {
            "text/plain": [
              "0.2740372756382815"
            ]
          },
          "metadata": {
            "tags": []
          },
          "execution_count": 390
        }
      ]
    },
    {
      "cell_type": "code",
      "metadata": {
        "colab": {
          "base_uri": "https://localhost:8080/"
        },
        "id": "MR042jjTnXtz",
        "outputId": "0c7ecc40-9606-43f0-f7d6-a3f2aeb310e1"
      },
      "source": [
        "print('Scaled validation data score for Support Vector regressor:',svm_regr.score(X_val,y_val))"
      ],
      "execution_count": null,
      "outputs": [
        {
          "output_type": "stream",
          "text": [
            "Scaled validation data score for Support Vector regressor: 0.2478265612899545\n"
          ],
          "name": "stdout"
        }
      ]
    },
    {
      "cell_type": "markdown",
      "metadata": {
        "id": "S3tegUNWnyeh"
      },
      "source": [
        "## As we notice the scores for the Linear Regressor, Lasso and Ridge Regressor and SVR are quite low.\n",
        "##->  **We will move to ensemble model regressors**"
      ]
    },
    {
      "cell_type": "markdown",
      "metadata": {
        "id": "Zq2amaFMoVhR"
      },
      "source": [
        "## Ensemble Random Forest Regressor\n"
      ]
    },
    {
      "cell_type": "code",
      "metadata": {
        "colab": {
          "base_uri": "https://localhost:8080/"
        },
        "id": "1VLLI-vulTDb",
        "outputId": "dc13135c-3562-4ed0-d3a8-144a2cf2cd33"
      },
      "source": [
        "rf =RandomForestRegressor()\n",
        "scaler = StandardScaler()\n",
        "X_sca = scaler.fit_transform(X)\n",
        "Xt_sca = scaler.fit_transform(Xt)\n",
        "X_train,X_val,y_train,y_val = train_test_split(X_sca,y,test_size = 0.2, random_state =42)\n",
        "rf.fit(X_train,y_train)\n",
        "print(\"Random Forest Regressor training score :\",rf.score(X_train,y_train))"
      ],
      "execution_count": null,
      "outputs": [
        {
          "output_type": "stream",
          "text": [
            "Random Forest Regressor training score : 0.9919582721676865\n"
          ],
          "name": "stdout"
        }
      ]
    },
    {
      "cell_type": "code",
      "metadata": {
        "colab": {
          "base_uri": "https://localhost:8080/"
        },
        "id": "J7308aFaodI_",
        "outputId": "ad61d569-5b1f-4923-c3d3-ca434c8083bf"
      },
      "source": [
        "print(\"Random Forest Regressor validation score :\",rf.score(X_val,y_val))"
      ],
      "execution_count": null,
      "outputs": [
        {
          "output_type": "stream",
          "text": [
            "Random Forest Regressor validation score : 0.9457013279350861\n"
          ],
          "name": "stdout"
        }
      ]
    },
    {
      "cell_type": "code",
      "metadata": {
        "colab": {
          "base_uri": "https://localhost:8080/"
        },
        "id": "TwxBev9xkrAq",
        "outputId": "0a568152-4189-472b-df2f-fe35a6f5a646"
      },
      "source": [
        "# Calculate RMSE and MAE for Random Forest Regressor\n",
        "y_rf_pred = rf.predict(X_val)\n",
        "print(f'Random Forest validation RMSE score :{np.sqrt(mean_squared_error(y_val,y_rf_pred))}')\n",
        "print(f'Random Forest validation MAE score :{mean_absolute_error(y_val,y_rf_pred)}')"
      ],
      "execution_count": null,
      "outputs": [
        {
          "output_type": "stream",
          "text": [
            "Random Forest validation RMSE score :42.43397873181521\n",
            "Random Forest validation MAE score :26.559705031810292\n"
          ],
          "name": "stdout"
        }
      ]
    },
    {
      "cell_type": "markdown",
      "metadata": {
        "id": "FcGJ7F_FpGJU"
      },
      "source": [
        "### We will test this Random forest model on the test data now (Xt,yt)"
      ]
    },
    {
      "cell_type": "code",
      "metadata": {
        "colab": {
          "base_uri": "https://localhost:8080/"
        },
        "id": "zkk9NdUNjls8",
        "outputId": "d133a05f-2dfd-458a-e09b-7db6cb993874"
      },
      "source": [
        "Xt_sca = scaler.fit_transform(Xt)\n",
        "y_rf_test_pred = rf.predict(Xt_sca)\n",
        "print(f'Random Forest test RMSE score :{np.sqrt(mean_squared_error(yt,y_rf_test_pred))}')\n",
        "print(f'Random Forest test MAE score :{mean_absolute_error(yt,y_rf_test_pred)}')"
      ],
      "execution_count": null,
      "outputs": [
        {
          "output_type": "stream",
          "text": [
            "Random Forest test RMSE score :39.658083345369235\n",
            "Random Forest test MAE score :25.282806691449817\n"
          ],
          "name": "stdout"
        }
      ]
    },
    {
      "cell_type": "markdown",
      "metadata": {
        "id": "eHHrkQKepsHU"
      },
      "source": [
        "* The test accuracy is approx equal to the validation accuracy.\n",
        "* Random Forest is a good model for our data set"
      ]
    },
    {
      "cell_type": "markdown",
      "metadata": {
        "id": "QUFlSOaAqBzJ"
      },
      "source": [
        "## Ensemble - AdaBoost Regressor"
      ]
    },
    {
      "cell_type": "code",
      "metadata": {
        "id": "kONTZDdEqASk"
      },
      "source": [
        "from sklearn.ensemble import AdaBoostRegressor\n",
        "ada_reg = AdaBoostRegressor( random_state=42,base_estimator=RandomForestRegressor())"
      ],
      "execution_count": null,
      "outputs": []
    },
    {
      "cell_type": "code",
      "metadata": {
        "colab": {
          "base_uri": "https://localhost:8080/"
        },
        "id": "F8y2JPi2qAEW",
        "outputId": "1d699119-801c-444a-bf95-0caf12571f1e"
      },
      "source": [
        "scaler = StandardScaler()\n",
        "X_sca = scaler.fit_transform(X)\n",
        "Xt_sca = scaler.fit_transform(Xt)\n",
        "X_train,X_val,y_train,y_val = train_test_split(X_sca,y,test_size = 0.2, random_state =42)\n",
        "ada_reg.fit(X_train,y_train)\n",
        "print(\"Adaboost Regressor training score :\",ada_reg.score(X_train,y_train))"
      ],
      "execution_count": null,
      "outputs": [
        {
          "output_type": "stream",
          "text": [
            "Adaboost Regressor training score : 0.9977880896195087\n"
          ],
          "name": "stdout"
        }
      ]
    },
    {
      "cell_type": "code",
      "metadata": {
        "colab": {
          "base_uri": "https://localhost:8080/"
        },
        "id": "xuL0_xXdqwml",
        "outputId": "aa25a67c-33b8-43d2-c229-0e8e9936058e"
      },
      "source": [
        "print(\"Adaboost Regressor validation score :\",ada_reg.score(X_val,y_val))"
      ],
      "execution_count": null,
      "outputs": [
        {
          "output_type": "stream",
          "text": [
            "Adaboost Regressor validation score : 0.9482860169285018\n"
          ],
          "name": "stdout"
        }
      ]
    },
    {
      "cell_type": "code",
      "metadata": {
        "colab": {
          "base_uri": "https://localhost:8080/"
        },
        "id": "47-9Ou77tu1w",
        "outputId": "81fe52b1-7a2a-4c4b-934e-fb8001ac9c50"
      },
      "source": [
        "# Calculate RMSE and MAE for Random Forest Regressor\n",
        "y_ada_pred = ada_reg.predict(X_val)\n",
        "print(f'Adaboost Regressor validation RMSE score :{np.sqrt(mean_squared_error(y_val,y_ada_pred))}')\n",
        "print(f'Adaboost Regressor validation MAE score :{mean_absolute_error(y_val,y_ada_pred)}')"
      ],
      "execution_count": null,
      "outputs": [
        {
          "output_type": "stream",
          "text": [
            "Adaboost Regressor validation RMSE score :41.41170814150539\n",
            "Adaboost Regressor validation MAE score :27.06362058993638\n"
          ],
          "name": "stdout"
        }
      ]
    },
    {
      "cell_type": "markdown",
      "metadata": {
        "id": "l0F89Tm-01GG"
      },
      "source": [
        "### We will test this AdaBoost Regressor model on the test data now (Xt,yt)"
      ]
    },
    {
      "cell_type": "code",
      "metadata": {
        "colab": {
          "base_uri": "https://localhost:8080/"
        },
        "id": "lEwqbG-Ht5Y1",
        "outputId": "fa9a14e4-5690-4c7b-b0a6-bf6e1b6e000b"
      },
      "source": [
        "Xt_sca = scaler.fit_transform(Xt)\n",
        "y_ada_test_pred = ada_reg.predict(Xt_sca)\n",
        "print(f'Adaboost Regressor test RMSE score :{np.sqrt(mean_squared_error(yt,y_ada_test_pred))}')\n",
        "print(f'Adaboost Regressor test MAE score :{mean_absolute_error(yt,y_ada_test_pred)}')"
      ],
      "execution_count": null,
      "outputs": [
        {
          "output_type": "stream",
          "text": [
            "Adaboost Regressor test RMSE score :38.115903475708365\n",
            "Adaboost Regressor test MAE score :25.282639405204463\n"
          ],
          "name": "stdout"
        }
      ]
    },
    {
      "cell_type": "markdown",
      "metadata": {
        "id": "uqpPQzo1uSge"
      },
      "source": [
        "* We notice that Adaboost Regressor given slightly better performace than Random Forest Regressor on the training, validation and test scores(MSE,MAE,RMSE)\n",
        "* This is expected as the Adaboost Regressor has base estimator as Random Forest Regressor which in itself is an ensemble regressor"
      ]
    },
    {
      "cell_type": "markdown",
      "metadata": {
        "id": "048MVsVNu3R6"
      },
      "source": [
        "## Ensemble- XGBoost Regressor + Grid Search CV"
      ]
    },
    {
      "cell_type": "code",
      "metadata": {
        "id": "rjQvLBpttVgt"
      },
      "source": [
        "steps = [\n",
        "    ('scaler', StandardScaler()),\n",
        "    ('reg',xgb.XGBRegressor(base_estimaotr = RandomForestRegressor()))]\n",
        "\n",
        "param_grid = {\n",
        "    'reg__n_estimators': range(50,500,50),\n",
        "    'reg__learning_rate': [0.001,0.01,0.1,1]\n",
        "}"
      ],
      "execution_count": null,
      "outputs": []
    },
    {
      "cell_type": "code",
      "metadata": {
        "id": "SrDQ0CqWtVdv"
      },
      "source": [
        "pipe = Pipeline(steps)"
      ],
      "execution_count": null,
      "outputs": []
    },
    {
      "cell_type": "code",
      "metadata": {
        "colab": {
          "base_uri": "https://localhost:8080/"
        },
        "id": "7AFidjGqtVYB",
        "outputId": "f317cb71-7459-4ba9-a6b1-dd8617ac7cd6"
      },
      "source": [
        "g = GridSearchCV(pipe,param_grid, cv = 5, n_jobs = -1,verbose = 2)\n",
        "g.fit(X_train, y_train)"
      ],
      "execution_count": null,
      "outputs": [
        {
          "output_type": "stream",
          "text": [
            "Fitting 5 folds for each of 36 candidates, totalling 180 fits\n"
          ],
          "name": "stdout"
        },
        {
          "output_type": "stream",
          "text": [
            "[Parallel(n_jobs=-1)]: Using backend LokyBackend with 2 concurrent workers.\n",
            "[Parallel(n_jobs=-1)]: Done  37 tasks      | elapsed:   18.2s\n",
            "[Parallel(n_jobs=-1)]: Done 158 tasks      | elapsed:  1.4min\n",
            "[Parallel(n_jobs=-1)]: Done 180 out of 180 | elapsed:  1.7min finished\n"
          ],
          "name": "stderr"
        },
        {
          "output_type": "stream",
          "text": [
            "[15:43:55] WARNING: /workspace/src/objective/regression_obj.cu:152: reg:linear is now deprecated in favor of reg:squarederror.\n"
          ],
          "name": "stdout"
        },
        {
          "output_type": "execute_result",
          "data": {
            "text/plain": [
              "GridSearchCV(cv=5, error_score=nan,\n",
              "             estimator=Pipeline(memory=None,\n",
              "                                steps=[('scaler',\n",
              "                                        StandardScaler(copy=True,\n",
              "                                                       with_mean=True,\n",
              "                                                       with_std=True)),\n",
              "                                       ('reg',\n",
              "                                        XGBRegressor(base_estimaotr=RandomForestRegressor(bootstrap=True,\n",
              "                                                                                          ccp_alpha=0.0,\n",
              "                                                                                          criterion='mse',\n",
              "                                                                                          max_depth=None,\n",
              "                                                                                          max_features='auto',\n",
              "                                                                                          max_leaf_nodes=None,\n",
              "                                                                                          max_samples=None,\n",
              "                                                                                          min_impurity_decrease=0.0,\n",
              "                                                                                          min_impurity...\n",
              "                                                     nthread=None,\n",
              "                                                     objective='reg:linear',\n",
              "                                                     random_state=0,\n",
              "                                                     reg_alpha=0, reg_lambda=1,\n",
              "                                                     scale_pos_weight=1,\n",
              "                                                     seed=None, silent=None,\n",
              "                                                     subsample=1,\n",
              "                                                     verbosity=1))],\n",
              "                                verbose=False),\n",
              "             iid='deprecated', n_jobs=-1,\n",
              "             param_grid={'reg__learning_rate': [0.001, 0.01, 0.1, 1],\n",
              "                         'reg__n_estimators': range(50, 500, 50)},\n",
              "             pre_dispatch='2*n_jobs', refit=True, return_train_score=False,\n",
              "             scoring=None, verbose=2)"
            ]
          },
          "metadata": {
            "tags": []
          },
          "execution_count": 403
        }
      ]
    },
    {
      "cell_type": "code",
      "metadata": {
        "colab": {
          "base_uri": "https://localhost:8080/"
        },
        "id": "_aCeR9zovQIe",
        "outputId": "f522b084-744c-48b8-c886-f1df29deddb0"
      },
      "source": [
        "g.best_estimator_\n"
      ],
      "execution_count": null,
      "outputs": [
        {
          "output_type": "execute_result",
          "data": {
            "text/plain": [
              "Pipeline(memory=None,\n",
              "         steps=[('scaler',\n",
              "                 StandardScaler(copy=True, with_mean=True, with_std=True)),\n",
              "                ('reg',\n",
              "                 XGBRegressor(base_estimaotr=RandomForestRegressor(bootstrap=True,\n",
              "                                                                   ccp_alpha=0.0,\n",
              "                                                                   criterion='mse',\n",
              "                                                                   max_depth=None,\n",
              "                                                                   max_features='auto',\n",
              "                                                                   max_leaf_nodes=None,\n",
              "                                                                   max_samples=None,\n",
              "                                                                   min_impurity_decrease=0.0,\n",
              "                                                                   min_impurity_split=None,\n",
              "                                                                   min_samples_leaf=1,\n",
              "                                                                   min_samples_s...\n",
              "                              colsample_bylevel=1, colsample_bynode=1,\n",
              "                              colsample_bytree=1, gamma=0,\n",
              "                              importance_type='gain', learning_rate=1,\n",
              "                              max_delta_step=0, max_depth=3, min_child_weight=1,\n",
              "                              missing=None, n_estimators=450, n_jobs=1,\n",
              "                              nthread=None, objective='reg:linear',\n",
              "                              random_state=0, reg_alpha=0, reg_lambda=1,\n",
              "                              scale_pos_weight=1, seed=None, silent=None,\n",
              "                              subsample=1, verbosity=1))],\n",
              "         verbose=False)"
            ]
          },
          "metadata": {
            "tags": []
          },
          "execution_count": 404
        }
      ]
    },
    {
      "cell_type": "code",
      "metadata": {
        "colab": {
          "base_uri": "https://localhost:8080/"
        },
        "id": "Qk4ua_vUvaUp",
        "outputId": "1c5a00de-74f6-4da4-a58d-00d766ea9f88"
      },
      "source": [
        "print(\"XGBoost Regressor training score :\",g.score(X_train,y_train))"
      ],
      "execution_count": null,
      "outputs": [
        {
          "output_type": "stream",
          "text": [
            "XGBoost Regressor training score : 0.9748375767851788\n"
          ],
          "name": "stdout"
        }
      ]
    },
    {
      "cell_type": "code",
      "metadata": {
        "colab": {
          "base_uri": "https://localhost:8080/"
        },
        "id": "apid2FMivchl",
        "outputId": "79392c67-bf4f-4aea-b12c-01926c3b1a47"
      },
      "source": [
        "print(\"XGBoost Regressor validation score :\",g.score(X_val,y_val))"
      ],
      "execution_count": null,
      "outputs": [
        {
          "output_type": "stream",
          "text": [
            "XGBoost Regressor validation score : 0.9322596418858172\n"
          ],
          "name": "stdout"
        }
      ]
    },
    {
      "cell_type": "code",
      "metadata": {
        "id": "jUXmDCTavfhd"
      },
      "source": [
        "# XGBoost Predict on validation data\n",
        "y_pred_xg = g.predict(X_val)"
      ],
      "execution_count": null,
      "outputs": []
    },
    {
      "cell_type": "code",
      "metadata": {
        "colab": {
          "base_uri": "https://localhost:8080/"
        },
        "id": "_mixCtUCvjpb",
        "outputId": "ebad5bec-96a2-4300-9300-d94defee87fc"
      },
      "source": [
        "print(f'XGBoost Regressor training RMSE score :{np.sqrt(mean_squared_error(y_train,g.predict(X_train)))}')\n",
        "\n",
        "# Calculate RMSE and MAE for XGBoost Regressor\n",
        "\n",
        "print(f'XGBoost Regressor validation RMSE score :{np.sqrt(mean_squared_error(y_val,y_pred_xg))}')\n",
        "print(f'XGBoost Regressor validation MAE score :{mean_absolute_error(y_val,y_pred_xg)}')"
      ],
      "execution_count": null,
      "outputs": [
        {
          "output_type": "stream",
          "text": [
            "XGBoost Regressor training RMSE score :28.812687910472796\n",
            "XGBoost Regressor validation RMSE score :47.396131332600376\n",
            "XGBoost Regressor validation MAE score :33.31445784629805\n"
          ],
          "name": "stdout"
        }
      ]
    },
    {
      "cell_type": "markdown",
      "metadata": {
        "id": "RGpauIhp0-SJ"
      },
      "source": [
        "### We will test this XGBoost Regressor model on the test data now (Xt,yt)"
      ]
    },
    {
      "cell_type": "code",
      "metadata": {
        "colab": {
          "base_uri": "https://localhost:8080/"
        },
        "id": "S34JKaDqgr4P",
        "outputId": "571246e0-c575-4af0-b8c3-4b27d33db8cb"
      },
      "source": [
        "Xt_sca = scaler.fit_transform(Xt)\n",
        "y_xg_test_pred = g.predict(Xt_sca)\n",
        "print(f'XGBoost Regressor test RMSE score :{np.sqrt(mean_squared_error(yt,y_xg_test_pred))}')\n",
        "print(f'XGBoost Regressor test MAE score :{mean_absolute_error(yt,y_xg_test_pred)}')"
      ],
      "execution_count": null,
      "outputs": [
        {
          "output_type": "stream",
          "text": [
            "XGBoost Regressor test RMSE score :49.172300591075135\n",
            "XGBoost Regressor test MAE score :34.84506285959183\n"
          ],
          "name": "stdout"
        }
      ]
    },
    {
      "cell_type": "markdown",
      "metadata": {
        "id": "VRZ-TuXDxjDA"
      },
      "source": [
        "# Final Conclusion\n",
        "* As per the RMSE, MAE scores on the test data set **Adaboost Regressor** performs the best compared to Random Forest Regressor, XGBoost Regressor, Linear Regressor, Lasso and Ridge Regressor and SV Regressor.\n",
        "\n",
        "# Hence we will choose the AdaBoost Regressor as our preferred model for the prediction of cab bookings."
      ]
    },
    {
      "cell_type": "markdown",
      "metadata": {
        "id": "xvtrXEuC5rsH"
      },
      "source": [
        "\n",
        "\n",
        "---\n",
        "\n",
        "\n",
        "\n",
        "\n",
        "\n"
      ]
    }
  ]
}