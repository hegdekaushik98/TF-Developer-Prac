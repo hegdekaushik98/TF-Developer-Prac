{
  "nbformat": 4,
  "nbformat_minor": 0,
  "metadata": {
    "colab": {
      "name": "SELF_Machine_Translation.ipynb",
      "provenance": [],
      "toc_visible": true
    },
    "kernelspec": {
      "name": "python3",
      "display_name": "Python 3"
    },
    "language_info": {
      "name": "python"
    },
    "accelerator": "GPU"
  },
  "cells": [
    {
      "cell_type": "markdown",
      "metadata": {
        "id": "NSB9kPiqeBnl"
      },
      "source": [
        "# Machine Translation using RNN GRU"
      ]
    },
    {
      "cell_type": "markdown",
      "metadata": {
        "id": "HOZvQ4AOeHDi"
      },
      "source": [
        "We will use spa.txt as training set which has a translation of English words to Spanish words. The database can be downloaded from the URL https://www.dropbox.com/s/poqpk4528x4nkp3/spa.txt\n",
        "\n",
        "\n",
        "*Workflow:*\n",
        "\n",
        "1. Understanding the problem\n",
        "2. Collecting the data\n",
        "3. Data preprocessing \n",
        "4. Build seq2seq Model using Grated Recurrent Unit (GRU)\n",
        "5. Training the dataset\n",
        "6. Translate\n"
      ]
    },
    {
      "cell_type": "markdown",
      "metadata": {
        "id": "x7TO_B0qePBj"
      },
      "source": [
        "## 1. Understanding the problem \n",
        "The problem statement is to translate the English text into Spanish. For this purpose, we will be using RNN-GRU model using sequence modeling. "
      ]
    },
    {
      "cell_type": "code",
      "metadata": {
        "colab": {
          "base_uri": "https://localhost:8080/"
        },
        "id": "ddkI03kYd0aN",
        "outputId": "b34d0302-3534-49f6-805e-28ed3662fb6b"
      },
      "source": [
        "import numpy as np # linear algebra\n",
        "import pandas as pd # data processing, CSV file I/O (e.g. pd.read_csv)\n",
        "\n",
        "# Input data files are available in the \"../input/\" directory.\n",
        "# For example, running this (by clicking run or pressing Shift+Enter) will list the files in the input directory\n",
        "\n",
        "import os\n",
        "import string\n",
        "from string import digits\n",
        "import matplotlib.pyplot as plt\n",
        "%matplotlib inline\n",
        "import re\n",
        "\n",
        "import seaborn as sns\n",
        "from sklearn.utils import shuffle\n",
        "from sklearn.model_selection import train_test_split\n",
        "from keras.layers import Input, LSTM, Embedding, Dense\n",
        "from keras.models import Model\n",
        "pd.set_option('display.max_rows', 500)\n",
        "pd.set_option('display.max_columns', 500)\n",
        "pd.set_option('display.width', 1000)\n",
        "pd.set_option('display.max_colwidth', -1)"
      ],
      "execution_count": null,
      "outputs": [
        {
          "output_type": "stream",
          "text": [
            "/usr/local/lib/python3.7/dist-packages/ipykernel_launcher.py:22: FutureWarning: Passing a negative integer is deprecated in version 1.0 and will not be supported in future version. Instead, use None to not limit the column width.\n"
          ],
          "name": "stderr"
        }
      ]
    },
    {
      "cell_type": "code",
      "metadata": {
        "colab": {
          "base_uri": "https://localhost:8080/"
        },
        "id": "UHgu69rKeQ56",
        "outputId": "da49b742-6833-4046-cd57-daafe295be7d"
      },
      "source": [
        "!wget https://www.dropbox.com/s/poqpk4528x4nkp3/spa.txt #Download the datafile from this site"
      ],
      "execution_count": null,
      "outputs": [
        {
          "output_type": "stream",
          "text": [
            "--2021-05-28 11:19:10--  https://www.dropbox.com/s/poqpk4528x4nkp3/spa.txt\n",
            "Resolving www.dropbox.com (www.dropbox.com)... 162.125.4.18, 2620:100:6016:18::a27d:112\n",
            "Connecting to www.dropbox.com (www.dropbox.com)|162.125.4.18|:443... connected.\n",
            "HTTP request sent, awaiting response... 301 Moved Permanently\n",
            "Location: /s/raw/poqpk4528x4nkp3/spa.txt [following]\n",
            "--2021-05-28 11:19:11--  https://www.dropbox.com/s/raw/poqpk4528x4nkp3/spa.txt\n",
            "Reusing existing connection to www.dropbox.com:443.\n",
            "HTTP request sent, awaiting response... 302 Found\n",
            "Location: https://ucb86d4c90e4e188f09fea194b9b.dl.dropboxusercontent.com/cd/0/inline/BPUs-tRyTd6fmlgx91sByzWKzqP5qxKJvf0ijPcS4kgsI8nn_zpD37dgPtTs6RBZT68wfJU5_fdLyQvyUbTlV_3ObqMXPo8nW7jE4pEpg2UiufPAUvgnknBknnZS5LuLaR-BfZZ6Cmr8lM8v077nGW5Y/file# [following]\n",
            "--2021-05-28 11:19:11--  https://ucb86d4c90e4e188f09fea194b9b.dl.dropboxusercontent.com/cd/0/inline/BPUs-tRyTd6fmlgx91sByzWKzqP5qxKJvf0ijPcS4kgsI8nn_zpD37dgPtTs6RBZT68wfJU5_fdLyQvyUbTlV_3ObqMXPo8nW7jE4pEpg2UiufPAUvgnknBknnZS5LuLaR-BfZZ6Cmr8lM8v077nGW5Y/file\n",
            "Resolving ucb86d4c90e4e188f09fea194b9b.dl.dropboxusercontent.com (ucb86d4c90e4e188f09fea194b9b.dl.dropboxusercontent.com)... 162.125.1.15, 2620:100:6016:15::a27d:10f\n",
            "Connecting to ucb86d4c90e4e188f09fea194b9b.dl.dropboxusercontent.com (ucb86d4c90e4e188f09fea194b9b.dl.dropboxusercontent.com)|162.125.1.15|:443... connected.\n",
            "HTTP request sent, awaiting response... 200 OK\n",
            "Length: 8303061 (7.9M) [text/plain]\n",
            "Saving to: ‘spa.txt’\n",
            "\n",
            "spa.txt             100%[===================>]   7.92M  40.8MB/s    in 0.2s    \n",
            "\n",
            "2021-05-28 11:19:11 (40.8 MB/s) - ‘spa.txt’ saved [8303061/8303061]\n",
            "\n"
          ],
          "name": "stdout"
        }
      ]
    },
    {
      "cell_type": "code",
      "metadata": {
        "id": "ALiZn3gweVAk"
      },
      "source": [
        "fi = open(\"spa.txt\", encoding = 'utf-8', mode ='r')\n",
        "data = fi.read()\n"
      ],
      "execution_count": null,
      "outputs": []
    },
    {
      "cell_type": "code",
      "metadata": {
        "colab": {
          "base_uri": "https://localhost:8080/",
          "height": 35
        },
        "id": "jw820LMBeiDY",
        "outputId": "64c4f21a-ece7-4a00-8dd8-d9312c6c383b"
      },
      "source": [
        "data[:50]"
      ],
      "execution_count": null,
      "outputs": [
        {
          "output_type": "execute_result",
          "data": {
            "application/vnd.google.colaboratory.intrinsic+json": {
              "type": "string"
            },
            "text/plain": [
              "'Go.\\tVe.\\nGo.\\tVete.\\nGo.\\tVaya.\\nGo.\\tVÃ¡yase.\\nHi.\\tHola.'"
            ]
          },
          "metadata": {
            "tags": []
          },
          "execution_count": 4
        }
      ]
    },
    {
      "cell_type": "code",
      "metadata": {
        "id": "n8DFV8UXemOi"
      },
      "source": [
        "df=[]\n",
        "for line in data.split('\\n'):\n",
        "  df.append(line.split('\\t'))"
      ],
      "execution_count": null,
      "outputs": []
    },
    {
      "cell_type": "code",
      "metadata": {
        "colab": {
          "base_uri": "https://localhost:8080/"
        },
        "id": "3S3ychCTerR7",
        "outputId": "19e59d28-f252-42d1-ca5e-6af8d7b4f976"
      },
      "source": [
        "print(df[:20])"
      ],
      "execution_count": null,
      "outputs": [
        {
          "output_type": "stream",
          "text": [
            "[['Go.', 'Ve.'], ['Go.', 'Vete.'], ['Go.', 'Vaya.'], ['Go.', 'VÃ¡yase.'], ['Hi.', 'Hola.'], ['Run!', 'Â¡Corre!'], ['Run!', 'Â¡Corran!'], ['Run!', 'Â¡Corra!'], ['Run!', 'Â¡Corred!'], ['Run.', 'Corred.'], ['Who?', 'Â¿QuiÃ©n?'], ['Wow!', 'Â¡Ã\\x93rale!'], ['Fire!', 'Â¡Fuego!'], ['Fire!', 'Â¡Incendio!'], ['Fire!', 'Â¡Disparad!'], ['Help!', 'Â¡Ayuda!'], ['Help!', 'Â¡Socorro! Â¡Auxilio!'], ['Help!', 'Â¡Auxilio!'], ['Jump!', 'Â¡Salta!'], ['Jump.', 'Salte.']]\n"
          ],
          "name": "stdout"
        }
      ]
    },
    {
      "cell_type": "code",
      "metadata": {
        "colab": {
          "base_uri": "https://localhost:8080/",
          "height": 343
        },
        "id": "qaWJICnSesxX",
        "outputId": "300a4726-5fce-4250-e9aa-99c9309c71ff"
      },
      "source": [
        "lines=pd.DataFrame(df)\n",
        "lines = lines.iloc[:,:2]\n",
        "lines.columns=['english','spanish']\n",
        "lines.head(10)\n"
      ],
      "execution_count": null,
      "outputs": [
        {
          "output_type": "execute_result",
          "data": {
            "text/html": [
              "<div>\n",
              "<style scoped>\n",
              "    .dataframe tbody tr th:only-of-type {\n",
              "        vertical-align: middle;\n",
              "    }\n",
              "\n",
              "    .dataframe tbody tr th {\n",
              "        vertical-align: top;\n",
              "    }\n",
              "\n",
              "    .dataframe thead th {\n",
              "        text-align: right;\n",
              "    }\n",
              "</style>\n",
              "<table border=\"1\" class=\"dataframe\">\n",
              "  <thead>\n",
              "    <tr style=\"text-align: right;\">\n",
              "      <th></th>\n",
              "      <th>english</th>\n",
              "      <th>spanish</th>\n",
              "    </tr>\n",
              "  </thead>\n",
              "  <tbody>\n",
              "    <tr>\n",
              "      <th>0</th>\n",
              "      <td>Go.</td>\n",
              "      <td>Ve.</td>\n",
              "    </tr>\n",
              "    <tr>\n",
              "      <th>1</th>\n",
              "      <td>Go.</td>\n",
              "      <td>Vete.</td>\n",
              "    </tr>\n",
              "    <tr>\n",
              "      <th>2</th>\n",
              "      <td>Go.</td>\n",
              "      <td>Vaya.</td>\n",
              "    </tr>\n",
              "    <tr>\n",
              "      <th>3</th>\n",
              "      <td>Go.</td>\n",
              "      <td>VÃ¡yase.</td>\n",
              "    </tr>\n",
              "    <tr>\n",
              "      <th>4</th>\n",
              "      <td>Hi.</td>\n",
              "      <td>Hola.</td>\n",
              "    </tr>\n",
              "    <tr>\n",
              "      <th>5</th>\n",
              "      <td>Run!</td>\n",
              "      <td>Â¡Corre!</td>\n",
              "    </tr>\n",
              "    <tr>\n",
              "      <th>6</th>\n",
              "      <td>Run!</td>\n",
              "      <td>Â¡Corran!</td>\n",
              "    </tr>\n",
              "    <tr>\n",
              "      <th>7</th>\n",
              "      <td>Run!</td>\n",
              "      <td>Â¡Corra!</td>\n",
              "    </tr>\n",
              "    <tr>\n",
              "      <th>8</th>\n",
              "      <td>Run!</td>\n",
              "      <td>Â¡Corred!</td>\n",
              "    </tr>\n",
              "    <tr>\n",
              "      <th>9</th>\n",
              "      <td>Run.</td>\n",
              "      <td>Corred.</td>\n",
              "    </tr>\n",
              "  </tbody>\n",
              "</table>\n",
              "</div>"
            ],
            "text/plain": [
              "  english    spanish\n",
              "0  Go.     Ve.      \n",
              "1  Go.     Vete.    \n",
              "2  Go.     Vaya.    \n",
              "3  Go.     VÃ¡yase. \n",
              "4  Hi.     Hola.    \n",
              "5  Run!    Â¡Corre! \n",
              "6  Run!    Â¡Corran!\n",
              "7  Run!    Â¡Corra! \n",
              "8  Run!    Â¡Corred!\n",
              "9  Run.    Corred.  "
            ]
          },
          "metadata": {
            "tags": []
          },
          "execution_count": 7
        }
      ]
    },
    {
      "cell_type": "code",
      "metadata": {
        "colab": {
          "base_uri": "https://localhost:8080/"
        },
        "id": "s3_GpwONe0Pr",
        "outputId": "fdf636ad-0be7-4cfe-9734-a2523724706b"
      },
      "source": [
        "print(\"Before Dropping Duplicates : \",lines.shape)\n",
        "lines.dropna(inplace = True)\n",
        "lines = lines.drop_duplicates()\n",
        "print(\"After dropping the duplicates : \", lines.shape)"
      ],
      "execution_count": null,
      "outputs": [
        {
          "output_type": "stream",
          "text": [
            "Before Dropping Duplicates :  (123771, 2)\n",
            "After dropping the duplicates :  (122746, 2)\n"
          ],
          "name": "stdout"
        }
      ]
    },
    {
      "cell_type": "code",
      "metadata": {
        "colab": {
          "base_uri": "https://localhost:8080/",
          "height": 195
        },
        "id": "oa3_aCYAfK4w",
        "outputId": "73ed704f-ab6f-476f-fb57-491a6e30e964"
      },
      "source": [
        "lines.head()"
      ],
      "execution_count": null,
      "outputs": [
        {
          "output_type": "execute_result",
          "data": {
            "text/html": [
              "<div>\n",
              "<style scoped>\n",
              "    .dataframe tbody tr th:only-of-type {\n",
              "        vertical-align: middle;\n",
              "    }\n",
              "\n",
              "    .dataframe tbody tr th {\n",
              "        vertical-align: top;\n",
              "    }\n",
              "\n",
              "    .dataframe thead th {\n",
              "        text-align: right;\n",
              "    }\n",
              "</style>\n",
              "<table border=\"1\" class=\"dataframe\">\n",
              "  <thead>\n",
              "    <tr style=\"text-align: right;\">\n",
              "      <th></th>\n",
              "      <th>english</th>\n",
              "      <th>spanish</th>\n",
              "    </tr>\n",
              "  </thead>\n",
              "  <tbody>\n",
              "    <tr>\n",
              "      <th>0</th>\n",
              "      <td>Go.</td>\n",
              "      <td>Ve.</td>\n",
              "    </tr>\n",
              "    <tr>\n",
              "      <th>1</th>\n",
              "      <td>Go.</td>\n",
              "      <td>Vete.</td>\n",
              "    </tr>\n",
              "    <tr>\n",
              "      <th>2</th>\n",
              "      <td>Go.</td>\n",
              "      <td>Vaya.</td>\n",
              "    </tr>\n",
              "    <tr>\n",
              "      <th>3</th>\n",
              "      <td>Go.</td>\n",
              "      <td>VÃ¡yase.</td>\n",
              "    </tr>\n",
              "    <tr>\n",
              "      <th>4</th>\n",
              "      <td>Hi.</td>\n",
              "      <td>Hola.</td>\n",
              "    </tr>\n",
              "  </tbody>\n",
              "</table>\n",
              "</div>"
            ],
            "text/plain": [
              "  english   spanish\n",
              "0  Go.     Ve.     \n",
              "1  Go.     Vete.   \n",
              "2  Go.     Vaya.   \n",
              "3  Go.     VÃ¡yase.\n",
              "4  Hi.     Hola.   "
            ]
          },
          "metadata": {
            "tags": []
          },
          "execution_count": 9
        }
      ]
    },
    {
      "cell_type": "code",
      "metadata": {
        "id": "QCrJQj-onQYi"
      },
      "source": [
        "lines=lines[~pd.isnull(lines['english'])]"
      ],
      "execution_count": null,
      "outputs": []
    },
    {
      "cell_type": "code",
      "metadata": {
        "colab": {
          "base_uri": "https://localhost:8080/"
        },
        "id": "c5OjvbZ7fTgy",
        "outputId": "aa804113-12db-4336-a42e-bb23e50aa5a7"
      },
      "source": [
        "# Setting a sample size of 120000 due to execution time constraints\n",
        "lines=lines.sample(n=120000,random_state=42)\n",
        "lines.shape"
      ],
      "execution_count": null,
      "outputs": [
        {
          "output_type": "execute_result",
          "data": {
            "text/plain": [
              "(120000, 2)"
            ]
          },
          "metadata": {
            "tags": []
          },
          "execution_count": 11
        }
      ]
    },
    {
      "cell_type": "markdown",
      "metadata": {
        "id": "Paht_drxfjyK"
      },
      "source": [
        "##Clean the text data"
      ]
    },
    {
      "cell_type": "code",
      "metadata": {
        "id": "bWmbPUnbflyz"
      },
      "source": [
        "#Lowercase all the characters\n",
        "lines['english'] = lines['english'].apply(lambda x : x.lower())\n",
        "lines['spanish'] = lines['spanish'].apply(lambda x : x.lower())\n",
        "\n",
        "#Remove the quotes\n",
        "lines['english'] = lines['english'].apply(lambda x: re.sub(\"'\",\"\", x))\n",
        "lines['spanish'] = lines['spanish'].apply(lambda x: re.sub(\"'\",\"\",x))\n",
        "\n",
        "#Remove spacial characters\n",
        "exclude = set(string.punctuation)\n",
        "\n",
        "lines['english'] = lines['english'].apply(lambda x : ''.join(ch for ch in x if ch not in exclude))\n",
        "lines['spanish'] = lines['spanish'].apply(lambda x : ''.join(ch for ch in x if ch not in exclude))\n",
        "\n",
        "# Remove all numbers from text\n",
        "remove_digits = str.maketrans('', '', digits)\n",
        "lines['english']=lines['english'].apply(lambda x: x.translate(remove_digits))\n",
        "lines['spanish']=lines['spanish'].apply(lambda x: x.translate(remove_digits))\n",
        "\n",
        "\n",
        "# Remove extra spaces\n",
        "lines['english']=lines['english'].apply(lambda x: x.strip())\n",
        "lines['spanish']=lines['spanish'].apply(lambda x: x.strip())\n",
        "lines['english']=lines['english'].apply(lambda x: re.sub(\" +\", \" \", x))\n",
        "lines['spanish']=lines['spanish'].apply(lambda x: re.sub(\" +\", \" \", x))\n",
        "\n",
        "#Adding start and end to spanish sentences\n",
        "lines['spanish'] = lines['spanish'].apply(lambda x: 'START_ '+ x + ' _END')"
      ],
      "execution_count": null,
      "outputs": []
    },
    {
      "cell_type": "code",
      "metadata": {
        "id": "aN5aLWt5ibMb"
      },
      "source": [
        "# set(digits)"
      ],
      "execution_count": null,
      "outputs": []
    },
    {
      "cell_type": "code",
      "metadata": {
        "id": "RvH1bWIHgRgd"
      },
      "source": [
        "# string.punctuation"
      ],
      "execution_count": null,
      "outputs": []
    },
    {
      "cell_type": "code",
      "metadata": {
        "id": "JxqKR_ebgNcZ"
      },
      "source": [
        "# exclude = set(string.punctuation)\n",
        "\n",
        "# sent =[\"m'y #nam$e I'3s'^7 KAushiK' 345*^)@# gfdg'\"]\n",
        "# seny = list(map(lambda x : x.lower(),sent))\n",
        "# seny = list(map(lambda x: re.sub(\"'\",'',x),seny))\n",
        "# seny = list(map(lambda x: ''.join(ch for ch in x if ch not in exclude),seny))\n",
        "# seny = list(map(lambda x : ''.join(ch for ch in x if ch.isnumeric() == False),seny))\n",
        "# seny"
      ],
      "execution_count": null,
      "outputs": []
    },
    {
      "cell_type": "code",
      "metadata": {
        "colab": {
          "base_uri": "https://localhost:8080/",
          "height": 195
        },
        "id": "xB1FZjuajJQr",
        "outputId": "169d52ea-a25a-47a2-d2b2-cde1667b218c"
      },
      "source": [
        "lines.head()"
      ],
      "execution_count": null,
      "outputs": [
        {
          "output_type": "execute_result",
          "data": {
            "text/html": [
              "<div>\n",
              "<style scoped>\n",
              "    .dataframe tbody tr th:only-of-type {\n",
              "        vertical-align: middle;\n",
              "    }\n",
              "\n",
              "    .dataframe tbody tr th {\n",
              "        vertical-align: top;\n",
              "    }\n",
              "\n",
              "    .dataframe thead th {\n",
              "        text-align: right;\n",
              "    }\n",
              "</style>\n",
              "<table border=\"1\" class=\"dataframe\">\n",
              "  <thead>\n",
              "    <tr style=\"text-align: right;\">\n",
              "      <th></th>\n",
              "      <th>english</th>\n",
              "      <th>spanish</th>\n",
              "    </tr>\n",
              "  </thead>\n",
              "  <tbody>\n",
              "    <tr>\n",
              "      <th>112706</th>\n",
              "      <td>tom entered his office and saw a box on his desk</td>\n",
              "      <td>START_ tom entrã³ a su oficina y vio una caja sobre el escritorio _END</td>\n",
              "    </tr>\n",
              "    <tr>\n",
              "      <th>39299</th>\n",
              "      <td>the trees were in a row</td>\n",
              "      <td>START_ los ã¡rboles estaban en lã­nea _END</td>\n",
              "    </tr>\n",
              "    <tr>\n",
              "      <th>115199</th>\n",
              "      <td>my uncle went to mexico in</td>\n",
              "      <td>START_ never to come back _END</td>\n",
              "    </tr>\n",
              "    <tr>\n",
              "      <th>39449</th>\n",
              "      <td>this book is very heavy</td>\n",
              "      <td>START_ este libro es muy pesado _END</td>\n",
              "    </tr>\n",
              "    <tr>\n",
              "      <th>11509</th>\n",
              "      <td>im sure of this</td>\n",
              "      <td>START_ estoy bastante seguro _END</td>\n",
              "    </tr>\n",
              "  </tbody>\n",
              "</table>\n",
              "</div>"
            ],
            "text/plain": [
              "                                                 english                                                                 spanish\n",
              "112706  tom entered his office and saw a box on his desk  START_ tom entrã³ a su oficina y vio una caja sobre el escritorio _END\n",
              "39299   the trees were in a row                           START_ los ã¡rboles estaban en lã­nea _END                            \n",
              "115199  my uncle went to mexico in                        START_ never to come back _END                                        \n",
              "39449   this book is very heavy                           START_ este libro es muy pesado _END                                  \n",
              "11509   im sure of this                                   START_ estoy bastante seguro _END                                     "
            ]
          },
          "metadata": {
            "tags": []
          },
          "execution_count": 16
        }
      ]
    },
    {
      "cell_type": "code",
      "metadata": {
        "colab": {
          "base_uri": "https://localhost:8080/",
          "height": 212
        },
        "id": "jEMhZX4yjP89",
        "outputId": "dbeb37c8-0f3d-41d3-919f-8eff7ccd4a2f"
      },
      "source": [
        "## GEt the english and spanish vocabulary\n",
        "\n",
        "all_eng_words = set()\n",
        "for eng in lines['english']:\n",
        "  for word in eng.split():\n",
        "    if word not in all_eng_words:\n",
        "      all_eng_words.add(word)\n",
        "\n",
        "\n",
        "all_spanish_words = set()\n",
        "for spa in lines['spanish']:\n",
        "  for word in spa.split():\n",
        "    if word not in all_spanish_words:\n",
        "      all_spanish_words.add(word)\n",
        "\n",
        "lines['length_eng_sentence'] = lines['english'].apply(lambda x: len(x.split(\" \")))\n",
        "lines['length_spa_sentence'] = lines['spanish'].apply(lambda x: len(x.split(\" \")))\n",
        "lines.head()"
      ],
      "execution_count": null,
      "outputs": [
        {
          "output_type": "execute_result",
          "data": {
            "text/html": [
              "<div>\n",
              "<style scoped>\n",
              "    .dataframe tbody tr th:only-of-type {\n",
              "        vertical-align: middle;\n",
              "    }\n",
              "\n",
              "    .dataframe tbody tr th {\n",
              "        vertical-align: top;\n",
              "    }\n",
              "\n",
              "    .dataframe thead th {\n",
              "        text-align: right;\n",
              "    }\n",
              "</style>\n",
              "<table border=\"1\" class=\"dataframe\">\n",
              "  <thead>\n",
              "    <tr style=\"text-align: right;\">\n",
              "      <th></th>\n",
              "      <th>english</th>\n",
              "      <th>spanish</th>\n",
              "      <th>length_eng_sentence</th>\n",
              "      <th>length_spa_sentence</th>\n",
              "    </tr>\n",
              "  </thead>\n",
              "  <tbody>\n",
              "    <tr>\n",
              "      <th>112706</th>\n",
              "      <td>tom entered his office and saw a box on his desk</td>\n",
              "      <td>START_ tom entrã³ a su oficina y vio una caja sobre el escritorio _END</td>\n",
              "      <td>11</td>\n",
              "      <td>14</td>\n",
              "    </tr>\n",
              "    <tr>\n",
              "      <th>39299</th>\n",
              "      <td>the trees were in a row</td>\n",
              "      <td>START_ los ã¡rboles estaban en lã­nea _END</td>\n",
              "      <td>6</td>\n",
              "      <td>7</td>\n",
              "    </tr>\n",
              "    <tr>\n",
              "      <th>115199</th>\n",
              "      <td>my uncle went to mexico in</td>\n",
              "      <td>START_ never to come back _END</td>\n",
              "      <td>6</td>\n",
              "      <td>6</td>\n",
              "    </tr>\n",
              "    <tr>\n",
              "      <th>39449</th>\n",
              "      <td>this book is very heavy</td>\n",
              "      <td>START_ este libro es muy pesado _END</td>\n",
              "      <td>5</td>\n",
              "      <td>7</td>\n",
              "    </tr>\n",
              "    <tr>\n",
              "      <th>11509</th>\n",
              "      <td>im sure of this</td>\n",
              "      <td>START_ estoy bastante seguro _END</td>\n",
              "      <td>4</td>\n",
              "      <td>5</td>\n",
              "    </tr>\n",
              "  </tbody>\n",
              "</table>\n",
              "</div>"
            ],
            "text/plain": [
              "                                                 english                                                                 spanish  length_eng_sentence  length_spa_sentence\n",
              "112706  tom entered his office and saw a box on his desk  START_ tom entrã³ a su oficina y vio una caja sobre el escritorio _END  11                   14                 \n",
              "39299   the trees were in a row                           START_ los ã¡rboles estaban en lã­nea _END                              6                    7                  \n",
              "115199  my uncle went to mexico in                        START_ never to come back _END                                          6                    6                  \n",
              "39449   this book is very heavy                           START_ este libro es muy pesado _END                                    5                    7                  \n",
              "11509   im sure of this                                   START_ estoy bastante seguro _END                                       4                    5                  "
            ]
          },
          "metadata": {
            "tags": []
          },
          "execution_count": 17
        }
      ]
    },
    {
      "cell_type": "code",
      "metadata": {
        "colab": {
          "base_uri": "https://localhost:8080/"
        },
        "id": "lwmypgOEj45C",
        "outputId": "a36b10c7-fbad-47cd-f895-7dcd3807cd4a"
      },
      "source": [
        "len(all_eng_words), len(all_spanish_words)"
      ],
      "execution_count": null,
      "outputs": [
        {
          "output_type": "execute_result",
          "data": {
            "text/plain": [
              "(13141, 28639)"
            ]
          },
          "metadata": {
            "tags": []
          },
          "execution_count": 18
        }
      ]
    },
    {
      "cell_type": "code",
      "metadata": {
        "colab": {
          "base_uri": "https://localhost:8080/"
        },
        "id": "Dj3NIZ0nj6kM",
        "outputId": "a0cfc113-ab6b-4bda-dc03-d844e92bdf82"
      },
      "source": [
        "list(all_eng_words)[:5]"
      ],
      "execution_count": null,
      "outputs": [
        {
          "output_type": "execute_result",
          "data": {
            "text/plain": [
              "['stings', 'nicotine', 'method', 'exercising', 'wages']"
            ]
          },
          "metadata": {
            "tags": []
          },
          "execution_count": 19
        }
      ]
    },
    {
      "cell_type": "code",
      "metadata": {
        "colab": {
          "base_uri": "https://localhost:8080/"
        },
        "id": "nJQU5lXykBlU",
        "outputId": "42018aa6-fde1-4fe7-e264-b9250948c346"
      },
      "source": [
        "list(all_spanish_words)[:5]"
      ],
      "execution_count": null,
      "outputs": [
        {
          "output_type": "execute_result",
          "data": {
            "text/plain": [
              "['recibirã¡n', 'eleves', 'leerte', 'policã\\xadaca', 'alcohol']"
            ]
          },
          "metadata": {
            "tags": []
          },
          "execution_count": 20
        }
      ]
    },
    {
      "cell_type": "code",
      "metadata": {
        "colab": {
          "base_uri": "https://localhost:8080/"
        },
        "id": "NBuewr5DkQRZ",
        "outputId": "6e9ad49e-ea23-4c6c-a02b-0fac9e92adfa"
      },
      "source": [
        "lines = lines[lines['length_eng_sentence']<=20]\n",
        "lines = lines[lines['length_spa_sentence']<=20]\n",
        "print('Max length of Spanish sentence: ', max(lines['length_spa_sentence']))\n",
        "print('Max length of English sentence: ', max(lines['length_eng_sentence']))\n",
        "\n",
        "max_length_src=max(lines['length_spa_sentence'])\n",
        "max_length_tar=max(lines['length_eng_sentence'])\n",
        "\n",
        "input_words = sorted(list(all_eng_words))\n",
        "target_words = sorted(list(all_spanish_words))\n",
        "num_encoder_tokens = len(all_eng_words)\n",
        "num_decoder_tokens = len(all_spanish_words)\n",
        "\n",
        "num_encoder_tokens += 1\n",
        "num_decoder_tokens +=1 # Zero padding\n",
        "\n"
      ],
      "execution_count": null,
      "outputs": [
        {
          "output_type": "stream",
          "text": [
            "Max length of Spanish sentence:  20\n",
            "Max length of English sentence:  20\n"
          ],
          "name": "stdout"
        }
      ]
    },
    {
      "cell_type": "code",
      "metadata": {
        "colab": {
          "base_uri": "https://localhost:8080/"
        },
        "id": "wTxBbj7_lhfH",
        "outputId": "2b7cfd3c-2753-4a10-df66-49543e29f4cf"
      },
      "source": [
        "print(input_words[:5])"
      ],
      "execution_count": null,
      "outputs": [
        {
          "output_type": "stream",
          "text": [
            "['a', 'aardvark', 'aardvarks', 'aaron', 'aback']\n"
          ],
          "name": "stdout"
        }
      ]
    },
    {
      "cell_type": "code",
      "metadata": {
        "colab": {
          "base_uri": "https://localhost:8080/"
        },
        "id": "5GIAR2Alll3X",
        "outputId": "aa1cba0e-3047-4d7e-a587-ac58b272e383"
      },
      "source": [
        "print(target_words[:20])"
      ],
      "execution_count": null,
      "outputs": [
        {
          "output_type": "stream",
          "text": [
            "['START_', '_END', 'a', 'aabe', 'aah', 'aaron', 'abajo', 'abandon', 'abandona', 'abandonada', 'abandonadas', 'abandonado', 'abandonados', 'abandonamos', 'abandonan', 'abandonar', 'abandonaremos', 'abandonarlo', 'abandonarlos', 'abandonaron']\n"
          ],
          "name": "stdout"
        }
      ]
    },
    {
      "cell_type": "code",
      "metadata": {
        "id": "Aiq3Xl0LldW2"
      },
      "source": [
        "input_token_index = dict([(word,i+1) for i, word in enumerate(input_words)])\n",
        "target_token_index = dict([(word,i+1) for i,word in enumerate(target_words)])"
      ],
      "execution_count": null,
      "outputs": []
    },
    {
      "cell_type": "code",
      "metadata": {
        "colab": {
          "base_uri": "https://localhost:8080/"
        },
        "id": "OLx09zTHl9NK",
        "outputId": "ff05ed95-9429-4165-ea93-c7e17e9649ca"
      },
      "source": [
        "input_token_index['word']"
      ],
      "execution_count": null,
      "outputs": [
        {
          "output_type": "execute_result",
          "data": {
            "text/plain": [
              "12980"
            ]
          },
          "metadata": {
            "tags": []
          },
          "execution_count": 25
        }
      ]
    },
    {
      "cell_type": "code",
      "metadata": {
        "colab": {
          "base_uri": "https://localhost:8080/"
        },
        "id": "JOmhukL8mLLH",
        "outputId": "b5938cc4-ee9c-482c-f041-400783093198"
      },
      "source": [
        "target_token_index['abandonadas']"
      ],
      "execution_count": null,
      "outputs": [
        {
          "output_type": "execute_result",
          "data": {
            "text/plain": [
              "11"
            ]
          },
          "metadata": {
            "tags": []
          },
          "execution_count": 26
        }
      ]
    },
    {
      "cell_type": "code",
      "metadata": {
        "colab": {
          "base_uri": "https://localhost:8080/",
          "height": 212
        },
        "id": "RQNXJG6bmRwF",
        "outputId": "93f68271-7044-42cf-f91d-6c39d1d1ad52"
      },
      "source": [
        "reverse_input_char_index = dict((i,word) for word, i in input_token_index.items())\n",
        "reverse_target_char_index = dict((i,word) for word,i in target_token_index.items())\n",
        "lines.head(5)"
      ],
      "execution_count": null,
      "outputs": [
        {
          "output_type": "execute_result",
          "data": {
            "text/html": [
              "<div>\n",
              "<style scoped>\n",
              "    .dataframe tbody tr th:only-of-type {\n",
              "        vertical-align: middle;\n",
              "    }\n",
              "\n",
              "    .dataframe tbody tr th {\n",
              "        vertical-align: top;\n",
              "    }\n",
              "\n",
              "    .dataframe thead th {\n",
              "        text-align: right;\n",
              "    }\n",
              "</style>\n",
              "<table border=\"1\" class=\"dataframe\">\n",
              "  <thead>\n",
              "    <tr style=\"text-align: right;\">\n",
              "      <th></th>\n",
              "      <th>english</th>\n",
              "      <th>spanish</th>\n",
              "      <th>length_eng_sentence</th>\n",
              "      <th>length_spa_sentence</th>\n",
              "    </tr>\n",
              "  </thead>\n",
              "  <tbody>\n",
              "    <tr>\n",
              "      <th>112706</th>\n",
              "      <td>tom entered his office and saw a box on his desk</td>\n",
              "      <td>START_ tom entrã³ a su oficina y vio una caja sobre el escritorio _END</td>\n",
              "      <td>11</td>\n",
              "      <td>14</td>\n",
              "    </tr>\n",
              "    <tr>\n",
              "      <th>39299</th>\n",
              "      <td>the trees were in a row</td>\n",
              "      <td>START_ los ã¡rboles estaban en lã­nea _END</td>\n",
              "      <td>6</td>\n",
              "      <td>7</td>\n",
              "    </tr>\n",
              "    <tr>\n",
              "      <th>115199</th>\n",
              "      <td>my uncle went to mexico in</td>\n",
              "      <td>START_ never to come back _END</td>\n",
              "      <td>6</td>\n",
              "      <td>6</td>\n",
              "    </tr>\n",
              "    <tr>\n",
              "      <th>39449</th>\n",
              "      <td>this book is very heavy</td>\n",
              "      <td>START_ este libro es muy pesado _END</td>\n",
              "      <td>5</td>\n",
              "      <td>7</td>\n",
              "    </tr>\n",
              "    <tr>\n",
              "      <th>11509</th>\n",
              "      <td>im sure of this</td>\n",
              "      <td>START_ estoy bastante seguro _END</td>\n",
              "      <td>4</td>\n",
              "      <td>5</td>\n",
              "    </tr>\n",
              "  </tbody>\n",
              "</table>\n",
              "</div>"
            ],
            "text/plain": [
              "                                                 english                                                                 spanish  length_eng_sentence  length_spa_sentence\n",
              "112706  tom entered his office and saw a box on his desk  START_ tom entrã³ a su oficina y vio una caja sobre el escritorio _END  11                   14                 \n",
              "39299   the trees were in a row                           START_ los ã¡rboles estaban en lã­nea _END                              6                    7                  \n",
              "115199  my uncle went to mexico in                        START_ never to come back _END                                          6                    6                  \n",
              "39449   this book is very heavy                           START_ este libro es muy pesado _END                                    5                    7                  \n",
              "11509   im sure of this                                   START_ estoy bastante seguro _END                                       4                    5                  "
            ]
          },
          "metadata": {
            "tags": []
          },
          "execution_count": 27
        }
      ]
    },
    {
      "cell_type": "code",
      "metadata": {
        "colab": {
          "base_uri": "https://localhost:8080/",
          "height": 195
        },
        "id": "qo1twnPbmpNv",
        "outputId": "568bd725-64df-4677-9b1a-bac1cfee146f"
      },
      "source": [
        "lines= shuffle(lines)\n",
        "lines.head()"
      ],
      "execution_count": null,
      "outputs": [
        {
          "output_type": "execute_result",
          "data": {
            "text/html": [
              "<div>\n",
              "<style scoped>\n",
              "    .dataframe tbody tr th:only-of-type {\n",
              "        vertical-align: middle;\n",
              "    }\n",
              "\n",
              "    .dataframe tbody tr th {\n",
              "        vertical-align: top;\n",
              "    }\n",
              "\n",
              "    .dataframe thead th {\n",
              "        text-align: right;\n",
              "    }\n",
              "</style>\n",
              "<table border=\"1\" class=\"dataframe\">\n",
              "  <thead>\n",
              "    <tr style=\"text-align: right;\">\n",
              "      <th></th>\n",
              "      <th>english</th>\n",
              "      <th>spanish</th>\n",
              "      <th>length_eng_sentence</th>\n",
              "      <th>length_spa_sentence</th>\n",
              "    </tr>\n",
              "  </thead>\n",
              "  <tbody>\n",
              "    <tr>\n",
              "      <th>101301</th>\n",
              "      <td>i think that japan is a very safe country</td>\n",
              "      <td>START_ creo que japã³n es un paã­s muy seguro _END</td>\n",
              "      <td>9</td>\n",
              "      <td>10</td>\n",
              "    </tr>\n",
              "    <tr>\n",
              "      <th>59245</th>\n",
              "      <td>i didnt even bring a jacket</td>\n",
              "      <td>START_ yo ni siquiera traje una chaqueta _END</td>\n",
              "      <td>6</td>\n",
              "      <td>8</td>\n",
              "    </tr>\n",
              "    <tr>\n",
              "      <th>61947</th>\n",
              "      <td>we have to move very quickly</td>\n",
              "      <td>START_ debemos movernos muy rã¡pido _END</td>\n",
              "      <td>6</td>\n",
              "      <td>6</td>\n",
              "    </tr>\n",
              "    <tr>\n",
              "      <th>102661</th>\n",
              "      <td>how long will it take about two weeks</td>\n",
              "      <td>START_ â¿cuã¡nto tardarã¡ cerca de unas dos semanas _END</td>\n",
              "      <td>8</td>\n",
              "      <td>9</td>\n",
              "    </tr>\n",
              "    <tr>\n",
              "      <th>34831</th>\n",
              "      <td>the dog must be hungry</td>\n",
              "      <td>START_ el perro debe de estar hambriento _END</td>\n",
              "      <td>5</td>\n",
              "      <td>8</td>\n",
              "    </tr>\n",
              "  </tbody>\n",
              "</table>\n",
              "</div>"
            ],
            "text/plain": [
              "                                          english                                                   spanish  length_eng_sentence  length_spa_sentence\n",
              "101301  i think that japan is a very safe country  START_ creo que japã³n es un paã­s muy seguro _END        9                    10                 \n",
              "59245   i didnt even bring a jacket                START_ yo ni siquiera traje una chaqueta _END             6                    8                  \n",
              "61947   we have to move very quickly               START_ debemos movernos muy rã¡pido _END                  6                    6                  \n",
              "102661  how long will it take about two weeks      START_ â¿cuã¡nto tardarã¡ cerca de unas dos semanas _END  8                    9                  \n",
              "34831   the dog must be hungry                     START_ el perro debe de estar hambriento _END             5                    8                  "
            ]
          },
          "metadata": {
            "tags": []
          },
          "execution_count": 28
        }
      ]
    },
    {
      "cell_type": "code",
      "metadata": {
        "colab": {
          "base_uri": "https://localhost:8080/"
        },
        "id": "d8htNf7HmxDD",
        "outputId": "6f826a8d-473d-491e-cecc-409be7b9cfdc"
      },
      "source": [
        "X, y = lines['english'], lines['spanish']\n",
        "X_train, X_test, y_train, y_test = train_test_split(X, y, test_size = 0.2,random_state=42)\n",
        "X_train.shape, X_test.shape"
      ],
      "execution_count": null,
      "outputs": [
        {
          "output_type": "execute_result",
          "data": {
            "text/plain": [
              "((95880,), (23970,))"
            ]
          },
          "metadata": {
            "tags": []
          },
          "execution_count": 29
        }
      ]
    },
    {
      "cell_type": "code",
      "metadata": {
        "colab": {
          "base_uri": "https://localhost:8080/"
        },
        "id": "yoHzSH9ymzYH",
        "outputId": "608031cd-41f4-4a9f-d8a6-ac92e99064d9"
      },
      "source": [
        "X_train.head()"
      ],
      "execution_count": null,
      "outputs": [
        {
          "output_type": "execute_result",
          "data": {
            "text/plain": [
              "54310    he has a strong personality         \n",
              "85848    how did you become a police officer \n",
              "89026    i have never seen a red refrigerator\n",
              "39090    that candle isnt white              \n",
              "81830    wholl take care of your cat then    \n",
              "Name: english, dtype: object"
            ]
          },
          "metadata": {
            "tags": []
          },
          "execution_count": 30
        }
      ]
    },
    {
      "cell_type": "code",
      "metadata": {
        "colab": {
          "base_uri": "https://localhost:8080/"
        },
        "id": "jCQXm9vZm1TF",
        "outputId": "61dc8cd2-7f3b-44dd-c6d7-dac50527d506"
      },
      "source": [
        "y_train.head()"
      ],
      "execution_count": null,
      "outputs": [
        {
          "output_type": "execute_result",
          "data": {
            "text/plain": [
              "54310    START_ ãl tiene una fuerte personalidad _END             \n",
              "85848    START_ â¿cã³mo llegaste a ser un oficial de policã­a _END \n",
              "89026    START_ nunca he visto un frigorã­fico rojo _END           \n",
              "39090    START_ esa vela no es blanca _END                         \n",
              "81830    START_ en ese caso â¿quiã©n se va a ocupar de tu gato _END\n",
              "Name: spanish, dtype: object"
            ]
          },
          "metadata": {
            "tags": []
          },
          "execution_count": 31
        }
      ]
    },
    {
      "cell_type": "markdown",
      "metadata": {
        "id": "Au5aY4I4nbmG"
      },
      "source": [
        "##Generator to generate the data for training"
      ]
    },
    {
      "cell_type": "code",
      "metadata": {
        "id": "4OGoG1rjm5y5"
      },
      "source": [
        "def generate_batch(X = X_train, y = y_train, batch_size = 128):\n",
        "    ''' Generate a batch of data '''\n",
        "    while True:\n",
        "        for j in range(0, len(X), batch_size):\n",
        "            encoder_input_data = np.zeros((batch_size, max_length_src),dtype='float32')\n",
        "            decoder_input_data = np.zeros((batch_size, max_length_tar),dtype='float32')\n",
        "            decoder_target_data = np.zeros((batch_size, max_length_tar, num_decoder_tokens),dtype='float32')\n",
        "            for i, (input_text, target_text) in enumerate(zip(X[j:j+batch_size], y[j:j+batch_size])):\n",
        "                for t, word in enumerate(input_text.split()):\n",
        "                    encoder_input_data[i, t] = input_token_index[word] # encoder input seq\n",
        "                for t, word in enumerate(target_text.split()):\n",
        "                    if t<len(target_text.split())-1:\n",
        "                        decoder_input_data[i, t] = target_token_index[word] # decoder input seq\n",
        "                    if t>0:\n",
        "                        # decoder target sequence (one hot encoded)\n",
        "                        # does not include the START_ token\n",
        "                        # Offset by one timestep\n",
        "                        decoder_target_data[i, t - 1, target_token_index[word]] = 1.\n",
        "            yield([encoder_input_data, decoder_input_data], decoder_target_data)"
      ],
      "execution_count": null,
      "outputs": []
    },
    {
      "cell_type": "markdown",
      "metadata": {
        "id": "nG9y0IZQqsgc"
      },
      "source": [
        "##Create the model"
      ]
    },
    {
      "cell_type": "code",
      "metadata": {
        "id": "K2ZyZbi3qReH"
      },
      "source": [
        "#Model\n",
        "\n",
        "latent_dim=300\n",
        "# Encoder\n",
        "encoder_inputs = Input(shape=(None, ))\n",
        "enc_emb =  Embedding(num_encoder_tokens, latent_dim, mask_zero = True)(encoder_inputs)\n",
        "encoder_lstm = LSTM(latent_dim, return_state=True)\n",
        "encoder_outputs, state_h, state_c = encoder_lstm(enc_emb)\n",
        "# We discard `encoder_outputs` and only keep the states.\n",
        "encoder_states = [state_h, state_c]\n",
        "# Set up the decoder, using `encoder_states` as initial state.\n",
        "\n",
        "\n",
        "decoder_inputs = Input(shape=(None,))\n",
        "dec_emb_layer = Embedding(num_decoder_tokens, latent_dim, mask_zero = True)\n",
        "dec_emb = dec_emb_layer(decoder_inputs)\n",
        "# We set up our decoder to return full output sequences,\n",
        "# and to return internal states as well. We don't use the\n",
        "# return states in the training model, but we will use them in inference.\n",
        "decoder_lstm = LSTM(latent_dim, return_sequences=True, return_state=True)\n",
        "decoder_outputs, _, _ = decoder_lstm(dec_emb,\n",
        "                                     initial_state=encoder_states)\n",
        "decoder_dense = Dense(num_decoder_tokens, activation='softmax')\n",
        "decoder_outputs = decoder_dense(decoder_outputs)\n",
        "\n",
        "# Define the model that will turn\n",
        "# `encoder_input_data` & `decoder_input_data` into `decoder_target_data`\n",
        "model = Model([encoder_inputs, decoder_inputs], decoder_outputs)"
      ],
      "execution_count": null,
      "outputs": []
    },
    {
      "cell_type": "code",
      "metadata": {
        "colab": {
          "base_uri": "https://localhost:8080/"
        },
        "id": "SRWbDvAAqydt",
        "outputId": "15225813-1cc1-4ac6-f99e-f81ad9c377f5"
      },
      "source": [
        "model.summary()"
      ],
      "execution_count": null,
      "outputs": [
        {
          "output_type": "stream",
          "text": [
            "Model: \"model_2\"\n",
            "__________________________________________________________________________________________________\n",
            "Layer (type)                    Output Shape         Param #     Connected to                     \n",
            "==================================================================================================\n",
            "input_5 (InputLayer)            [(None, None)]       0                                            \n",
            "__________________________________________________________________________________________________\n",
            "input_6 (InputLayer)            [(None, None)]       0                                            \n",
            "__________________________________________________________________________________________________\n",
            "embedding_4 (Embedding)         (None, None, 300)    3942600     input_5[0][0]                    \n",
            "__________________________________________________________________________________________________\n",
            "embedding_5 (Embedding)         (None, None, 300)    8592000     input_6[0][0]                    \n",
            "__________________________________________________________________________________________________\n",
            "lstm_4 (LSTM)                   [(None, 300), (None, 721200      embedding_4[0][0]                \n",
            "__________________________________________________________________________________________________\n",
            "lstm_5 (LSTM)                   [(None, None, 300),  721200      embedding_5[0][0]                \n",
            "                                                                 lstm_4[0][1]                     \n",
            "                                                                 lstm_4[0][2]                     \n",
            "__________________________________________________________________________________________________\n",
            "dense_2 (Dense)                 (None, None, 28640)  8620640     lstm_5[0][0]                     \n",
            "==================================================================================================\n",
            "Total params: 22,597,640\n",
            "Trainable params: 22,597,640\n",
            "Non-trainable params: 0\n",
            "__________________________________________________________________________________________________\n"
          ],
          "name": "stdout"
        }
      ]
    },
    {
      "cell_type": "code",
      "metadata": {
        "id": "Vv9ZWaQSqzm4"
      },
      "source": [
        "model.compile(optimizer='Adam', loss='categorical_crossentropy')"
      ],
      "execution_count": null,
      "outputs": []
    },
    {
      "cell_type": "code",
      "metadata": {
        "colab": {
          "base_uri": "https://localhost:8080/",
          "height": 466
        },
        "id": "hihgKxTjrDqJ",
        "outputId": "b137efd4-ed6c-4cf6-ae7c-64e2eaeda1d8"
      },
      "source": [
        "import tensorflow as tf\n",
        "tf.keras.utils.plot_model(model)"
      ],
      "execution_count": null,
      "outputs": [
        {
          "output_type": "execute_result",
          "data": {
            "image/png": "[encoded data removed]",
            "text/plain": [
              "<IPython.core.display.Image object>"
            ]
          },
          "metadata": {
            "tags": []
          },
          "execution_count": 58
        }
      ]
    },
    {
      "cell_type": "code",
      "metadata": {
        "id": "UXhepye-rLB-"
      },
      "source": [
        "train_samples = len(X_train)\n",
        "val_samples = len(X_test)\n",
        "batch_size = 128\n",
        "epochs = 10"
      ],
      "execution_count": null,
      "outputs": []
    },
    {
      "cell_type": "code",
      "metadata": {
        "colab": {
          "base_uri": "https://localhost:8080/"
        },
        "id": "LBy65SYBrSDN",
        "outputId": "008ceb9a-78d6-4ba3-cb36-48beb0a09a0d"
      },
      "source": [
        "train_samples,val_samples"
      ],
      "execution_count": null,
      "outputs": [
        {
          "output_type": "execute_result",
          "data": {
            "text/plain": [
              "(95880, 23970)"
            ]
          },
          "metadata": {
            "tags": []
          },
          "execution_count": 60
        }
      ]
    },
    {
      "cell_type": "code",
      "metadata": {
        "colab": {
          "base_uri": "https://localhost:8080/"
        },
        "id": "GmK_SVgerUgE",
        "outputId": "d8a0f6cd-1fc9-476c-a310-3586480e1baf"
      },
      "source": [
        "model_lite = model.fit_generator(generator = generate_batch(X_train, y_train, batch_size = batch_size),\n",
        "                    steps_per_epoch = train_samples//batch_size,\n",
        "                    epochs=epochs,\n",
        "                    validation_data = generate_batch(X_test, y_test, batch_size = batch_size),\n",
        "                    validation_steps = val_samples//batch_size)"
      ],
      "execution_count": null,
      "outputs": [
        {
          "output_type": "stream",
          "text": [
            "/usr/local/lib/python3.7/dist-packages/keras/engine/training.py:1915: UserWarning: `Model.fit_generator` is deprecated and will be removed in a future version. Please use `Model.fit`, which supports generators.\n",
            "  warnings.warn('`Model.fit_generator` is deprecated and '\n"
          ],
          "name": "stderr"
        },
        {
          "output_type": "stream",
          "text": [
            "Epoch 1/10\n",
            "749/749 [==============================] - 272s 354ms/step - loss: 2.1962 - val_loss: 1.6026\n",
            "Epoch 2/10\n",
            "749/749 [==============================] - 260s 348ms/step - loss: 1.4767 - val_loss: 1.2964\n",
            "Epoch 3/10\n",
            "749/749 [==============================] - 260s 347ms/step - loss: 1.1767 - val_loss: 1.1318\n",
            "Epoch 4/10\n",
            "749/749 [==============================] - 261s 349ms/step - loss: 0.9756 - val_loss: 1.0224\n",
            "Epoch 5/10\n",
            "749/749 [==============================] - 260s 348ms/step - loss: 0.8183 - val_loss: 0.9497\n",
            "Epoch 6/10\n",
            "749/749 [==============================] - 259s 346ms/step - loss: 0.6898 - val_loss: 0.9029\n",
            "Epoch 7/10\n",
            "749/749 [==============================] - 259s 345ms/step - loss: 0.5838 - val_loss: 0.8708\n",
            "Epoch 8/10\n",
            "749/749 [==============================] - 261s 349ms/step - loss: 0.4971 - val_loss: 0.8537\n",
            "Epoch 9/10\n",
            "749/749 [==============================] - 262s 350ms/step - loss: 0.4252 - val_loss: 0.8442\n",
            "Epoch 10/10\n",
            "749/749 [==============================] - 262s 349ms/step - loss: 0.3657 - val_loss: 0.8456\n"
          ],
          "name": "stdout"
        }
      ]
    },
    {
      "cell_type": "code",
      "metadata": {
        "id": "88R6jNwcrXrc"
      },
      "source": [
        "model.save_weights('nmt_weights.h5')"
      ],
      "execution_count": null,
      "outputs": []
    },
    {
      "cell_type": "code",
      "metadata": {
        "id": "NgEJ1MBiroTS"
      },
      "source": [
        "model.save_weights('machine_translation.h5')"
      ],
      "execution_count": null,
      "outputs": []
    },
    {
      "cell_type": "markdown",
      "metadata": {
        "id": "6BN2qIlr_oHR"
      },
      "source": [
        "##Generate Translation"
      ]
    },
    {
      "cell_type": "code",
      "metadata": {
        "id": "iAorEE5lhjZR"
      },
      "source": [
        "# Encode the input sequence to get the \"thought vectors\"\n",
        "encoder_model = Model(encoder_inputs, encoder_states)\n",
        "\n",
        "# Decoder setup\n",
        "# Below tensors will hold the states of the previous time step\n",
        "decoder_state_input_h = Input(shape=(latent_dim,))\n",
        "decoder_state_input_c = Input(shape=(latent_dim,))\n",
        "decoder_states_inputs = [decoder_state_input_h, decoder_state_input_c]\n",
        "\n",
        "dec_emb2= dec_emb_layer(decoder_inputs) # Get the embeddings of the decoder sequence\n",
        "\n",
        "# To predict the next word in the sequence, set the initial states to the states from the previous time step\n",
        "decoder_outputs2, state_h2, state_c2 = decoder_lstm(dec_emb2, initial_state=decoder_states_inputs)\n",
        "decoder_states2 = [state_h2, state_c2]\n",
        "decoder_outputs2 = decoder_dense(decoder_outputs2) # A dense softmax layer to generate prob dist. over the target vocabulary\n",
        "\n",
        "# Final decoder model\n",
        "decoder_model = Model(\n",
        "    [decoder_inputs] + decoder_states_inputs,\n",
        "    [decoder_outputs2] + decoder_states2)\n",
        "\n",
        "\n",
        "def decode_sequence(input_seq):\n",
        "    # Encode the input as state vectors.\n",
        "    states_value = encoder_model.predict(input_seq)\n",
        "    # Generate empty target sequence of length 1.\n",
        "    target_seq = np.zeros((1,1))\n",
        "    # Populate the first character of target sequence with the start character.\n",
        "    target_seq[0, 0] = target_token_index['START_']\n",
        "\n",
        "    # Sampling loop for a batch of sequences\n",
        "    # (to simplify, here we assume a batch of size 1).\n",
        "    stop_condition = False\n",
        "    decoded_sentence = ''\n",
        "    while not stop_condition:\n",
        "        output_tokens, h, c = decoder_model.predict([target_seq] + states_value)\n",
        "\n",
        "        # Sample a token\n",
        "        sampled_token_index = np.argmax(output_tokens[0, -1, :])\n",
        "        sampled_char = reverse_target_char_index[sampled_token_index]\n",
        "        decoded_sentence += ' '+sampled_char\n",
        "\n",
        "        # Exit condition: either hit max length\n",
        "        # or find stop character.\n",
        "        if (sampled_char == '_END' or\n",
        "           len(decoded_sentence) > 50):\n",
        "            stop_condition = True\n",
        "\n",
        "        # Update the target sequence (of length 1).\n",
        "        target_seq = np.zeros((1,1))\n",
        "        target_seq[0, 0] = sampled_token_index\n",
        "\n",
        "        # Update states\n",
        "        states_value = [h, c]\n",
        "\n",
        "    return decoded_sentence"
      ],
      "execution_count": null,
      "outputs": []
    },
    {
      "cell_type": "code",
      "metadata": {
        "id": "nED_M_0Ciy1J"
      },
      "source": [
        "train_gen = generate_batch(X_train, y_train, batch_size = 1)\n",
        "k=-1"
      ],
      "execution_count": null,
      "outputs": []
    },
    {
      "cell_type": "code",
      "metadata": {
        "id": "HwKG6pNli1EU",
        "colab": {
          "base_uri": "https://localhost:8080/"
        },
        "outputId": "9ae53fb9-697c-4529-d80f-82d72dc0f78d"
      },
      "source": [
        "k+=1\n",
        "(input_seq, actual_output), _ = next(train_gen)\n",
        "decoded_sentence = decode_sequence(input_seq)\n",
        "print('Input English sentence:', X_train[k:k+1].values[0])\n",
        "print('Actual Spanish Translation:', y_train[k:k+1].values[0][6:-4])\n",
        "print('Predicted Spanish Translation:', decoded_sentence[:-4])"
      ],
      "execution_count": null,
      "outputs": [
        {
          "output_type": "stream",
          "text": [
            "Input English sentence: i have never seen a red refrigerator\n",
            "Actual Spanish Translation:  nunca he visto un frigorã­fico rojo \n",
            "Predicted Spanish Translation:  nunca he visto un frigo rojo \n"
          ],
          "name": "stdout"
        }
      ]
    },
    {
      "cell_type": "code",
      "metadata": {
        "id": "RsLp9xVHv8yu"
      },
      "source": [
        ""
      ],
      "execution_count": null,
      "outputs": []
    }
  ]
}